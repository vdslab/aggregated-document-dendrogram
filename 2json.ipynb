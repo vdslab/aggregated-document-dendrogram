{
  "nbformat": 4,
  "nbformat_minor": 0,
  "metadata": {
    "colab": {
      "name": "2json.ipynb",
      "provenance": [],
      "collapsed_sections": [],
      "toc_visible": true,
      "mount_file_id": "1Cq7wq6P0yQdZwcROFR4JijG-7kYTqa3K",
      "authorship_tag": "ABX9TyO4MIM44DgS22diVO8svTtm",
      "include_colab_link": true
    },
    "kernelspec": {
      "name": "python3",
      "display_name": "Python 3"
    },
    "language_info": {
      "name": "python"
    }
  },
  "cells": [
    {
      "cell_type": "markdown",
      "metadata": {
        "id": "view-in-github",
        "colab_type": "text"
      },
      "source": [
        "<a href=\"https://colab.research.google.com/github/vdslab/t-taiki0620/blob/main/2json.ipynb\" target=\"_parent\"><img src=\"https://colab.research.google.com/assets/colab-badge.svg\" alt=\"Open In Colab\"/></a>"
      ]
    },
    {
      "cell_type": "code",
      "metadata": {
        "id": "LzeaMazMJt1W"
      },
      "source": [
        "import pandas as pd\n",
        "with open('/content/drive/MyDrive/卒業演習/tsne-pos-only-obj-2018.json', )as f:\n",
        "  df = pd.read_json(f)"
      ],
      "execution_count": 30,
      "outputs": []
    },
    {
      "cell_type": "code",
      "metadata": {
        "id": "UaIx0mzaKIfw"
      },
      "source": [
        "df.info()"
      ],
      "execution_count": null,
      "outputs": []
    },
    {
      "cell_type": "code",
      "metadata": {
        "id": "fHBm5KfCKOQR"
      },
      "source": [
        "df = df.drop(columns=['高齢社会対策', '男女共同参画', '少子化社会対策', '子ども・若者育成支援', '国土強靱化施策', '障害者施策', '地方創生', '科学技術・イノベーション', 'ＩＴ戦略', '一億総活躍推進', '海洋政策', '観光立国', '宇宙開発利用', '地球温暖化対策', 'ＯＤＡ', '自殺対策', '医療分野の研究開発関連', '沖縄振興', '知的財産', '2020年東京オリパラ', '犯罪被害者等施策', 'クールジャパン', '食育推進', 'その他'])"
      ],
      "execution_count": 3,
      "outputs": []
    },
    {
      "cell_type": "code",
      "metadata": {
        "colab": {
          "base_uri": "https://localhost:8080/"
        },
        "id": "CsUEFJsCLxuq",
        "outputId": "cfa10e00-c035-4168-ac82-4d97ae19b6d3"
      },
      "source": [
        "df.info()"
      ],
      "execution_count": 4,
      "outputs": [
        {
          "output_type": "stream",
          "text": [
            "<class 'pandas.core.frame.DataFrame'>\n",
            "RangeIndex: 22115 entries, 0 to 22114\n",
            "Data columns (total 16 columns):\n",
            " #   Column               Non-Null Count  Dtype  \n",
            "---  ------               --------------  -----  \n",
            " 0   ID                   22115 non-null  int64  \n",
            " 1   プロジェクトID             22115 non-null  int64  \n",
            " 2   公開年度                 22115 non-null  int64  \n",
            " 3   事業番号1                22115 non-null  object \n",
            " 4   事業番号2                22115 non-null  int64  \n",
            " 5   事業番号3                150 non-null    float64\n",
            " 6   主要政策・施策              22115 non-null  object \n",
            " 7   府省庁                  22115 non-null  object \n",
            " 8   事業名                  22115 non-null  object \n",
            " 9   事業の目的                22115 non-null  object \n",
            " 10  事業概要                 22115 non-null  object \n",
            " 11  執行額                  22115 non-null  float64\n",
            " 12  objective_x          22115 non-null  float64\n",
            " 13  objective_y          22115 non-null  float64\n",
            " 14  cluster_in_ministry  22115 non-null  int64  \n",
            " 15  ALL                  22115 non-null  int64  \n",
            "dtypes: float64(4), int64(6), object(6)\n",
            "memory usage: 2.7+ MB\n"
          ],
          "name": "stdout"
        }
      ]
    },
    {
      "cell_type": "code",
      "metadata": {
        "id": "MW9DfRCcL1PH"
      },
      "source": [
        "df = df.drop(columns=['ALL', 'cluster_in_ministry', '執行額', '事業概要', '事業の目的', '府省庁', '主要政策・施策', '事業番号3', '事業番号2', '事業番号1'])"
      ],
      "execution_count": 5,
      "outputs": []
    },
    {
      "cell_type": "code",
      "metadata": {
        "colab": {
          "base_uri": "https://localhost:8080/"
        },
        "id": "VjcMP_UMMRzs",
        "outputId": "c5f988a7-7f7b-4ac4-c2f0-d1090aaffd15"
      },
      "source": [
        "df.info()"
      ],
      "execution_count": 6,
      "outputs": [
        {
          "output_type": "stream",
          "text": [
            "<class 'pandas.core.frame.DataFrame'>\n",
            "RangeIndex: 22115 entries, 0 to 22114\n",
            "Data columns (total 6 columns):\n",
            " #   Column       Non-Null Count  Dtype  \n",
            "---  ------       --------------  -----  \n",
            " 0   ID           22115 non-null  int64  \n",
            " 1   プロジェクトID     22115 non-null  int64  \n",
            " 2   公開年度         22115 non-null  int64  \n",
            " 3   事業名          22115 non-null  object \n",
            " 4   objective_x  22115 non-null  float64\n",
            " 5   objective_y  22115 non-null  float64\n",
            "dtypes: float64(2), int64(3), object(1)\n",
            "memory usage: 1.0+ MB\n"
          ],
          "name": "stdout"
        }
      ]
    },
    {
      "cell_type": "code",
      "metadata": {
        "colab": {
          "base_uri": "https://localhost:8080/",
          "height": 504
        },
        "id": "Yx5b2QMsM8Cz",
        "outputId": "3f1975c0-9383-46f9-eb9a-515e016f8256"
      },
      "source": [
        "df"
      ],
      "execution_count": 7,
      "outputs": [
        {
          "output_type": "execute_result",
          "data": {
            "text/html": [
              "<div>\n",
              "<style scoped>\n",
              "    .dataframe tbody tr th:only-of-type {\n",
              "        vertical-align: middle;\n",
              "    }\n",
              "\n",
              "    .dataframe tbody tr th {\n",
              "        vertical-align: top;\n",
              "    }\n",
              "\n",
              "    .dataframe thead th {\n",
              "        text-align: right;\n",
              "    }\n",
              "</style>\n",
              "<table border=\"1\" class=\"dataframe\">\n",
              "  <thead>\n",
              "    <tr style=\"text-align: right;\">\n",
              "      <th></th>\n",
              "      <th>ID</th>\n",
              "      <th>プロジェクトID</th>\n",
              "      <th>公開年度</th>\n",
              "      <th>事業名</th>\n",
              "      <th>objective_x</th>\n",
              "      <th>objective_y</th>\n",
              "    </tr>\n",
              "  </thead>\n",
              "  <tbody>\n",
              "    <tr>\n",
              "      <th>0</th>\n",
              "      <td>13</td>\n",
              "      <td>16</td>\n",
              "      <td>2015</td>\n",
              "      <td>内閣広報経費</td>\n",
              "      <td>-3.427058</td>\n",
              "      <td>36.508163</td>\n",
              "    </tr>\n",
              "    <tr>\n",
              "      <th>1</th>\n",
              "      <td>10604</td>\n",
              "      <td>16</td>\n",
              "      <td>2017</td>\n",
              "      <td>内閣広報経費</td>\n",
              "      <td>-3.443014</td>\n",
              "      <td>36.496967</td>\n",
              "    </tr>\n",
              "    <tr>\n",
              "      <th>2</th>\n",
              "      <td>24982</td>\n",
              "      <td>16</td>\n",
              "      <td>2019</td>\n",
              "      <td>内閣広報経費</td>\n",
              "      <td>-3.433842</td>\n",
              "      <td>36.497105</td>\n",
              "    </tr>\n",
              "    <tr>\n",
              "      <th>3</th>\n",
              "      <td>15765</td>\n",
              "      <td>16</td>\n",
              "      <td>2018</td>\n",
              "      <td>内閣広報経費</td>\n",
              "      <td>20.884544</td>\n",
              "      <td>130.967896</td>\n",
              "    </tr>\n",
              "    <tr>\n",
              "      <th>4</th>\n",
              "      <td>5377</td>\n",
              "      <td>16</td>\n",
              "      <td>2016</td>\n",
              "      <td>内閣広報経費</td>\n",
              "      <td>-3.429540</td>\n",
              "      <td>36.508717</td>\n",
              "    </tr>\n",
              "    <tr>\n",
              "      <th>...</th>\n",
              "      <td>...</td>\n",
              "      <td>...</td>\n",
              "      <td>...</td>\n",
              "      <td>...</td>\n",
              "      <td>...</td>\n",
              "      <td>...</td>\n",
              "    </tr>\n",
              "    <tr>\n",
              "      <th>22110</th>\n",
              "      <td>22976</td>\n",
              "      <td>8983</td>\n",
              "      <td>2019</td>\n",
              "      <td>中小企業・小規模事業者人材対策事業</td>\n",
              "      <td>-0.105321</td>\n",
              "      <td>-19.544006</td>\n",
              "    </tr>\n",
              "    <tr>\n",
              "      <th>22111</th>\n",
              "      <td>25938</td>\n",
              "      <td>44</td>\n",
              "      <td>2019</td>\n",
              "      <td>中長期の経済運営に必要な経費</td>\n",
              "      <td>28.377846</td>\n",
              "      <td>-26.652079</td>\n",
              "    </tr>\n",
              "    <tr>\n",
              "      <th>22112</th>\n",
              "      <td>25500</td>\n",
              "      <td>4895</td>\n",
              "      <td>2019</td>\n",
              "      <td>農山漁村振興交付金</td>\n",
              "      <td>-7.667183</td>\n",
              "      <td>-13.079095</td>\n",
              "    </tr>\n",
              "    <tr>\n",
              "      <th>22113</th>\n",
              "      <td>13514</td>\n",
              "      <td>4916</td>\n",
              "      <td>2017</td>\n",
              "      <td>農林水産物の品目別輸出促進緊急対策事業</td>\n",
              "      <td>-43.182682</td>\n",
              "      <td>-32.702126</td>\n",
              "    </tr>\n",
              "    <tr>\n",
              "      <th>22114</th>\n",
              "      <td>18677</td>\n",
              "      <td>4916</td>\n",
              "      <td>2018</td>\n",
              "      <td>農林水産物の品目別輸出促進緊急対策事業</td>\n",
              "      <td>123.480263</td>\n",
              "      <td>24.757841</td>\n",
              "    </tr>\n",
              "  </tbody>\n",
              "</table>\n",
              "<p>22115 rows × 6 columns</p>\n",
              "</div>"
            ],
            "text/plain": [
              "          ID  プロジェクトID  公開年度                  事業名  objective_x  objective_y\n",
              "0         13        16  2015               内閣広報経費    -3.427058    36.508163\n",
              "1      10604        16  2017               内閣広報経費    -3.443014    36.496967\n",
              "2      24982        16  2019               内閣広報経費    -3.433842    36.497105\n",
              "3      15765        16  2018               内閣広報経費    20.884544   130.967896\n",
              "4       5377        16  2016               内閣広報経費    -3.429540    36.508717\n",
              "...      ...       ...   ...                  ...          ...          ...\n",
              "22110  22976      8983  2019    中小企業・小規模事業者人材対策事業    -0.105321   -19.544006\n",
              "22111  25938        44  2019       中長期の経済運営に必要な経費    28.377846   -26.652079\n",
              "22112  25500      4895  2019            農山漁村振興交付金    -7.667183   -13.079095\n",
              "22113  13514      4916  2017  農林水産物の品目別輸出促進緊急対策事業   -43.182682   -32.702126\n",
              "22114  18677      4916  2018  農林水産物の品目別輸出促進緊急対策事業   123.480263    24.757841\n",
              "\n",
              "[22115 rows x 6 columns]"
            ]
          },
          "metadata": {
            "tags": []
          },
          "execution_count": 7
        }
      ]
    },
    {
      "cell_type": "code",
      "metadata": {
        "colab": {
          "base_uri": "https://localhost:8080/"
        },
        "id": "XT9qHl1DMXYN",
        "outputId": "75fc70b2-1b15-4340-f4ad-a177533509b5"
      },
      "source": [
        "df_2018 = df.iloc[0:0]\n",
        "print(df_2018)\n",
        "cnt = 0\n",
        "for i in range(len(df)):\n",
        "  if df.loc[i]['公開年度'] == 2018:\n",
        "    df_2018.loc[cnt] = df.loc[i]\n",
        "    cnt += 1"
      ],
      "execution_count": 8,
      "outputs": [
        {
          "output_type": "stream",
          "text": [
            "Empty DataFrame\n",
            "Columns: [ID, プロジェクトID, 公開年度, 事業名, objective_x, objective_y]\n",
            "Index: []\n"
          ],
          "name": "stdout"
        },
        {
          "output_type": "stream",
          "text": [
            "/usr/local/lib/python3.7/dist-packages/pandas/core/indexing.py:670: SettingWithCopyWarning: \n",
            "A value is trying to be set on a copy of a slice from a DataFrame\n",
            "\n",
            "See the caveats in the documentation: https://pandas.pydata.org/pandas-docs/stable/user_guide/indexing.html#returning-a-view-versus-a-copy\n",
            "  iloc._setitem_with_indexer(indexer, value)\n"
          ],
          "name": "stderr"
        }
      ]
    },
    {
      "cell_type": "code",
      "metadata": {
        "colab": {
          "base_uri": "https://localhost:8080/",
          "height": 538
        },
        "id": "R3kqTkacNyT5",
        "outputId": "e7705c40-9b05-4740-a992-7f2aa6ddba75"
      },
      "source": [
        "df_2018"
      ],
      "execution_count": 9,
      "outputs": [
        {
          "output_type": "execute_result",
          "data": {
            "text/html": [
              "<div>\n",
              "<style scoped>\n",
              "    .dataframe tbody tr th:only-of-type {\n",
              "        vertical-align: middle;\n",
              "    }\n",
              "\n",
              "    .dataframe tbody tr th {\n",
              "        vertical-align: top;\n",
              "    }\n",
              "\n",
              "    .dataframe thead th {\n",
              "        text-align: right;\n",
              "    }\n",
              "</style>\n",
              "<table border=\"1\" class=\"dataframe\">\n",
              "  <thead>\n",
              "    <tr style=\"text-align: right;\">\n",
              "      <th></th>\n",
              "      <th>ID</th>\n",
              "      <th>プロジェクトID</th>\n",
              "      <th>公開年度</th>\n",
              "      <th>事業名</th>\n",
              "      <th>objective_x</th>\n",
              "      <th>objective_y</th>\n",
              "    </tr>\n",
              "  </thead>\n",
              "  <tbody>\n",
              "    <tr>\n",
              "      <th>0</th>\n",
              "      <td>15765</td>\n",
              "      <td>16</td>\n",
              "      <td>2018</td>\n",
              "      <td>内閣広報経費</td>\n",
              "      <td>20.884544</td>\n",
              "      <td>130.967896</td>\n",
              "    </tr>\n",
              "    <tr>\n",
              "      <th>1</th>\n",
              "      <td>15755</td>\n",
              "      <td>15</td>\n",
              "      <td>2018</td>\n",
              "      <td>内閣人事局経費</td>\n",
              "      <td>103.928268</td>\n",
              "      <td>10.411826</td>\n",
              "    </tr>\n",
              "    <tr>\n",
              "      <th>2</th>\n",
              "      <td>15926</td>\n",
              "      <td>52</td>\n",
              "      <td>2018</td>\n",
              "      <td>人道救援物資備蓄経費</td>\n",
              "      <td>113.718193</td>\n",
              "      <td>44.782299</td>\n",
              "    </tr>\n",
              "    <tr>\n",
              "      <th>3</th>\n",
              "      <td>15964</td>\n",
              "      <td>35</td>\n",
              "      <td>2018</td>\n",
              "      <td>クールジャパン戦略推進経費</td>\n",
              "      <td>103.873520</td>\n",
              "      <td>-200.275986</td>\n",
              "    </tr>\n",
              "    <tr>\n",
              "      <th>4</th>\n",
              "      <td>15924</td>\n",
              "      <td>84</td>\n",
              "      <td>2018</td>\n",
              "      <td>国際平和協力隊の派遣等経費</td>\n",
              "      <td>-26.981586</td>\n",
              "      <td>-211.417206</td>\n",
              "    </tr>\n",
              "    <tr>\n",
              "      <th>...</th>\n",
              "      <td>...</td>\n",
              "      <td>...</td>\n",
              "      <td>...</td>\n",
              "      <td>...</td>\n",
              "      <td>...</td>\n",
              "      <td>...</td>\n",
              "    </tr>\n",
              "    <tr>\n",
              "      <th>4368</th>\n",
              "      <td>20146</td>\n",
              "      <td>3574</td>\n",
              "      <td>2018</td>\n",
              "      <td>短期寿命気候汚染物質削減に関する国際パートナーシップ拠出金関連業務</td>\n",
              "      <td>-57.778313</td>\n",
              "      <td>58.734795</td>\n",
              "    </tr>\n",
              "    <tr>\n",
              "      <th>4369</th>\n",
              "      <td>15941</td>\n",
              "      <td>44</td>\n",
              "      <td>2018</td>\n",
              "      <td>中長期の経済運営に必要な経費</td>\n",
              "      <td>-65.265366</td>\n",
              "      <td>-4.675023</td>\n",
              "    </tr>\n",
              "    <tr>\n",
              "      <th>4370</th>\n",
              "      <td>18840</td>\n",
              "      <td>4895</td>\n",
              "      <td>2018</td>\n",
              "      <td>農山漁村振興交付金</td>\n",
              "      <td>-177.072800</td>\n",
              "      <td>75.405853</td>\n",
              "    </tr>\n",
              "    <tr>\n",
              "      <th>4371</th>\n",
              "      <td>19154</td>\n",
              "      <td>3708</td>\n",
              "      <td>2018</td>\n",
              "      <td>中小企業・小規模事業者人材対策事業</td>\n",
              "      <td>73.630852</td>\n",
              "      <td>84.847870</td>\n",
              "    </tr>\n",
              "    <tr>\n",
              "      <th>4372</th>\n",
              "      <td>18677</td>\n",
              "      <td>4916</td>\n",
              "      <td>2018</td>\n",
              "      <td>農林水産物の品目別輸出促進緊急対策事業</td>\n",
              "      <td>123.480263</td>\n",
              "      <td>24.757841</td>\n",
              "    </tr>\n",
              "  </tbody>\n",
              "</table>\n",
              "<p>4373 rows × 6 columns</p>\n",
              "</div>"
            ],
            "text/plain": [
              "         ID  プロジェクトID  ...  objective_x objective_y\n",
              "0     15765        16  ...    20.884544  130.967896\n",
              "1     15755        15  ...   103.928268   10.411826\n",
              "2     15926        52  ...   113.718193   44.782299\n",
              "3     15964        35  ...   103.873520 -200.275986\n",
              "4     15924        84  ...   -26.981586 -211.417206\n",
              "...     ...       ...  ...          ...         ...\n",
              "4368  20146      3574  ...   -57.778313   58.734795\n",
              "4369  15941        44  ...   -65.265366   -4.675023\n",
              "4370  18840      4895  ...  -177.072800   75.405853\n",
              "4371  19154      3708  ...    73.630852   84.847870\n",
              "4372  18677      4916  ...   123.480263   24.757841\n",
              "\n",
              "[4373 rows x 6 columns]"
            ]
          },
          "metadata": {
            "tags": []
          },
          "execution_count": 9
        }
      ]
    },
    {
      "cell_type": "code",
      "metadata": {
        "id": "Oc74z2o-T3S6"
      },
      "source": [
        "df_exp = df_2018.drop(columns=['ID', 'プロジェクトID', '公開年度', '事業名'])"
      ],
      "execution_count": 10,
      "outputs": []
    },
    {
      "cell_type": "code",
      "metadata": {
        "colab": {
          "base_uri": "https://localhost:8080/",
          "height": 419
        },
        "id": "Ry-wFPZfUFG1",
        "outputId": "d60b9b0d-4a05-4c92-d103-cce4c99c74e8"
      },
      "source": [
        "df_exp"
      ],
      "execution_count": 11,
      "outputs": [
        {
          "output_type": "execute_result",
          "data": {
            "text/html": [
              "<div>\n",
              "<style scoped>\n",
              "    .dataframe tbody tr th:only-of-type {\n",
              "        vertical-align: middle;\n",
              "    }\n",
              "\n",
              "    .dataframe tbody tr th {\n",
              "        vertical-align: top;\n",
              "    }\n",
              "\n",
              "    .dataframe thead th {\n",
              "        text-align: right;\n",
              "    }\n",
              "</style>\n",
              "<table border=\"1\" class=\"dataframe\">\n",
              "  <thead>\n",
              "    <tr style=\"text-align: right;\">\n",
              "      <th></th>\n",
              "      <th>objective_x</th>\n",
              "      <th>objective_y</th>\n",
              "    </tr>\n",
              "  </thead>\n",
              "  <tbody>\n",
              "    <tr>\n",
              "      <th>0</th>\n",
              "      <td>20.884544</td>\n",
              "      <td>130.967896</td>\n",
              "    </tr>\n",
              "    <tr>\n",
              "      <th>1</th>\n",
              "      <td>103.928268</td>\n",
              "      <td>10.411826</td>\n",
              "    </tr>\n",
              "    <tr>\n",
              "      <th>2</th>\n",
              "      <td>113.718193</td>\n",
              "      <td>44.782299</td>\n",
              "    </tr>\n",
              "    <tr>\n",
              "      <th>3</th>\n",
              "      <td>103.873520</td>\n",
              "      <td>-200.275986</td>\n",
              "    </tr>\n",
              "    <tr>\n",
              "      <th>4</th>\n",
              "      <td>-26.981586</td>\n",
              "      <td>-211.417206</td>\n",
              "    </tr>\n",
              "    <tr>\n",
              "      <th>...</th>\n",
              "      <td>...</td>\n",
              "      <td>...</td>\n",
              "    </tr>\n",
              "    <tr>\n",
              "      <th>4368</th>\n",
              "      <td>-57.778313</td>\n",
              "      <td>58.734795</td>\n",
              "    </tr>\n",
              "    <tr>\n",
              "      <th>4369</th>\n",
              "      <td>-65.265366</td>\n",
              "      <td>-4.675023</td>\n",
              "    </tr>\n",
              "    <tr>\n",
              "      <th>4370</th>\n",
              "      <td>-177.072800</td>\n",
              "      <td>75.405853</td>\n",
              "    </tr>\n",
              "    <tr>\n",
              "      <th>4371</th>\n",
              "      <td>73.630852</td>\n",
              "      <td>84.847870</td>\n",
              "    </tr>\n",
              "    <tr>\n",
              "      <th>4372</th>\n",
              "      <td>123.480263</td>\n",
              "      <td>24.757841</td>\n",
              "    </tr>\n",
              "  </tbody>\n",
              "</table>\n",
              "<p>4373 rows × 2 columns</p>\n",
              "</div>"
            ],
            "text/plain": [
              "      objective_x  objective_y\n",
              "0       20.884544   130.967896\n",
              "1      103.928268    10.411826\n",
              "2      113.718193    44.782299\n",
              "3      103.873520  -200.275986\n",
              "4      -26.981586  -211.417206\n",
              "...           ...          ...\n",
              "4368   -57.778313    58.734795\n",
              "4369   -65.265366    -4.675023\n",
              "4370  -177.072800    75.405853\n",
              "4371    73.630852    84.847870\n",
              "4372   123.480263    24.757841\n",
              "\n",
              "[4373 rows x 2 columns]"
            ]
          },
          "metadata": {
            "tags": []
          },
          "execution_count": 11
        }
      ]
    },
    {
      "cell_type": "code",
      "metadata": {
        "colab": {
          "base_uri": "https://localhost:8080/"
        },
        "id": "sfn55MJ15rmq",
        "outputId": "2e2ceb8b-647f-4639-9f6a-3d0a94aedfc4"
      },
      "source": [
        "print(df_2018.loc[2015])\n",
        "print(df_exp.loc[2015])"
      ],
      "execution_count": 12,
      "outputs": [
        {
          "output_type": "stream",
          "text": [
            "ID                 17874\n",
            "プロジェクトID             418\n",
            "公開年度                2018\n",
            "事業名            先進医療制度対策費\n",
            "objective_x      164.881\n",
            "objective_y     -128.574\n",
            "Name: 2015, dtype: object\n",
            "objective_x    164.881165\n",
            "objective_y   -128.574448\n",
            "Name: 2015, dtype: float64\n"
          ],
          "name": "stdout"
        }
      ]
    },
    {
      "cell_type": "code",
      "metadata": {
        "id": "agwCeUCvUG0Q",
        "colab": {
          "base_uri": "https://localhost:8080/",
          "height": 371
        },
        "outputId": "865f02a5-3f66-41de-c7bb-2e1d846979d9"
      },
      "source": [
        "import matplotlib.pyplot as plt\n",
        "from scipy.cluster.hierarchy import linkage, dendrogram, fcluster\n",
        " \n",
        "linkage_result = linkage(df_exp, method='ward', metric='euclidean')\n",
        "plt.figure(num=None, figsize=(16, 9), dpi=200, facecolor='w', edgecolor='k')\n",
        "dendrogram(linkage_result, labels=df.index)\n",
        "plt.show()"
      ],
      "execution_count": 13,
      "outputs": [
        {
          "output_type": "display_data",
          "data": {
            "image/png": "[encoded data removed]",
            "text/plain": [
              "<Figure size 3200x1800 with 1 Axes>"
            ]
          },
          "metadata": {
            "tags": []
          }
        }
      ]
    },
    {
      "cell_type": "code",
      "metadata": {
        "colab": {
          "base_uri": "https://localhost:8080/"
        },
        "id": "lCdFsIwc2isC",
        "outputId": "ad9f495a-9e16-4f85-d0be-c7f09c1fffcd"
      },
      "source": [
        "print(linkage_result[0][3])"
      ],
      "execution_count": 14,
      "outputs": [
        {
          "output_type": "stream",
          "text": [
            "2.0\n"
          ],
          "name": "stdout"
        }
      ]
    },
    {
      "cell_type": "code",
      "metadata": {
        "colab": {
          "base_uri": "https://localhost:8080/"
        },
        "id": "8F5OY3sw4afJ",
        "outputId": "9f0d5442-509d-43b8-a2fb-c50a88935a17"
      },
      "source": [
        "print(df_2018.loc[54], '\\n')\n",
        "print(df_exp.loc[54], '\\n')\n",
        "print(df_2018.loc[1739], '\\n')\n",
        "print(df_exp.loc[1739])"
      ],
      "execution_count": 15,
      "outputs": [
        {
          "output_type": "stream",
          "text": [
            "ID                        18397\n",
            "プロジェクトID                    990\n",
            "公開年度                       2018\n",
            "事業名            生活のしづらさなどに関する調査費\n",
            "objective_x             118.475\n",
            "objective_y             128.731\n",
            "Name: 54, dtype: object \n",
            "\n",
            "objective_x    118.474594\n",
            "objective_y    128.730637\n",
            "Name: 54, dtype: float64 \n",
            "\n",
            "ID                  19416\n",
            "プロジェクトID             3791\n",
            "公開年度                 2018\n",
            "事業名            化学物質規制対策事業\n",
            "objective_x       118.475\n",
            "objective_y       128.731\n",
            "Name: 1739, dtype: object \n",
            "\n",
            "objective_x    118.474594\n",
            "objective_y    128.730637\n",
            "Name: 1739, dtype: float64\n"
          ],
          "name": "stdout"
        }
      ]
    },
    {
      "cell_type": "code",
      "metadata": {
        "colab": {
          "base_uri": "https://localhost:8080/"
        },
        "id": "e0zshAkLU8Xo",
        "outputId": "86b0e7ae-bf3a-4bfb-a691-79363cc099c5"
      },
      "source": [
        "len(linkage_result)"
      ],
      "execution_count": 16,
      "outputs": [
        {
          "output_type": "execute_result",
          "data": {
            "text/plain": [
              "4372"
            ]
          },
          "metadata": {
            "tags": []
          },
          "execution_count": 16
        }
      ]
    },
    {
      "cell_type": "code",
      "metadata": {
        "colab": {
          "base_uri": "https://localhost:8080/"
        },
        "id": "T50V_BjfXy3B",
        "outputId": "18279a7d-87ed-475a-c0b0-da96706b6545"
      },
      "source": [
        "linkage_result[4370]"
      ],
      "execution_count": 29,
      "outputs": [
        {
          "output_type": "execute_result",
          "data": {
            "text/plain": [
              "array([8738.        , 8741.        , 5693.92754671, 2583.        ])"
            ]
          },
          "metadata": {
            "tags": []
          },
          "execution_count": 29
        }
      ]
    },
    {
      "cell_type": "code",
      "metadata": {
        "id": "IpvN9ZI29HXw"
      },
      "source": [
        "for i in range(len(linkage_result)):\n",
        "  print(linkage_result[i])"
      ],
      "execution_count": null,
      "outputs": []
    },
    {
      "cell_type": "code",
      "metadata": {
        "id": "iOgwnIJPXeue"
      },
      "source": [
        "import json\n",
        "obj = []\n",
        "with open('/content/drive/MyDrive/Colab Notebooks/pre-judgit/test.json', 'w', encoding='utf8')as f:\n",
        "  for i in range(len(linkage_result)):\n",
        "    for j in range(2):\n",
        "      if linkage_result[i][j] < len(df_2018):\n",
        "        f.write(json.dumps({\"no\":int(linkage_result[i][j]), \n",
        "                            \"parent\":len(linkage_result)+i, \n",
        "                            \"distance\":linkage_result[i][2],\n",
        "                            \"事業名\":df_2018.loc[linkage_result[i][j]][\"事業名\"]}, ensure_ascii=False) + '\\n')\n",
        "      else:\n",
        "        f.write(json.dumps({\"no\":int(linkage_result[i][j]), \n",
        "                            \"parent\":len(linkage_result)+i, \n",
        "                            \"distance\":linkage_result[i][2],\n",
        "                            \"事業名\":\"\"}, ensure_ascii=False) + '\\n')\n"
      ],
      "execution_count": null,
      "outputs": []
    },
    {
      "cell_type": "code",
      "metadata": {
        "id": "v4US-gOiEa4_"
      },
      "source": [
        "import json\n",
        "obj = []\n",
        "for i in range(len(linkage_result)):\n",
        "  for j in range(2):\n",
        "    if linkage_result[i][j] < len(df_2018):\n",
        "      obj.append({\"no\":int(linkage_result[i][j]), \n",
        "                          \"parent\":len(linkage_result)+i+1, \n",
        "                          \"distance\":linkage_result[i][2],\n",
        "                          \"事業名\":df_2018.loc[linkage_result[i][j]][\"事業名\"]})\n",
        "    else:\n",
        "      obj.append({\"no\":int(linkage_result[i][j]), \n",
        "                          \"parent\":len(linkage_result)+i+1, \n",
        "                          \"distance\":linkage_result[i][2],\n",
        "                          \"事業名\":\"\"})\n",
        "      \n",
        "obj.append({\"no\":len(linkage_result)*2, \n",
        "                          \"parent\":\"\", \n",
        "                          \"distance\":\"\",\n",
        "                          \"事業名\":\"\"})\n",
        "with open('/content/drive/MyDrive/Colab Notebooks/pre-judgit/test.json', 'w', encoding='utf8')as f:\n",
        "  json.dump(obj, f, indent = 2, ensure_ascii=False)\n"
      ],
      "execution_count": 34,
      "outputs": []
    },
    {
      "cell_type": "code",
      "metadata": {
        "id": "Icr_GC-qK2Xj"
      },
      "source": [
        "for i in range(len(linkage_result)):\n",
        "  print()"
      ],
      "execution_count": null,
      "outputs": []
    },
    {
      "cell_type": "code",
      "metadata": {
        "colab": {
          "base_uri": "https://localhost:8080/",
          "height": 134
        },
        "id": "B0oNmTtoAj72",
        "outputId": "7b57a567-cfdd-4ebc-955e-0ada449cd4ef"
      },
      "source": [
        "if linkage_result[4732] > "
      ],
      "execution_count": null,
      "outputs": [
        {
          "output_type": "error",
          "ename": "SyntaxError",
          "evalue": "ignored",
          "traceback": [
            "\u001b[0;36m  File \u001b[0;32m\"<ipython-input-48-59f6472353af>\"\u001b[0;36m, line \u001b[0;32m1\u001b[0m\n\u001b[0;31m    if linkage_result[4732]\u001b[0m\n\u001b[0m                           ^\u001b[0m\n\u001b[0;31mSyntaxError\u001b[0m\u001b[0;31m:\u001b[0m invalid syntax\n"
          ]
        }
      ]
    },
    {
      "cell_type": "code",
      "metadata": {
        "id": "49Jwi1PoZ0tl"
      },
      "source": [
        "for data in linkage_result:\n",
        "  print(data)"
      ],
      "execution_count": null,
      "outputs": []
    },
    {
      "cell_type": "code",
      "metadata": {
        "colab": {
          "base_uri": "https://localhost:8080/",
          "height": 566
        },
        "id": "DHjW1gCtNX4G",
        "outputId": "896ce184-ea4b-47f8-8f2a-7f0c45544653"
      },
      "source": [
        "cols = ['objective_x', 'objective_y']\n",
        "df_exp = pd.DataFrame(index=[], columns=cols)\n",
        "for i in range(len(df_2018)):\n",
        "  df_exp.loc[df_2018.loc[i]['事業名']]['objective_x'] = df_2018.loc[i]['objective_x']\n",
        "  df_exp.loc[df_2018.loc[i]['事業名']]['objective_y'] = df_2018.loc[i]['objective_y']"
      ],
      "execution_count": null,
      "outputs": [
        {
          "output_type": "error",
          "ename": "KeyError",
          "evalue": "ignored",
          "traceback": [
            "\u001b[0;31m---------------------------------------------------------------------------\u001b[0m",
            "\u001b[0;31mKeyError\u001b[0m                                  Traceback (most recent call last)",
            "\u001b[0;32m/usr/local/lib/python3.7/dist-packages/pandas/core/indexes/base.py\u001b[0m in \u001b[0;36mget_loc\u001b[0;34m(self, key, method, tolerance)\u001b[0m\n\u001b[1;32m   2897\u001b[0m             \u001b[0;32mtry\u001b[0m\u001b[0;34m:\u001b[0m\u001b[0;34m\u001b[0m\u001b[0;34m\u001b[0m\u001b[0m\n\u001b[0;32m-> 2898\u001b[0;31m                 \u001b[0;32mreturn\u001b[0m \u001b[0mself\u001b[0m\u001b[0;34m.\u001b[0m\u001b[0m_engine\u001b[0m\u001b[0;34m.\u001b[0m\u001b[0mget_loc\u001b[0m\u001b[0;34m(\u001b[0m\u001b[0mcasted_key\u001b[0m\u001b[0;34m)\u001b[0m\u001b[0;34m\u001b[0m\u001b[0;34m\u001b[0m\u001b[0m\n\u001b[0m\u001b[1;32m   2899\u001b[0m             \u001b[0;32mexcept\u001b[0m \u001b[0mKeyError\u001b[0m \u001b[0;32mas\u001b[0m \u001b[0merr\u001b[0m\u001b[0;34m:\u001b[0m\u001b[0;34m\u001b[0m\u001b[0;34m\u001b[0m\u001b[0m\n",
            "\u001b[0;32mpandas/_libs/index.pyx\u001b[0m in \u001b[0;36mpandas._libs.index.IndexEngine.get_loc\u001b[0;34m()\u001b[0m\n",
            "\u001b[0;32mpandas/_libs/index.pyx\u001b[0m in \u001b[0;36mpandas._libs.index.IndexEngine.get_loc\u001b[0;34m()\u001b[0m\n",
            "\u001b[0;32mpandas/_libs/hashtable_class_helper.pxi\u001b[0m in \u001b[0;36mpandas._libs.hashtable.PyObjectHashTable.get_item\u001b[0;34m()\u001b[0m\n",
            "\u001b[0;32mpandas/_libs/hashtable_class_helper.pxi\u001b[0m in \u001b[0;36mpandas._libs.hashtable.PyObjectHashTable.get_item\u001b[0;34m()\u001b[0m\n",
            "\u001b[0;31mKeyError\u001b[0m: '内閣広報経費'",
            "\nThe above exception was the direct cause of the following exception:\n",
            "\u001b[0;31mKeyError\u001b[0m                                  Traceback (most recent call last)",
            "\u001b[0;32m<ipython-input-57-da799f999b8e>\u001b[0m in \u001b[0;36m<module>\u001b[0;34m()\u001b[0m\n\u001b[1;32m      2\u001b[0m \u001b[0mdf_exp\u001b[0m \u001b[0;34m=\u001b[0m \u001b[0mpd\u001b[0m\u001b[0;34m.\u001b[0m\u001b[0mDataFrame\u001b[0m\u001b[0;34m(\u001b[0m\u001b[0mindex\u001b[0m\u001b[0;34m=\u001b[0m\u001b[0;34m[\u001b[0m\u001b[0;34m]\u001b[0m\u001b[0;34m,\u001b[0m \u001b[0mcolumns\u001b[0m\u001b[0;34m=\u001b[0m\u001b[0mcols\u001b[0m\u001b[0;34m)\u001b[0m\u001b[0;34m\u001b[0m\u001b[0;34m\u001b[0m\u001b[0m\n\u001b[1;32m      3\u001b[0m \u001b[0;32mfor\u001b[0m \u001b[0mi\u001b[0m \u001b[0;32min\u001b[0m \u001b[0mrange\u001b[0m\u001b[0;34m(\u001b[0m\u001b[0mlen\u001b[0m\u001b[0;34m(\u001b[0m\u001b[0mdf_2018\u001b[0m\u001b[0;34m)\u001b[0m\u001b[0;34m)\u001b[0m\u001b[0;34m:\u001b[0m\u001b[0;34m\u001b[0m\u001b[0;34m\u001b[0m\u001b[0m\n\u001b[0;32m----> 4\u001b[0;31m   \u001b[0mdf_exp\u001b[0m\u001b[0;34m.\u001b[0m\u001b[0mloc\u001b[0m\u001b[0;34m[\u001b[0m\u001b[0mdf_2018\u001b[0m\u001b[0;34m.\u001b[0m\u001b[0mloc\u001b[0m\u001b[0;34m[\u001b[0m\u001b[0mi\u001b[0m\u001b[0;34m]\u001b[0m\u001b[0;34m[\u001b[0m\u001b[0;34m'事業名'\u001b[0m\u001b[0;34m]\u001b[0m\u001b[0;34m]\u001b[0m\u001b[0;34m[\u001b[0m\u001b[0;34m'objective_x'\u001b[0m\u001b[0;34m]\u001b[0m \u001b[0;34m=\u001b[0m \u001b[0mdf_2018\u001b[0m\u001b[0;34m.\u001b[0m\u001b[0mloc\u001b[0m\u001b[0;34m[\u001b[0m\u001b[0mi\u001b[0m\u001b[0;34m]\u001b[0m\u001b[0;34m[\u001b[0m\u001b[0;34m'objective_x'\u001b[0m\u001b[0;34m]\u001b[0m\u001b[0;34m\u001b[0m\u001b[0;34m\u001b[0m\u001b[0m\n\u001b[0m\u001b[1;32m      5\u001b[0m   \u001b[0mdf_exp\u001b[0m\u001b[0;34m.\u001b[0m\u001b[0mloc\u001b[0m\u001b[0;34m[\u001b[0m\u001b[0mdf_2018\u001b[0m\u001b[0;34m.\u001b[0m\u001b[0mloc\u001b[0m\u001b[0;34m[\u001b[0m\u001b[0mi\u001b[0m\u001b[0;34m]\u001b[0m\u001b[0;34m[\u001b[0m\u001b[0;34m'事業名'\u001b[0m\u001b[0;34m]\u001b[0m\u001b[0;34m]\u001b[0m\u001b[0;34m[\u001b[0m\u001b[0;34m'objective_y'\u001b[0m\u001b[0;34m]\u001b[0m \u001b[0;34m=\u001b[0m \u001b[0mdf_2018\u001b[0m\u001b[0;34m.\u001b[0m\u001b[0mloc\u001b[0m\u001b[0;34m[\u001b[0m\u001b[0mi\u001b[0m\u001b[0;34m]\u001b[0m\u001b[0;34m[\u001b[0m\u001b[0;34m'objective_y'\u001b[0m\u001b[0;34m]\u001b[0m\u001b[0;34m\u001b[0m\u001b[0;34m\u001b[0m\u001b[0m\n",
            "\u001b[0;32m/usr/local/lib/python3.7/dist-packages/pandas/core/indexing.py\u001b[0m in \u001b[0;36m__getitem__\u001b[0;34m(self, key)\u001b[0m\n\u001b[1;32m    877\u001b[0m \u001b[0;34m\u001b[0m\u001b[0m\n\u001b[1;32m    878\u001b[0m             \u001b[0mmaybe_callable\u001b[0m \u001b[0;34m=\u001b[0m \u001b[0mcom\u001b[0m\u001b[0;34m.\u001b[0m\u001b[0mapply_if_callable\u001b[0m\u001b[0;34m(\u001b[0m\u001b[0mkey\u001b[0m\u001b[0;34m,\u001b[0m \u001b[0mself\u001b[0m\u001b[0;34m.\u001b[0m\u001b[0mobj\u001b[0m\u001b[0;34m)\u001b[0m\u001b[0;34m\u001b[0m\u001b[0;34m\u001b[0m\u001b[0m\n\u001b[0;32m--> 879\u001b[0;31m             \u001b[0;32mreturn\u001b[0m \u001b[0mself\u001b[0m\u001b[0;34m.\u001b[0m\u001b[0m_getitem_axis\u001b[0m\u001b[0;34m(\u001b[0m\u001b[0mmaybe_callable\u001b[0m\u001b[0;34m,\u001b[0m \u001b[0maxis\u001b[0m\u001b[0;34m=\u001b[0m\u001b[0maxis\u001b[0m\u001b[0;34m)\u001b[0m\u001b[0;34m\u001b[0m\u001b[0;34m\u001b[0m\u001b[0m\n\u001b[0m\u001b[1;32m    880\u001b[0m \u001b[0;34m\u001b[0m\u001b[0m\n\u001b[1;32m    881\u001b[0m     \u001b[0;32mdef\u001b[0m \u001b[0m_is_scalar_access\u001b[0m\u001b[0;34m(\u001b[0m\u001b[0mself\u001b[0m\u001b[0;34m,\u001b[0m \u001b[0mkey\u001b[0m\u001b[0;34m:\u001b[0m \u001b[0mTuple\u001b[0m\u001b[0;34m)\u001b[0m\u001b[0;34m:\u001b[0m\u001b[0;34m\u001b[0m\u001b[0;34m\u001b[0m\u001b[0m\n",
            "\u001b[0;32m/usr/local/lib/python3.7/dist-packages/pandas/core/indexing.py\u001b[0m in \u001b[0;36m_getitem_axis\u001b[0;34m(self, key, axis)\u001b[0m\n\u001b[1;32m   1108\u001b[0m         \u001b[0;31m# fall thru to straight lookup\u001b[0m\u001b[0;34m\u001b[0m\u001b[0;34m\u001b[0m\u001b[0;34m\u001b[0m\u001b[0m\n\u001b[1;32m   1109\u001b[0m         \u001b[0mself\u001b[0m\u001b[0;34m.\u001b[0m\u001b[0m_validate_key\u001b[0m\u001b[0;34m(\u001b[0m\u001b[0mkey\u001b[0m\u001b[0;34m,\u001b[0m \u001b[0maxis\u001b[0m\u001b[0;34m)\u001b[0m\u001b[0;34m\u001b[0m\u001b[0;34m\u001b[0m\u001b[0m\n\u001b[0;32m-> 1110\u001b[0;31m         \u001b[0;32mreturn\u001b[0m \u001b[0mself\u001b[0m\u001b[0;34m.\u001b[0m\u001b[0m_get_label\u001b[0m\u001b[0;34m(\u001b[0m\u001b[0mkey\u001b[0m\u001b[0;34m,\u001b[0m \u001b[0maxis\u001b[0m\u001b[0;34m=\u001b[0m\u001b[0maxis\u001b[0m\u001b[0;34m)\u001b[0m\u001b[0;34m\u001b[0m\u001b[0;34m\u001b[0m\u001b[0m\n\u001b[0m\u001b[1;32m   1111\u001b[0m \u001b[0;34m\u001b[0m\u001b[0m\n\u001b[1;32m   1112\u001b[0m     \u001b[0;32mdef\u001b[0m \u001b[0m_get_slice_axis\u001b[0m\u001b[0;34m(\u001b[0m\u001b[0mself\u001b[0m\u001b[0;34m,\u001b[0m \u001b[0mslice_obj\u001b[0m\u001b[0;34m:\u001b[0m \u001b[0mslice\u001b[0m\u001b[0;34m,\u001b[0m \u001b[0maxis\u001b[0m\u001b[0;34m:\u001b[0m \u001b[0mint\u001b[0m\u001b[0;34m)\u001b[0m\u001b[0;34m:\u001b[0m\u001b[0;34m\u001b[0m\u001b[0;34m\u001b[0m\u001b[0m\n",
            "\u001b[0;32m/usr/local/lib/python3.7/dist-packages/pandas/core/indexing.py\u001b[0m in \u001b[0;36m_get_label\u001b[0;34m(self, label, axis)\u001b[0m\n\u001b[1;32m   1057\u001b[0m     \u001b[0;32mdef\u001b[0m \u001b[0m_get_label\u001b[0m\u001b[0;34m(\u001b[0m\u001b[0mself\u001b[0m\u001b[0;34m,\u001b[0m \u001b[0mlabel\u001b[0m\u001b[0;34m,\u001b[0m \u001b[0maxis\u001b[0m\u001b[0;34m:\u001b[0m \u001b[0mint\u001b[0m\u001b[0;34m)\u001b[0m\u001b[0;34m:\u001b[0m\u001b[0;34m\u001b[0m\u001b[0;34m\u001b[0m\u001b[0m\n\u001b[1;32m   1058\u001b[0m         \u001b[0;31m# GH#5667 this will fail if the label is not present in the axis.\u001b[0m\u001b[0;34m\u001b[0m\u001b[0;34m\u001b[0m\u001b[0;34m\u001b[0m\u001b[0m\n\u001b[0;32m-> 1059\u001b[0;31m         \u001b[0;32mreturn\u001b[0m \u001b[0mself\u001b[0m\u001b[0;34m.\u001b[0m\u001b[0mobj\u001b[0m\u001b[0;34m.\u001b[0m\u001b[0mxs\u001b[0m\u001b[0;34m(\u001b[0m\u001b[0mlabel\u001b[0m\u001b[0;34m,\u001b[0m \u001b[0maxis\u001b[0m\u001b[0;34m=\u001b[0m\u001b[0maxis\u001b[0m\u001b[0;34m)\u001b[0m\u001b[0;34m\u001b[0m\u001b[0;34m\u001b[0m\u001b[0m\n\u001b[0m\u001b[1;32m   1060\u001b[0m \u001b[0;34m\u001b[0m\u001b[0m\n\u001b[1;32m   1061\u001b[0m     \u001b[0;32mdef\u001b[0m \u001b[0m_handle_lowerdim_multi_index_axis0\u001b[0m\u001b[0;34m(\u001b[0m\u001b[0mself\u001b[0m\u001b[0;34m,\u001b[0m \u001b[0mtup\u001b[0m\u001b[0;34m:\u001b[0m \u001b[0mTuple\u001b[0m\u001b[0;34m)\u001b[0m\u001b[0;34m:\u001b[0m\u001b[0;34m\u001b[0m\u001b[0;34m\u001b[0m\u001b[0m\n",
            "\u001b[0;32m/usr/local/lib/python3.7/dist-packages/pandas/core/generic.py\u001b[0m in \u001b[0;36mxs\u001b[0;34m(self, key, axis, level, drop_level)\u001b[0m\n\u001b[1;32m   3491\u001b[0m             \u001b[0mloc\u001b[0m\u001b[0;34m,\u001b[0m \u001b[0mnew_index\u001b[0m \u001b[0;34m=\u001b[0m \u001b[0mself\u001b[0m\u001b[0;34m.\u001b[0m\u001b[0mindex\u001b[0m\u001b[0;34m.\u001b[0m\u001b[0mget_loc_level\u001b[0m\u001b[0;34m(\u001b[0m\u001b[0mkey\u001b[0m\u001b[0;34m,\u001b[0m \u001b[0mdrop_level\u001b[0m\u001b[0;34m=\u001b[0m\u001b[0mdrop_level\u001b[0m\u001b[0;34m)\u001b[0m\u001b[0;34m\u001b[0m\u001b[0;34m\u001b[0m\u001b[0m\n\u001b[1;32m   3492\u001b[0m         \u001b[0;32melse\u001b[0m\u001b[0;34m:\u001b[0m\u001b[0;34m\u001b[0m\u001b[0;34m\u001b[0m\u001b[0m\n\u001b[0;32m-> 3493\u001b[0;31m             \u001b[0mloc\u001b[0m \u001b[0;34m=\u001b[0m \u001b[0mself\u001b[0m\u001b[0;34m.\u001b[0m\u001b[0mindex\u001b[0m\u001b[0;34m.\u001b[0m\u001b[0mget_loc\u001b[0m\u001b[0;34m(\u001b[0m\u001b[0mkey\u001b[0m\u001b[0;34m)\u001b[0m\u001b[0;34m\u001b[0m\u001b[0;34m\u001b[0m\u001b[0m\n\u001b[0m\u001b[1;32m   3494\u001b[0m \u001b[0;34m\u001b[0m\u001b[0m\n\u001b[1;32m   3495\u001b[0m             \u001b[0;32mif\u001b[0m \u001b[0misinstance\u001b[0m\u001b[0;34m(\u001b[0m\u001b[0mloc\u001b[0m\u001b[0;34m,\u001b[0m \u001b[0mnp\u001b[0m\u001b[0;34m.\u001b[0m\u001b[0mndarray\u001b[0m\u001b[0;34m)\u001b[0m\u001b[0;34m:\u001b[0m\u001b[0;34m\u001b[0m\u001b[0;34m\u001b[0m\u001b[0m\n",
            "\u001b[0;32m/usr/local/lib/python3.7/dist-packages/pandas/core/indexes/base.py\u001b[0m in \u001b[0;36mget_loc\u001b[0;34m(self, key, method, tolerance)\u001b[0m\n\u001b[1;32m   2898\u001b[0m                 \u001b[0;32mreturn\u001b[0m \u001b[0mself\u001b[0m\u001b[0;34m.\u001b[0m\u001b[0m_engine\u001b[0m\u001b[0;34m.\u001b[0m\u001b[0mget_loc\u001b[0m\u001b[0;34m(\u001b[0m\u001b[0mcasted_key\u001b[0m\u001b[0;34m)\u001b[0m\u001b[0;34m\u001b[0m\u001b[0;34m\u001b[0m\u001b[0m\n\u001b[1;32m   2899\u001b[0m             \u001b[0;32mexcept\u001b[0m \u001b[0mKeyError\u001b[0m \u001b[0;32mas\u001b[0m \u001b[0merr\u001b[0m\u001b[0;34m:\u001b[0m\u001b[0;34m\u001b[0m\u001b[0;34m\u001b[0m\u001b[0m\n\u001b[0;32m-> 2900\u001b[0;31m                 \u001b[0;32mraise\u001b[0m \u001b[0mKeyError\u001b[0m\u001b[0;34m(\u001b[0m\u001b[0mkey\u001b[0m\u001b[0;34m)\u001b[0m \u001b[0;32mfrom\u001b[0m \u001b[0merr\u001b[0m\u001b[0;34m\u001b[0m\u001b[0;34m\u001b[0m\u001b[0m\n\u001b[0m\u001b[1;32m   2901\u001b[0m \u001b[0;34m\u001b[0m\u001b[0m\n\u001b[1;32m   2902\u001b[0m         \u001b[0;32mif\u001b[0m \u001b[0mtolerance\u001b[0m \u001b[0;32mis\u001b[0m \u001b[0;32mnot\u001b[0m \u001b[0;32mNone\u001b[0m\u001b[0;34m:\u001b[0m\u001b[0;34m\u001b[0m\u001b[0;34m\u001b[0m\u001b[0m\n",
            "\u001b[0;31mKeyError\u001b[0m: '内閣広報経費'"
          ]
        }
      ]
    },
    {
      "cell_type": "code",
      "metadata": {
        "colab": {
          "base_uri": "https://localhost:8080/",
          "height": 80
        },
        "id": "EbpeXCOPNds8",
        "outputId": "4ab91ba7-86b6-4c8d-e1c0-ac5d658e2c9c"
      },
      "source": [
        "df_remake.append(df.loc[0])"
      ],
      "execution_count": null,
      "outputs": [
        {
          "output_type": "execute_result",
          "data": {
            "text/html": [
              "<div>\n",
              "<style scoped>\n",
              "    .dataframe tbody tr th:only-of-type {\n",
              "        vertical-align: middle;\n",
              "    }\n",
              "\n",
              "    .dataframe tbody tr th {\n",
              "        vertical-align: top;\n",
              "    }\n",
              "\n",
              "    .dataframe thead th {\n",
              "        text-align: right;\n",
              "    }\n",
              "</style>\n",
              "<table border=\"1\" class=\"dataframe\">\n",
              "  <thead>\n",
              "    <tr style=\"text-align: right;\">\n",
              "      <th></th>\n",
              "      <th>ID</th>\n",
              "      <th>プロジェクトID</th>\n",
              "      <th>公開年度</th>\n",
              "      <th>事業名</th>\n",
              "      <th>objective_x</th>\n",
              "      <th>objective_y</th>\n",
              "    </tr>\n",
              "  </thead>\n",
              "  <tbody>\n",
              "    <tr>\n",
              "      <th>0</th>\n",
              "      <td>13</td>\n",
              "      <td>16</td>\n",
              "      <td>2015</td>\n",
              "      <td>内閣広報経費</td>\n",
              "      <td>-3.427058</td>\n",
              "      <td>36.508163</td>\n",
              "    </tr>\n",
              "  </tbody>\n",
              "</table>\n",
              "</div>"
            ],
            "text/plain": [
              "   ID  プロジェクトID  公開年度     事業名  objective_x  objective_y\n",
              "0  13        16  2015  内閣広報経費    -3.427058    36.508163"
            ]
          },
          "metadata": {
            "tags": []
          },
          "execution_count": 30
        }
      ]
    },
    {
      "cell_type": "code",
      "metadata": {
        "colab": {
          "base_uri": "https://localhost:8080/",
          "height": 49
        },
        "id": "VWbpWht1Pkbk",
        "outputId": "acb8b7fa-c645-4ad4-c8ad-7c99ef5611cb"
      },
      "source": [
        "df_remake"
      ],
      "execution_count": null,
      "outputs": [
        {
          "output_type": "execute_result",
          "data": {
            "text/html": [
              "<div>\n",
              "<style scoped>\n",
              "    .dataframe tbody tr th:only-of-type {\n",
              "        vertical-align: middle;\n",
              "    }\n",
              "\n",
              "    .dataframe tbody tr th {\n",
              "        vertical-align: top;\n",
              "    }\n",
              "\n",
              "    .dataframe thead th {\n",
              "        text-align: right;\n",
              "    }\n",
              "</style>\n",
              "<table border=\"1\" class=\"dataframe\">\n",
              "  <thead>\n",
              "    <tr style=\"text-align: right;\">\n",
              "      <th></th>\n",
              "      <th>ID</th>\n",
              "      <th>プロジェクトID</th>\n",
              "      <th>公開年度</th>\n",
              "      <th>事業名</th>\n",
              "      <th>objective_x</th>\n",
              "      <th>objective_y</th>\n",
              "    </tr>\n",
              "  </thead>\n",
              "  <tbody>\n",
              "  </tbody>\n",
              "</table>\n",
              "</div>"
            ],
            "text/plain": [
              "Empty DataFrame\n",
              "Columns: [ID, プロジェクトID, 公開年度, 事業名, objective_x, objective_y]\n",
              "Index: []"
            ]
          },
          "metadata": {
            "tags": []
          },
          "execution_count": 31
        }
      ]
    },
    {
      "cell_type": "code",
      "metadata": {
        "colab": {
          "base_uri": "https://localhost:8080/"
        },
        "id": "HoRcvKYSOdl_",
        "outputId": "fe2b6224-80c6-4975-b5b8-a6c32d5981dd"
      },
      "source": [
        "df_blank = df.iloc[0:0]\n",
        "print(df_blank)\n",
        "df1 = df_blank.append(df)\n",
        "print(df1)"
      ],
      "execution_count": null,
      "outputs": [
        {
          "output_type": "stream",
          "text": [
            "Empty DataFrame\n",
            "Columns: [ID, プロジェクトID, 公開年度, 事業名, objective_x, objective_y]\n",
            "Index: []\n",
            "          ID  プロジェクトID  公開年度                  事業名  objective_x  objective_y\n",
            "0         13        16  2015               内閣広報経費    -3.427058    36.508163\n",
            "1      10604        16  2017               内閣広報経費    -3.443014    36.496967\n",
            "2      24982        16  2019               内閣広報経費    -3.433842    36.497105\n",
            "3      15765        16  2018               内閣広報経費    20.884544   130.967896\n",
            "4       5377        16  2016               内閣広報経費    -3.429540    36.508717\n",
            "...      ...       ...   ...                  ...          ...          ...\n",
            "22110  22976      8983  2019    中小企業・小規模事業者人材対策事業    -0.105321   -19.544006\n",
            "22111  25938        44  2019       中長期の経済運営に必要な経費    28.377846   -26.652079\n",
            "22112  25500      4895  2019            農山漁村振興交付金    -7.667183   -13.079095\n",
            "22113  13514      4916  2017  農林水産物の品目別輸出促進緊急対策事業   -43.182682   -32.702126\n",
            "22114  18677      4916  2018  農林水産物の品目別輸出促進緊急対策事業   123.480263    24.757841\n",
            "\n",
            "[22115 rows x 6 columns]\n"
          ],
          "name": "stdout"
        }
      ]
    }
  ]
}