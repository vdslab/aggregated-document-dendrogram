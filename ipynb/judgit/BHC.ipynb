{
  "nbformat": 4,
  "nbformat_minor": 0,
  "metadata": {
    "colab": {
      "name": "BHC.ipynb",
      "provenance": [],
      "authorship_tag": "ABX9TyNO1quoJOg4yPKbFzYW+vtJ",
      "include_colab_link": true
    },
    "kernelspec": {
      "name": "python3",
      "display_name": "Python 3"
    },
    "language_info": {
      "name": "python"
    }
  },
  "cells": [
    {
      "cell_type": "markdown",
      "metadata": {
        "id": "view-in-github",
        "colab_type": "text"
      },
      "source": [
        "<a href=\"https://colab.research.google.com/github/vdslab/aggregated-document-dendrogram/blob/main/ipynb/judgit/BHC.ipynb\" target=\"_parent\"><img src=\"https://colab.research.google.com/assets/colab-badge.svg\" alt=\"Open In Colab\"/></a>"
      ]
    },
    {
      "cell_type": "code",
      "source": [
        "!git clone 'https://github.com/caponetto/bayesian-hierarchical-clustering'\n",
        "!git clone 'https://github.com/caponetto/bayesian-hierarchical-clustering-examples'"
      ],
      "metadata": {
        "colab": {
          "base_uri": "https://localhost:8080/"
        },
        "id": "3B_wc6RYfboN",
        "outputId": "8cd5963e-61db-491b-dbab-505281330ca9"
      },
      "execution_count": null,
      "outputs": [
        {
          "output_type": "stream",
          "name": "stdout",
          "text": [
            "fatal: destination path 'bayesian-hierarchical-clustering' already exists and is not an empty directory.\n",
            "fatal: destination path 'bayesian-hierarchical-clustering-examples' already exists and is not an empty directory.\n"
          ]
        }
      ]
    },
    {
      "cell_type": "code",
      "source": [
        "!ls"
      ],
      "metadata": {
        "colab": {
          "base_uri": "https://localhost:8080/"
        },
        "id": "uLyGGFHbndNj",
        "outputId": "0d25387a-e44d-4b14-a59c-3f2b0fd7db9c"
      },
      "execution_count": null,
      "outputs": [
        {
          "output_type": "stream",
          "name": "stdout",
          "text": [
            "bayesian-hierarchical-clustering\t   sample_data\n",
            "bayesian-hierarchical-clustering-examples\n"
          ]
        }
      ]
    },
    {
      "cell_type": "code",
      "source": [
        "!cd /content/bayesian-hierarchical-clustering && python setup.py install"
      ],
      "metadata": {
        "colab": {
          "base_uri": "https://localhost:8080/"
        },
        "id": "bDs28XnTnzmY",
        "outputId": "fa334f6e-5dd3-4222-cdb3-b18f7ad7bd2d"
      },
      "execution_count": null,
      "outputs": [
        {
          "output_type": "stream",
          "name": "stdout",
          "text": [
            "running install\n",
            "running bdist_egg\n",
            "running egg_info\n",
            "writing bhc.egg-info/PKG-INFO\n",
            "writing dependency_links to bhc.egg-info/dependency_links.txt\n",
            "writing requirements to bhc.egg-info/requires.txt\n",
            "writing top-level names to bhc.egg-info/top_level.txt\n",
            "reading manifest template 'MANIFEST.in'\n",
            "warning: no previously-included files matching '__pycache__' found under directory '*'\n",
            "warning: no previously-included files matching '*.pyc' found under directory '*'\n",
            "warning: no previously-included files matching '*.pyo' found under directory '*'\n",
            "warning: no previously-included files matching '*.orig' found under directory '*'\n",
            "adding license file 'LICENSE'\n",
            "writing manifest file 'bhc.egg-info/SOURCES.txt'\n",
            "installing library code to build/bdist.linux-x86_64/egg\n",
            "running install_lib\n",
            "running build_py\n",
            "UPDATING build/lib/bhc/_version.py\n",
            "set build/lib/bhc/_version.py to '0.0.3+6.gd6659b3.dirty'\n",
            "creating build/bdist.linux-x86_64/egg\n",
            "creating build/bdist.linux-x86_64/egg/bhc\n",
            "creating build/bdist.linux-x86_64/egg/bhc/core\n",
            "copying build/lib/bhc/core/bhc.py -> build/bdist.linux-x86_64/egg/bhc/core\n",
            "copying build/lib/bhc/core/brt.py -> build/bdist.linux-x86_64/egg/bhc/core\n",
            "copying build/lib/bhc/core/__init__.py -> build/bdist.linux-x86_64/egg/bhc/core\n",
            "copying build/lib/bhc/core/prior.py -> build/bdist.linux-x86_64/egg/bhc/core\n",
            "copying build/lib/bhc/api.py -> build/bdist.linux-x86_64/egg/bhc\n",
            "copying build/lib/bhc/__init__.py -> build/bdist.linux-x86_64/egg/bhc\n",
            "copying build/lib/bhc/_version.py -> build/bdist.linux-x86_64/egg/bhc\n",
            "creating build/bdist.linux-x86_64/egg/bhc/tests\n",
            "creating build/bdist.linux-x86_64/egg/bhc/tests/core\n",
            "copying build/lib/bhc/tests/core/test_brt.py -> build/bdist.linux-x86_64/egg/bhc/tests/core\n",
            "copying build/lib/bhc/tests/core/test_bhc.py -> build/bdist.linux-x86_64/egg/bhc/tests/core\n",
            "copying build/lib/bhc/tests/core/test_prior.py -> build/bdist.linux-x86_64/egg/bhc/tests/core\n",
            "creating build/bdist.linux-x86_64/egg/bhc/tests/snapshots\n",
            "copying build/lib/bhc/tests/snapshots/brt_example.obj -> build/bdist.linux-x86_64/egg/bhc/tests/snapshots\n",
            "copying build/lib/bhc/tests/snapshots/bhc_example.obj -> build/bdist.linux-x86_64/egg/bhc/tests/snapshots\n",
            "copying build/lib/bhc/tests/test_basic.py -> build/bdist.linux-x86_64/egg/bhc/tests\n",
            "byte-compiling build/bdist.linux-x86_64/egg/bhc/core/bhc.py to bhc.cpython-37.pyc\n",
            "byte-compiling build/bdist.linux-x86_64/egg/bhc/core/brt.py to brt.cpython-37.pyc\n",
            "byte-compiling build/bdist.linux-x86_64/egg/bhc/core/__init__.py to __init__.cpython-37.pyc\n",
            "byte-compiling build/bdist.linux-x86_64/egg/bhc/core/prior.py to prior.cpython-37.pyc\n",
            "byte-compiling build/bdist.linux-x86_64/egg/bhc/api.py to api.cpython-37.pyc\n",
            "byte-compiling build/bdist.linux-x86_64/egg/bhc/__init__.py to __init__.cpython-37.pyc\n",
            "byte-compiling build/bdist.linux-x86_64/egg/bhc/_version.py to _version.cpython-37.pyc\n",
            "byte-compiling build/bdist.linux-x86_64/egg/bhc/tests/core/test_brt.py to test_brt.cpython-37.pyc\n",
            "byte-compiling build/bdist.linux-x86_64/egg/bhc/tests/core/test_bhc.py to test_bhc.cpython-37.pyc\n",
            "byte-compiling build/bdist.linux-x86_64/egg/bhc/tests/core/test_prior.py to test_prior.cpython-37.pyc\n",
            "byte-compiling build/bdist.linux-x86_64/egg/bhc/tests/test_basic.py to test_basic.cpython-37.pyc\n",
            "creating build/bdist.linux-x86_64/egg/EGG-INFO\n",
            "copying bhc.egg-info/PKG-INFO -> build/bdist.linux-x86_64/egg/EGG-INFO\n",
            "copying bhc.egg-info/SOURCES.txt -> build/bdist.linux-x86_64/egg/EGG-INFO\n",
            "copying bhc.egg-info/dependency_links.txt -> build/bdist.linux-x86_64/egg/EGG-INFO\n",
            "copying bhc.egg-info/requires.txt -> build/bdist.linux-x86_64/egg/EGG-INFO\n",
            "copying bhc.egg-info/top_level.txt -> build/bdist.linux-x86_64/egg/EGG-INFO\n",
            "zip_safe flag not set; analyzing archive contents...\n",
            "bhc.tests.__pycache__.test_basic.cpython-37: module references __file__\n",
            "creating 'dist/bhc-0.0.3+6.gd6659b3.dirty-py3.7.egg' and adding 'build/bdist.linux-x86_64/egg' to it\n",
            "removing 'build/bdist.linux-x86_64/egg' (and everything under it)\n",
            "Processing bhc-0.0.3+6.gd6659b3.dirty-py3.7.egg\n",
            "creating /usr/local/lib/python3.7/dist-packages/bhc-0.0.3+6.gd6659b3.dirty-py3.7.egg\n",
            "Extracting bhc-0.0.3+6.gd6659b3.dirty-py3.7.egg to /usr/local/lib/python3.7/dist-packages\n",
            "Removing bhc 0.0.3+6.gd6659b3 from easy-install.pth file\n",
            "Adding bhc 0.0.3+6.gd6659b3.dirty to easy-install.pth file\n",
            "\n",
            "Installed /usr/local/lib/python3.7/dist-packages/bhc-0.0.3+6.gd6659b3.dirty-py3.7.egg\n",
            "Processing dependencies for bhc==0.0.3+6.gd6659b3.dirty\n",
            "Searching for numpy==1.21.6\n",
            "Best match: numpy 1.21.6\n",
            "Adding numpy 1.21.6 to easy-install.pth file\n",
            "Installing f2py script to /usr/local/bin\n",
            "Installing f2py3 script to /usr/local/bin\n",
            "Installing f2py3.7 script to /usr/local/bin\n",
            "\n",
            "Using /usr/local/lib/python3.7/dist-packages\n",
            "Finished processing dependencies for bhc==0.0.3+6.gd6659b3.dirty\n"
          ]
        }
      ]
    },
    {
      "cell_type": "code",
      "source": [
        "!pip install graphviz\n",
        "!pip install pydot"
      ],
      "metadata": {
        "colab": {
          "base_uri": "https://localhost:8080/"
        },
        "id": "QfTTl4DwoFbu",
        "outputId": "9e3f43fa-eba7-4bd9-b35a-2a19639a38ec"
      },
      "execution_count": null,
      "outputs": [
        {
          "output_type": "stream",
          "name": "stdout",
          "text": [
            "Looking in indexes: https://pypi.org/simple, https://us-python.pkg.dev/colab-wheels/public/simple/\n",
            "Requirement already satisfied: graphviz in /usr/local/lib/python3.7/dist-packages (0.10.1)\n",
            "Looking in indexes: https://pypi.org/simple, https://us-python.pkg.dev/colab-wheels/public/simple/\n",
            "Requirement already satisfied: pydot in /usr/local/lib/python3.7/dist-packages (1.3.0)\n",
            "Requirement already satisfied: pyparsing>=2.1.4 in /usr/local/lib/python3.7/dist-packages (from pydot) (3.0.9)\n"
          ]
        }
      ]
    },
    {
      "cell_type": "code",
      "source": [
        "!cd /content/bayesian-hierarchical-clustering-examples && python example.py"
      ],
      "metadata": {
        "id": "du5mm7kTpSGx"
      },
      "execution_count": null,
      "outputs": []
    },
    {
      "cell_type": "code",
      "source": [
        ""
      ],
      "metadata": {
        "id": "mmDyVOWyqVAU"
      },
      "execution_count": null,
      "outputs": []
    }
  ]
}