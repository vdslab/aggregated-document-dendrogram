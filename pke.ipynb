{
  "nbformat": 4,
  "nbformat_minor": 0,
  "metadata": {
    "colab": {
      "name": "pke.ipynb",
      "provenance": [],
      "mount_file_id": "1XTUYiVY4i7brbgqvpiGuNmaqZy5cSPLL",
      "authorship_tag": "ABX9TyOu21Stbc2sEIHBoDTXnTJT",
      "include_colab_link": true
    },
    "kernelspec": {
      "name": "python3",
      "display_name": "Python 3"
    },
    "language_info": {
      "name": "python"
    },
    "accelerator": "GPU"
  },
  "cells": [
    {
      "cell_type": "markdown",
      "metadata": {
        "id": "view-in-github",
        "colab_type": "text"
      },
      "source": [
        "<a href=\"https://colab.research.google.com/github/vdslab/t-taiki0620/blob/main/pke.ipynb\" target=\"_parent\"><img src=\"https://colab.research.google.com/assets/colab-badge.svg\" alt=\"Open In Colab\"/></a>"
      ]
    },
    {
      "cell_type": "markdown",
      "metadata": {
        "id": "efy22lAbBvf8"
      },
      "source": [
        "https://github.com/boudinfl/pke/tree/master/tests\n"
      ]
    },
    {
      "cell_type": "code",
      "metadata": {
        "colab": {
          "base_uri": "https://localhost:8080/"
        },
        "id": "nJtTFQwLg2B7",
        "outputId": "71952d61-40b3-4397-a6fa-ed9ebb6cad30"
      },
      "source": [
        "get_key_phrase(spacy_model, df_2018.loc[50][separation])"
      ],
      "execution_count": 12,
      "outputs": [
        {
          "output_type": "execute_result",
          "data": {
            "text/plain": [
              "[('保護者 亡き 後', 0.2214015337069557),\n",
              " ('等 措置', 0.14760152247130373),\n",
              " ('積立 不足分', 0.14760127247130372),\n",
              " ('終身 一定', 0.14760115247130373),\n",
              " ('心身 障害者', 0.14760102247130372)]"
            ]
          },
          "metadata": {
            "tags": []
          },
          "execution_count": 12
        }
      ]
    },
    {
      "cell_type": "code",
      "metadata": {
        "colab": {
          "base_uri": "https://localhost:8080/"
        },
        "id": "RoEtvn3phNb2",
        "outputId": "bf98a74a-8646-4fe7-9f13-9ed8d4231161"
      },
      "source": [
        "get_key_phrase(spacy_model, df_2018.loc[50][separation])"
      ],
      "execution_count": 14,
      "outputs": [
        {
          "output_type": "execute_result",
          "data": {
            "text/plain": [
              "[('心身 障害者', 0.1481289971273361),\n",
              " ('保護者 亡き 後', 0.10861904638939791),\n",
              " ('積立 不足分', 0.09232125857725365),\n",
              " ('障害者', 0.09009648969598405),\n",
              " ('等 措置', 0.06694125371202614)]"
            ]
          },
          "metadata": {
            "tags": []
          },
          "execution_count": 14
        }
      ]
    },
    {
      "cell_type": "code",
      "metadata": {
        "colab": {
          "base_uri": "https://localhost:8080/"
        },
        "id": "X24BfKxshVWE",
        "outputId": "23fcb4e6-1544-4cba-913e-bf4901277a23"
      },
      "source": [
        "get_key_phrase(spacy_model, df_2018.loc[50][separation])"
      ],
      "execution_count": 16,
      "outputs": [
        {
          "output_type": "execute_result",
          "data": {
            "text/plain": [
              "[('心身 障害者', 0.23277712048192484),\n",
              " ('障害者', 0.12827502329289944),\n",
              " ('亡き 後', 0.11263445174008774),\n",
              " ('地方公共団体', 0.08864221798789218),\n",
              " ('終身 一定', 0.07026840471217352)]"
            ]
          },
          "metadata": {
            "tags": []
          },
          "execution_count": 16
        }
      ]
    },
    {
      "cell_type": "code",
      "metadata": {
        "colab": {
          "base_uri": "https://localhost:8080/"
        },
        "id": "uEKWreWJhbMc",
        "outputId": "58850d54-1200-4ea1-98bb-ff3b3141d06e"
      },
      "source": [
        "get_key_phrase(spacy_model, df_2018.loc[50][separation])"
      ],
      "execution_count": 18,
      "outputs": [
        {
          "output_type": "execute_result",
          "data": {
            "text/plain": [
              "[('心身 障害者', 0.20749705932991053),\n",
              " ('積立 不足分', 0.16400051170609026),\n",
              " ('年金給付', 0.11396399134016062),\n",
              " ('心身障害者扶養共済制度', 0.11327922594479506),\n",
              " ('都道府県', 0.11091629543933294)]"
            ]
          },
          "metadata": {
            "tags": []
          },
          "execution_count": 18
        }
      ]
    },
    {
      "cell_type": "code",
      "metadata": {
        "colab": {
          "base_uri": "https://localhost:8080/"
        },
        "id": "hPVzjYq3grNu",
        "outputId": "8031490b-d02f-4e8a-a2b6-5a47df628e9d"
      },
      "source": [
        "get_key_phrase(spacy_model, df_2018.loc[50][separation])"
      ],
      "execution_count": 10,
      "outputs": [
        {
          "output_type": "execute_result",
          "data": {
            "text/plain": [
              "[('心身 障害者', 0.18657780167705035),\n",
              " ('積立 不足分', 0.1427476676891602),\n",
              " ('年金給付', 0.12066253418865466),\n",
              " ('心身障害者扶養共済制度', 0.10373923122277962),\n",
              " ('終身 一定', 0.10104035388903683)]"
            ]
          },
          "metadata": {
            "tags": []
          },
          "execution_count": 10
        }
      ]
    },
    {
      "cell_type": "code",
      "metadata": {
        "colab": {
          "base_uri": "https://localhost:8080/"
        },
        "id": "uBTGrhxmYaIT",
        "outputId": "4aa43d7b-e374-4fc7-f630-74b9f36cf12c"
      },
      "source": [
        "!pip install git+https://github.com/boudinfl/pke.git\n",
        "!pip install ginza\n",
        "!pip install nltk\n",
        "!pip install spacy==2.3.6\n",
        "!python -m nltk.downloader stopwords\n",
        "!pip install mojimoji"
      ],
      "execution_count": 1,
      "outputs": [
        {
          "output_type": "stream",
          "text": [
            "Collecting git+https://github.com/boudinfl/pke.git\n",
            "  Cloning https://github.com/boudinfl/pke.git to /tmp/pip-req-build-gm_3eiun\n",
            "  Running command git clone -q https://github.com/boudinfl/pke.git /tmp/pip-req-build-gm_3eiun\n",
            "Requirement already satisfied: nltk in /usr/local/lib/python3.7/dist-packages (from pke==1.8.1) (3.2.5)\n",
            "Requirement already satisfied: networkx in /usr/local/lib/python3.7/dist-packages (from pke==1.8.1) (2.5.1)\n",
            "Requirement already satisfied: numpy in /usr/local/lib/python3.7/dist-packages (from pke==1.8.1) (1.19.5)\n",
            "Requirement already satisfied: scipy in /usr/local/lib/python3.7/dist-packages (from pke==1.8.1) (1.4.1)\n",
            "Requirement already satisfied: spacy in /usr/local/lib/python3.7/dist-packages (from pke==1.8.1) (2.2.4)\n",
            "Requirement already satisfied: six in /usr/local/lib/python3.7/dist-packages (from pke==1.8.1) (1.15.0)\n",
            "Requirement already satisfied: sklearn in /usr/local/lib/python3.7/dist-packages (from pke==1.8.1) (0.0)\n",
            "Collecting unidecode\n",
            "  Downloading Unidecode-1.2.0-py2.py3-none-any.whl (241 kB)\n",
            "\u001b[K     |████████████████████████████████| 241 kB 8.6 MB/s \n",
            "\u001b[?25hRequirement already satisfied: future in /usr/local/lib/python3.7/dist-packages (from pke==1.8.1) (0.16.0)\n",
            "Requirement already satisfied: joblib in /usr/local/lib/python3.7/dist-packages (from pke==1.8.1) (1.0.1)\n",
            "Requirement already satisfied: decorator<5,>=4.3 in /usr/local/lib/python3.7/dist-packages (from networkx->pke==1.8.1) (4.4.2)\n",
            "Requirement already satisfied: scikit-learn in /usr/local/lib/python3.7/dist-packages (from sklearn->pke==1.8.1) (0.22.2.post1)\n",
            "Requirement already satisfied: setuptools in /usr/local/lib/python3.7/dist-packages (from spacy->pke==1.8.1) (57.2.0)\n",
            "Requirement already satisfied: thinc==7.4.0 in /usr/local/lib/python3.7/dist-packages (from spacy->pke==1.8.1) (7.4.0)\n",
            "Requirement already satisfied: wasabi<1.1.0,>=0.4.0 in /usr/local/lib/python3.7/dist-packages (from spacy->pke==1.8.1) (0.8.2)\n",
            "Requirement already satisfied: catalogue<1.1.0,>=0.0.7 in /usr/local/lib/python3.7/dist-packages (from spacy->pke==1.8.1) (1.0.0)\n",
            "Requirement already satisfied: cymem<2.1.0,>=2.0.2 in /usr/local/lib/python3.7/dist-packages (from spacy->pke==1.8.1) (2.0.5)\n",
            "Requirement already satisfied: srsly<1.1.0,>=1.0.2 in /usr/local/lib/python3.7/dist-packages (from spacy->pke==1.8.1) (1.0.5)\n",
            "Requirement already satisfied: tqdm<5.0.0,>=4.38.0 in /usr/local/lib/python3.7/dist-packages (from spacy->pke==1.8.1) (4.41.1)\n",
            "Requirement already satisfied: plac<1.2.0,>=0.9.6 in /usr/local/lib/python3.7/dist-packages (from spacy->pke==1.8.1) (1.1.3)\n",
            "Requirement already satisfied: requests<3.0.0,>=2.13.0 in /usr/local/lib/python3.7/dist-packages (from spacy->pke==1.8.1) (2.23.0)\n",
            "Requirement already satisfied: blis<0.5.0,>=0.4.0 in /usr/local/lib/python3.7/dist-packages (from spacy->pke==1.8.1) (0.4.1)\n",
            "Requirement already satisfied: preshed<3.1.0,>=3.0.2 in /usr/local/lib/python3.7/dist-packages (from spacy->pke==1.8.1) (3.0.5)\n",
            "Requirement already satisfied: murmurhash<1.1.0,>=0.28.0 in /usr/local/lib/python3.7/dist-packages (from spacy->pke==1.8.1) (1.0.5)\n",
            "Requirement already satisfied: importlib-metadata>=0.20 in /usr/local/lib/python3.7/dist-packages (from catalogue<1.1.0,>=0.0.7->spacy->pke==1.8.1) (4.6.1)\n",
            "Requirement already satisfied: typing-extensions>=3.6.4 in /usr/local/lib/python3.7/dist-packages (from importlib-metadata>=0.20->catalogue<1.1.0,>=0.0.7->spacy->pke==1.8.1) (3.7.4.3)\n",
            "Requirement already satisfied: zipp>=0.5 in /usr/local/lib/python3.7/dist-packages (from importlib-metadata>=0.20->catalogue<1.1.0,>=0.0.7->spacy->pke==1.8.1) (3.5.0)\n",
            "Requirement already satisfied: idna<3,>=2.5 in /usr/local/lib/python3.7/dist-packages (from requests<3.0.0,>=2.13.0->spacy->pke==1.8.1) (2.10)\n",
            "Requirement already satisfied: chardet<4,>=3.0.2 in /usr/local/lib/python3.7/dist-packages (from requests<3.0.0,>=2.13.0->spacy->pke==1.8.1) (3.0.4)\n",
            "Requirement already satisfied: urllib3!=1.25.0,!=1.25.1,<1.26,>=1.21.1 in /usr/local/lib/python3.7/dist-packages (from requests<3.0.0,>=2.13.0->spacy->pke==1.8.1) (1.24.3)\n",
            "Requirement already satisfied: certifi>=2017.4.17 in /usr/local/lib/python3.7/dist-packages (from requests<3.0.0,>=2.13.0->spacy->pke==1.8.1) (2021.5.30)\n",
            "Building wheels for collected packages: pke\n",
            "  Building wheel for pke (setup.py) ... \u001b[?25l\u001b[?25hdone\n",
            "  Created wheel for pke: filename=pke-1.8.1-py3-none-any.whl size=8763773 sha256=8f2b985d7c932de078874092e710f40ab9cb19813471c66f7bb6a5dc194959ac\n",
            "  Stored in directory: /tmp/pip-ephem-wheel-cache-ow4c0rcy/wheels/fa/b3/09/612ee93bf3ee4164bcd5783e742942cdfc892a86039d3e0a33\n",
            "Successfully built pke\n",
            "Installing collected packages: unidecode, pke\n",
            "Successfully installed pke-1.8.1 unidecode-1.2.0\n",
            "Collecting ginza\n",
            "  Downloading ginza-4.0.6.tar.gz (20 kB)\n",
            "Collecting spacy<3.0.0,>=2.3.2\n",
            "  Downloading spacy-2.3.7-cp37-cp37m-manylinux_2_17_x86_64.manylinux2014_x86_64.whl (10.4 MB)\n",
            "\u001b[K     |████████████████████████████████| 10.4 MB 8.1 MB/s \n",
            "\u001b[?25hCollecting ja_ginza<4.1.0,>=4.0.0\n",
            "  Downloading ja_ginza-4.0.0.tar.gz (51.5 MB)\n",
            "\u001b[K     |████████████████████████████████| 51.5 MB 13 kB/s \n",
            "\u001b[?25hCollecting SudachiPy>=0.4.9\n",
            "  Downloading SudachiPy-0.5.2.tar.gz (70 kB)\n",
            "\u001b[K     |████████████████████████████████| 70 kB 9.7 MB/s \n",
            "\u001b[?25hCollecting SudachiDict-core>=20200330\n",
            "  Downloading SudachiDict-core-20210608.tar.gz (9.1 kB)\n",
            "Requirement already satisfied: preshed<3.1.0,>=3.0.2 in /usr/local/lib/python3.7/dist-packages (from spacy<3.0.0,>=2.3.2->ginza) (3.0.5)\n",
            "Requirement already satisfied: tqdm<5.0.0,>=4.38.0 in /usr/local/lib/python3.7/dist-packages (from spacy<3.0.0,>=2.3.2->ginza) (4.41.1)\n",
            "Requirement already satisfied: numpy>=1.15.0 in /usr/local/lib/python3.7/dist-packages (from spacy<3.0.0,>=2.3.2->ginza) (1.19.5)\n",
            "Requirement already satisfied: wasabi<1.1.0,>=0.4.0 in /usr/local/lib/python3.7/dist-packages (from spacy<3.0.0,>=2.3.2->ginza) (0.8.2)\n",
            "Requirement already satisfied: plac<1.2.0,>=0.9.6 in /usr/local/lib/python3.7/dist-packages (from spacy<3.0.0,>=2.3.2->ginza) (1.1.3)\n",
            "Requirement already satisfied: blis<0.8.0,>=0.4.0 in /usr/local/lib/python3.7/dist-packages (from spacy<3.0.0,>=2.3.2->ginza) (0.4.1)\n",
            "Requirement already satisfied: srsly<1.1.0,>=1.0.2 in /usr/local/lib/python3.7/dist-packages (from spacy<3.0.0,>=2.3.2->ginza) (1.0.5)\n",
            "Requirement already satisfied: murmurhash<1.1.0,>=0.28.0 in /usr/local/lib/python3.7/dist-packages (from spacy<3.0.0,>=2.3.2->ginza) (1.0.5)\n",
            "Requirement already satisfied: setuptools in /usr/local/lib/python3.7/dist-packages (from spacy<3.0.0,>=2.3.2->ginza) (57.2.0)\n",
            "Requirement already satisfied: requests<3.0.0,>=2.13.0 in /usr/local/lib/python3.7/dist-packages (from spacy<3.0.0,>=2.3.2->ginza) (2.23.0)\n",
            "Requirement already satisfied: catalogue<1.1.0,>=0.0.7 in /usr/local/lib/python3.7/dist-packages (from spacy<3.0.0,>=2.3.2->ginza) (1.0.0)\n",
            "Collecting thinc<7.5.0,>=7.4.1\n",
            "  Downloading thinc-7.4.5-cp37-cp37m-manylinux2014_x86_64.whl (1.0 MB)\n",
            "\u001b[K     |████████████████████████████████| 1.0 MB 41.1 MB/s \n",
            "\u001b[?25hRequirement already satisfied: cymem<2.1.0,>=2.0.2 in /usr/local/lib/python3.7/dist-packages (from spacy<3.0.0,>=2.3.2->ginza) (2.0.5)\n",
            "Requirement already satisfied: importlib-metadata>=0.20 in /usr/local/lib/python3.7/dist-packages (from catalogue<1.1.0,>=0.0.7->spacy<3.0.0,>=2.3.2->ginza) (4.6.1)\n",
            "Requirement already satisfied: typing-extensions>=3.6.4 in /usr/local/lib/python3.7/dist-packages (from importlib-metadata>=0.20->catalogue<1.1.0,>=0.0.7->spacy<3.0.0,>=2.3.2->ginza) (3.7.4.3)\n",
            "Requirement already satisfied: zipp>=0.5 in /usr/local/lib/python3.7/dist-packages (from importlib-metadata>=0.20->catalogue<1.1.0,>=0.0.7->spacy<3.0.0,>=2.3.2->ginza) (3.5.0)\n",
            "Requirement already satisfied: chardet<4,>=3.0.2 in /usr/local/lib/python3.7/dist-packages (from requests<3.0.0,>=2.13.0->spacy<3.0.0,>=2.3.2->ginza) (3.0.4)\n",
            "Requirement already satisfied: urllib3!=1.25.0,!=1.25.1,<1.26,>=1.21.1 in /usr/local/lib/python3.7/dist-packages (from requests<3.0.0,>=2.13.0->spacy<3.0.0,>=2.3.2->ginza) (1.24.3)\n",
            "Requirement already satisfied: idna<3,>=2.5 in /usr/local/lib/python3.7/dist-packages (from requests<3.0.0,>=2.13.0->spacy<3.0.0,>=2.3.2->ginza) (2.10)\n",
            "Requirement already satisfied: certifi>=2017.4.17 in /usr/local/lib/python3.7/dist-packages (from requests<3.0.0,>=2.13.0->spacy<3.0.0,>=2.3.2->ginza) (2021.5.30)\n",
            "Collecting sortedcontainers~=2.1.0\n",
            "  Downloading sortedcontainers-2.1.0-py2.py3-none-any.whl (28 kB)\n",
            "Collecting dartsclone~=0.9.0\n",
            "  Downloading dartsclone-0.9.0-cp37-cp37m-manylinux1_x86_64.whl (473 kB)\n",
            "\u001b[K     |████████████████████████████████| 473 kB 47.0 MB/s \n",
            "\u001b[?25hRequirement already satisfied: Cython in /usr/local/lib/python3.7/dist-packages (from dartsclone~=0.9.0->SudachiPy>=0.4.9->ginza) (0.29.23)\n",
            "Building wheels for collected packages: ginza, ja-ginza, SudachiDict-core, SudachiPy\n",
            "  Building wheel for ginza (setup.py) ... \u001b[?25l\u001b[?25hdone\n",
            "  Created wheel for ginza: filename=ginza-4.0.6-py3-none-any.whl size=15793 sha256=ca0f397c69414a7ecf123ac3ee8d18800ea2295c8ee9f440158de48e3e56d25e\n",
            "  Stored in directory: /root/.cache/pip/wheels/b9/03/a1/4bd525bb359f897919e88c98c36e890ec27ce8da9c731a1206\n",
            "  Building wheel for ja-ginza (setup.py) ... \u001b[?25l\u001b[?25hdone\n",
            "  Created wheel for ja-ginza: filename=ja_ginza-4.0.0-py3-none-any.whl size=51530814 sha256=2c5abe3ac0ce85fd7341e1f08f82b4063ae1565b9ae5f4f9b24c183add71d4a0\n",
            "  Stored in directory: /root/.cache/pip/wheels/a8/f5/4a/5d4877342f912e0b7209d8a65e7ce39fe2c1a3c2511d59acfb\n",
            "  Building wheel for SudachiDict-core (setup.py) ... \u001b[?25l\u001b[?25hdone\n",
            "  Created wheel for SudachiDict-core: filename=SudachiDict_core-20210608-py3-none-any.whl size=71421461 sha256=6c9d5f86b73ff5ebcfc53a245fb94113413193d47c108685b620dff46ffe4eea\n",
            "  Stored in directory: /root/.cache/pip/wheels/08/3e/74/0beaa92bc46b8d5c14b53d2640f8c3d74cbb33b4ec1fc6c213\n",
            "  Building wheel for SudachiPy (setup.py) ... \u001b[?25l\u001b[?25hdone\n",
            "  Created wheel for SudachiPy: filename=SudachiPy-0.5.2-cp37-cp37m-linux_x86_64.whl size=870269 sha256=b1c66a5808acc6a69085fbbc5d21bea565a3f4f4cea3acad64cef835cbc0522d\n",
            "  Stored in directory: /root/.cache/pip/wheels/43/72/0f/1c62895bde30566c65602f15ddbfa0b2bbc273f8c43c190a45\n",
            "Successfully built ginza ja-ginza SudachiDict-core SudachiPy\n",
            "Installing collected packages: thinc, sortedcontainers, dartsclone, SudachiPy, spacy, SudachiDict-core, ja-ginza, ginza\n",
            "  Attempting uninstall: thinc\n",
            "    Found existing installation: thinc 7.4.0\n",
            "    Uninstalling thinc-7.4.0:\n",
            "      Successfully uninstalled thinc-7.4.0\n",
            "  Attempting uninstall: sortedcontainers\n",
            "    Found existing installation: sortedcontainers 2.4.0\n",
            "    Uninstalling sortedcontainers-2.4.0:\n",
            "      Successfully uninstalled sortedcontainers-2.4.0\n",
            "  Attempting uninstall: spacy\n",
            "    Found existing installation: spacy 2.2.4\n",
            "    Uninstalling spacy-2.2.4:\n",
            "      Successfully uninstalled spacy-2.2.4\n",
            "Successfully installed SudachiDict-core-20210608 SudachiPy-0.5.2 dartsclone-0.9.0 ginza-4.0.6 ja-ginza-4.0.0 sortedcontainers-2.1.0 spacy-2.3.7 thinc-7.4.5\n",
            "Requirement already satisfied: nltk in /usr/local/lib/python3.7/dist-packages (3.2.5)\n",
            "Requirement already satisfied: six in /usr/local/lib/python3.7/dist-packages (from nltk) (1.15.0)\n",
            "Collecting spacy==2.3.6\n",
            "  Downloading spacy-2.3.6-cp37-cp37m-manylinux_2_17_x86_64.manylinux2014_x86_64.whl (10.4 MB)\n",
            "\u001b[K     |████████████████████████████████| 10.4 MB 9.5 kB/s \n",
            "\u001b[?25hRequirement already satisfied: numpy>=1.15.0 in /usr/local/lib/python3.7/dist-packages (from spacy==2.3.6) (1.19.5)\n",
            "Requirement already satisfied: requests<3.0.0,>=2.13.0 in /usr/local/lib/python3.7/dist-packages (from spacy==2.3.6) (2.23.0)\n",
            "Requirement already satisfied: catalogue<1.1.0,>=0.0.7 in /usr/local/lib/python3.7/dist-packages (from spacy==2.3.6) (1.0.0)\n",
            "Requirement already satisfied: preshed<3.1.0,>=3.0.2 in /usr/local/lib/python3.7/dist-packages (from spacy==2.3.6) (3.0.5)\n",
            "Requirement already satisfied: plac<1.2.0,>=0.9.6 in /usr/local/lib/python3.7/dist-packages (from spacy==2.3.6) (1.1.3)\n",
            "Requirement already satisfied: thinc<7.5.0,>=7.4.1 in /usr/local/lib/python3.7/dist-packages (from spacy==2.3.6) (7.4.5)\n",
            "Requirement already satisfied: cymem<2.1.0,>=2.0.2 in /usr/local/lib/python3.7/dist-packages (from spacy==2.3.6) (2.0.5)\n",
            "Requirement already satisfied: tqdm<5.0.0,>=4.38.0 in /usr/local/lib/python3.7/dist-packages (from spacy==2.3.6) (4.41.1)\n",
            "Requirement already satisfied: setuptools in /usr/local/lib/python3.7/dist-packages (from spacy==2.3.6) (57.2.0)\n",
            "Requirement already satisfied: srsly<1.1.0,>=1.0.2 in /usr/local/lib/python3.7/dist-packages (from spacy==2.3.6) (1.0.5)\n",
            "Requirement already satisfied: wasabi<1.1.0,>=0.4.0 in /usr/local/lib/python3.7/dist-packages (from spacy==2.3.6) (0.8.2)\n",
            "Requirement already satisfied: blis<0.8.0,>=0.4.0 in /usr/local/lib/python3.7/dist-packages (from spacy==2.3.6) (0.4.1)\n",
            "Requirement already satisfied: murmurhash<1.1.0,>=0.28.0 in /usr/local/lib/python3.7/dist-packages (from spacy==2.3.6) (1.0.5)\n",
            "Requirement already satisfied: importlib-metadata>=0.20 in /usr/local/lib/python3.7/dist-packages (from catalogue<1.1.0,>=0.0.7->spacy==2.3.6) (4.6.1)\n",
            "Requirement already satisfied: typing-extensions>=3.6.4 in /usr/local/lib/python3.7/dist-packages (from importlib-metadata>=0.20->catalogue<1.1.0,>=0.0.7->spacy==2.3.6) (3.7.4.3)\n",
            "Requirement already satisfied: zipp>=0.5 in /usr/local/lib/python3.7/dist-packages (from importlib-metadata>=0.20->catalogue<1.1.0,>=0.0.7->spacy==2.3.6) (3.5.0)\n",
            "Requirement already satisfied: idna<3,>=2.5 in /usr/local/lib/python3.7/dist-packages (from requests<3.0.0,>=2.13.0->spacy==2.3.6) (2.10)\n",
            "Requirement already satisfied: urllib3!=1.25.0,!=1.25.1,<1.26,>=1.21.1 in /usr/local/lib/python3.7/dist-packages (from requests<3.0.0,>=2.13.0->spacy==2.3.6) (1.24.3)\n",
            "Requirement already satisfied: certifi>=2017.4.17 in /usr/local/lib/python3.7/dist-packages (from requests<3.0.0,>=2.13.0->spacy==2.3.6) (2021.5.30)\n",
            "Requirement already satisfied: chardet<4,>=3.0.2 in /usr/local/lib/python3.7/dist-packages (from requests<3.0.0,>=2.13.0->spacy==2.3.6) (3.0.4)\n",
            "Installing collected packages: spacy\n",
            "  Attempting uninstall: spacy\n",
            "    Found existing installation: spacy 2.3.7\n",
            "    Uninstalling spacy-2.3.7:\n",
            "      Successfully uninstalled spacy-2.3.7\n",
            "Successfully installed spacy-2.3.6\n",
            "/usr/lib/python3.7/runpy.py:125: RuntimeWarning: 'nltk.downloader' found in sys.modules after import of package 'nltk', but prior to execution of 'nltk.downloader'; this may result in unpredictable behaviour\n",
            "  warn(RuntimeWarning(msg))\n",
            "[nltk_data] Downloading package stopwords to /root/nltk_data...\n",
            "[nltk_data]   Unzipping corpora/stopwords.zip.\n",
            "Collecting mojimoji\n",
            "  Downloading mojimoji-0.0.11-cp37-cp37m-manylinux1_x86_64.whl (127 kB)\n",
            "\u001b[K     |████████████████████████████████| 127 kB 6.8 MB/s \n",
            "\u001b[?25hInstalling collected packages: mojimoji\n",
            "Successfully installed mojimoji-0.0.11\n"
          ],
          "name": "stdout"
        }
      ]
    },
    {
      "cell_type": "code",
      "metadata": {
        "id": "K208G5ABAwr5"
      },
      "source": [
        "import pke\n",
        "import ginza\n",
        "import nltk\n",
        "import spacy\n",
        "import pandas as pd\n",
        "pke.base.lang_stopwords['ja_ginza'] = 'japanese'"
      ],
      "execution_count": 1,
      "outputs": []
    },
    {
      "cell_type": "code",
      "metadata": {
        "id": "82iBGGrwLDNW"
      },
      "source": [
        "import re\n",
        "import mojimoji\n",
        "def normalize_text(text):\n",
        "  # 全部全角に変換\n",
        "  result = mojimoji.han_to_zen(text)\n",
        "\n",
        "  # 全角から半角に変換（カナは除く）\n",
        "  result = mojimoji.zen_to_han(result, kana=False)\n",
        "\n",
        "  # 全ての文字を小文字に変換\n",
        "  result = result.lower()\n",
        "  \n",
        "  return re.sub(' ','', result)\n",
        "  # return re.sub(' ', '', mojimoji.zen_to_han(text)).upper().split()"
      ],
      "execution_count": 2,
      "outputs": []
    },
    {
      "cell_type": "code",
      "metadata": {
        "colab": {
          "base_uri": "https://localhost:8080/"
        },
        "id": "bZRWZqQR7zbJ",
        "outputId": "ef05aded-8ff7-4424-fb0a-7088161dfde6"
      },
      "source": [
        "path = '/content/drive/MyDrive/Colab Notebooks/pre-judgit/data.json'\n",
        "with open(path, encoding='utf8')as f:\n",
        "  df = pd.read_json(f)\n",
        "\n",
        "df.info()"
      ],
      "execution_count": 3,
      "outputs": [
        {
          "output_type": "stream",
          "text": [
            "<class 'pandas.core.frame.DataFrame'>\n",
            "RangeIndex: 22115 entries, 0 to 22114\n",
            "Data columns (total 11 columns):\n",
            " #   Column       Non-Null Count  Dtype  \n",
            "---  ------       --------------  -----  \n",
            " 0   ID           22115 non-null  int64  \n",
            " 1   プロジェクトID     22115 non-null  int64  \n",
            " 2   公開年度         22115 non-null  int64  \n",
            " 3   主要政策・施策      22115 non-null  object \n",
            " 4   府省庁          22115 non-null  object \n",
            " 5   事業名          22115 non-null  object \n",
            " 6   事業の目的        22115 non-null  object \n",
            " 7   事業概要         22115 non-null  object \n",
            " 8   執行額          22115 non-null  float64\n",
            " 9   objective_x  22115 non-null  float64\n",
            " 10  objective_y  22115 non-null  float64\n",
            "dtypes: float64(3), int64(3), object(5)\n",
            "memory usage: 1.9+ MB\n"
          ],
          "name": "stdout"
        }
      ]
    },
    {
      "cell_type": "code",
      "metadata": {
        "colab": {
          "base_uri": "https://localhost:8080/"
        },
        "id": "-HDVBIFsDz8e",
        "outputId": "330eb694-ffcb-41de-ec30-0a0276e9025b"
      },
      "source": [
        "df_2018 = df.iloc[0:0]\n",
        "cnt = 0\n",
        "for i in range(len(df)):\n",
        "  if df.loc[i]['公開年度'] == 2018:\n",
        "    df_2018.loc[cnt] = df.loc[i]\n",
        "    cnt += 1"
      ],
      "execution_count": 4,
      "outputs": [
        {
          "output_type": "stream",
          "text": [
            "/usr/local/lib/python3.7/dist-packages/pandas/core/indexing.py:670: SettingWithCopyWarning: \n",
            "A value is trying to be set on a copy of a slice from a DataFrame\n",
            "\n",
            "See the caveats in the documentation: https://pandas.pydata.org/pandas-docs/stable/user_guide/indexing.html#returning-a-view-versus-a-copy\n",
            "  iloc._setitem_with_indexer(indexer, value)\n"
          ],
          "name": "stderr"
        }
      ]
    },
    {
      "cell_type": "code",
      "metadata": {
        "colab": {
          "base_uri": "https://localhost:8080/",
          "height": 1000
        },
        "id": "C-6wjyHkKliQ",
        "outputId": "70e30443-1ddd-43ea-bb54-10700d1378f1"
      },
      "source": [
        "df_2018"
      ],
      "execution_count": 5,
      "outputs": [
        {
          "output_type": "execute_result",
          "data": {
            "text/html": [
              "<div>\n",
              "<style scoped>\n",
              "    .dataframe tbody tr th:only-of-type {\n",
              "        vertical-align: middle;\n",
              "    }\n",
              "\n",
              "    .dataframe tbody tr th {\n",
              "        vertical-align: top;\n",
              "    }\n",
              "\n",
              "    .dataframe thead th {\n",
              "        text-align: right;\n",
              "    }\n",
              "</style>\n",
              "<table border=\"1\" class=\"dataframe\">\n",
              "  <thead>\n",
              "    <tr style=\"text-align: right;\">\n",
              "      <th></th>\n",
              "      <th>ID</th>\n",
              "      <th>プロジェクトID</th>\n",
              "      <th>公開年度</th>\n",
              "      <th>主要政策・施策</th>\n",
              "      <th>府省庁</th>\n",
              "      <th>事業名</th>\n",
              "      <th>事業の目的</th>\n",
              "      <th>事業概要</th>\n",
              "      <th>執行額</th>\n",
              "      <th>objective_x</th>\n",
              "      <th>objective_y</th>\n",
              "    </tr>\n",
              "  </thead>\n",
              "  <tbody>\n",
              "    <tr>\n",
              "      <th>0</th>\n",
              "      <td>15765</td>\n",
              "      <td>16</td>\n",
              "      <td>2018</td>\n",
              "      <td>['その他']</td>\n",
              "      <td>内閣官房</td>\n",
              "      <td>内閣広報経費</td>\n",
              "      <td>内閣の重要施策に関する広報を首相官邸ホームページ等を通じ、国内外に対して迅速・正確に分かりや...</td>\n",
              "      <td>内閣総理大臣が国際会議等で外国を訪問した際の動向や発言を動画を用いて国民に分かりやすく伝える...</td>\n",
              "      <td>77.0</td>\n",
              "      <td>-3.439199</td>\n",
              "      <td>36.503059</td>\n",
              "    </tr>\n",
              "    <tr>\n",
              "      <th>1</th>\n",
              "      <td>15755</td>\n",
              "      <td>15</td>\n",
              "      <td>2018</td>\n",
              "      <td>['その他']</td>\n",
              "      <td>内閣官房</td>\n",
              "      <td>内閣人事局経費</td>\n",
              "      <td>政府全体を通じた成果向上及び人材育成を狙いとして実施する。\\n各研修に応じ、①幹部候補育成課...</td>\n",
              "      <td>１．官民合同セミナー（幹部級）・(課長級)（幹部級：本府省の幹部職員並びに民間企業の取締役ク...</td>\n",
              "      <td>23.0</td>\n",
              "      <td>57.182091</td>\n",
              "      <td>-2.059250</td>\n",
              "    </tr>\n",
              "    <tr>\n",
              "      <th>2</th>\n",
              "      <td>15926</td>\n",
              "      <td>52</td>\n",
              "      <td>2018</td>\n",
              "      <td>['その他']</td>\n",
              "      <td>内閣府</td>\n",
              "      <td>人道救援物資備蓄経費</td>\n",
              "      <td>国際連合平和維持活動等に対する協力に関する法律（平成４年法律第７９号。以下「国際平和協力法」...</td>\n",
              "      <td>国際連合等から人道的な国際救援活動への物資協力の要請をうけた場合、迅速に対応できるよう人道救...</td>\n",
              "      <td>59.0</td>\n",
              "      <td>46.140083</td>\n",
              "      <td>-57.230614</td>\n",
              "    </tr>\n",
              "    <tr>\n",
              "      <th>3</th>\n",
              "      <td>15964</td>\n",
              "      <td>35</td>\n",
              "      <td>2018</td>\n",
              "      <td>['クールジャパン']</td>\n",
              "      <td>内閣府</td>\n",
              "      <td>クールジャパン戦略推進経費</td>\n",
              "      <td>ゲーム・マンガ・アニメといったコンテンツ、ファッション、産品、日本食、伝統文化、デザイン等、...</td>\n",
              "      <td>クールジャパン担当大臣等の海外出張を活用したクールジャパン発信イベント、クールジャパン戦略の...</td>\n",
              "      <td>49.0</td>\n",
              "      <td>2.651179</td>\n",
              "      <td>-55.060982</td>\n",
              "    </tr>\n",
              "    <tr>\n",
              "      <th>4</th>\n",
              "      <td>15924</td>\n",
              "      <td>84</td>\n",
              "      <td>2018</td>\n",
              "      <td>['その他']</td>\n",
              "      <td>内閣府</td>\n",
              "      <td>国際平和協力隊の派遣等経費</td>\n",
              "      <td>国際連合平和維持活動等に対する協力に関する法律（平成４年法律第７９号。以下「国際平和協力法」...</td>\n",
              "      <td>国際連合の要請に基づき、引き続き南スーダンにおいて、国際平和協力業務を実施する。</td>\n",
              "      <td>78.0</td>\n",
              "      <td>46.272320</td>\n",
              "      <td>-57.395348</td>\n",
              "    </tr>\n",
              "    <tr>\n",
              "      <th>...</th>\n",
              "      <td>...</td>\n",
              "      <td>...</td>\n",
              "      <td>...</td>\n",
              "      <td>...</td>\n",
              "      <td>...</td>\n",
              "      <td>...</td>\n",
              "      <td>...</td>\n",
              "      <td>...</td>\n",
              "      <td>...</td>\n",
              "      <td>...</td>\n",
              "      <td>...</td>\n",
              "    </tr>\n",
              "    <tr>\n",
              "      <th>4368</th>\n",
              "      <td>20146</td>\n",
              "      <td>3574</td>\n",
              "      <td>2018</td>\n",
              "      <td>['地球温暖化対策']</td>\n",
              "      <td>環境省</td>\n",
              "      <td>短期寿命気候汚染物質削減に関する国際パートナーシップ拠出金関連業務</td>\n",
              "      <td>国内におけるブラックカーボン等の短期寿命気候汚染物質（SLCP）の排出実態及び対策技術等に係...</td>\n",
              "      <td>１．短期寿命気候汚染物質削減に関する国際パートナーシップ拠出金\\n　CCACに対し、平成24...</td>\n",
              "      <td>327.0</td>\n",
              "      <td>-10.464338</td>\n",
              "      <td>-70.462219</td>\n",
              "    </tr>\n",
              "    <tr>\n",
              "      <th>4369</th>\n",
              "      <td>15941</td>\n",
              "      <td>44</td>\n",
              "      <td>2018</td>\n",
              "      <td>['その他']</td>\n",
              "      <td>内閣府</td>\n",
              "      <td>中長期の経済運営に必要な経費</td>\n",
              "      <td>中長期の経済財政、社会基盤、社会保障等に係る重要政策の企画立案・検討に活用することを目的とし...</td>\n",
              "      <td>経済財政諮問会議等での中長期の経済財政政策の企画立案・検討に活用することを目的として、意見交...</td>\n",
              "      <td>21.6</td>\n",
              "      <td>28.345156</td>\n",
              "      <td>-26.662083</td>\n",
              "    </tr>\n",
              "    <tr>\n",
              "      <th>4370</th>\n",
              "      <td>18840</td>\n",
              "      <td>4895</td>\n",
              "      <td>2018</td>\n",
              "      <td>['観光立国', '高齢社会対策', '子ども・若者育成支援', '障害者施策', '食育推...</td>\n",
              "      <td>農林水産省</td>\n",
              "      <td>農山漁村振興交付金</td>\n",
              "      <td>都市部において農山漁村の価値が再認識されるなかで、農山漁村の活性化、自立及び維持発展を図る...</td>\n",
              "      <td>１　地域活性化対策【補助率：定額】\\n　　農山漁村が持つ豊かな自然や「食」を活用した地域の活...</td>\n",
              "      <td>7886.0</td>\n",
              "      <td>-7.659595</td>\n",
              "      <td>-13.079552</td>\n",
              "    </tr>\n",
              "    <tr>\n",
              "      <th>4371</th>\n",
              "      <td>19154</td>\n",
              "      <td>3708</td>\n",
              "      <td>2018</td>\n",
              "      <td>['その他']</td>\n",
              "      <td>経済産業省</td>\n",
              "      <td>中小企業・小規模事業者人材対策事業</td>\n",
              "      <td>（１）各地の中小企業・小規模事業者が必要とする人材を地域内外から発掘し、マッチング・定着など...</td>\n",
              "      <td>（１）①地域中小企業人材確保支援等事業（中核人材確保スキーム事業を除く）：各地域の中小企業・...</td>\n",
              "      <td>1454.0</td>\n",
              "      <td>-0.068404</td>\n",
              "      <td>-19.573669</td>\n",
              "    </tr>\n",
              "    <tr>\n",
              "      <th>4372</th>\n",
              "      <td>18677</td>\n",
              "      <td>4916</td>\n",
              "      <td>2018</td>\n",
              "      <td>['地方創生']</td>\n",
              "      <td>農林水産省</td>\n",
              "      <td>農林水産物の品目別輸出促進緊急対策事業</td>\n",
              "      <td>平成28年５月に「農林水産業・地域の活力創造本部」において、「農林水産業の輸出力強化戦略」...</td>\n",
              "      <td>「農林水産業の輸出力強化戦略」及び「日本再興戦略改訂2016」に基づき、コメ、青果物、花き、...</td>\n",
              "      <td>2317.0</td>\n",
              "      <td>-43.197659</td>\n",
              "      <td>-32.510189</td>\n",
              "    </tr>\n",
              "  </tbody>\n",
              "</table>\n",
              "<p>4373 rows × 11 columns</p>\n",
              "</div>"
            ],
            "text/plain": [
              "         ID  プロジェクトID  公開年度  ...     執行額 objective_x objective_y\n",
              "0     15765        16  2018  ...    77.0   -3.439199   36.503059\n",
              "1     15755        15  2018  ...    23.0   57.182091   -2.059250\n",
              "2     15926        52  2018  ...    59.0   46.140083  -57.230614\n",
              "3     15964        35  2018  ...    49.0    2.651179  -55.060982\n",
              "4     15924        84  2018  ...    78.0   46.272320  -57.395348\n",
              "...     ...       ...   ...  ...     ...         ...         ...\n",
              "4368  20146      3574  2018  ...   327.0  -10.464338  -70.462219\n",
              "4369  15941        44  2018  ...    21.6   28.345156  -26.662083\n",
              "4370  18840      4895  2018  ...  7886.0   -7.659595  -13.079552\n",
              "4371  19154      3708  2018  ...  1454.0   -0.068404  -19.573669\n",
              "4372  18677      4916  2018  ...  2317.0  -43.197659  -32.510189\n",
              "\n",
              "[4373 rows x 11 columns]"
            ]
          },
          "metadata": {
            "tags": []
          },
          "execution_count": 5
        }
      ]
    },
    {
      "cell_type": "code",
      "metadata": {
        "id": "7V9L-Dc5-7Qn"
      },
      "source": [
        "#分かち書きする文\n",
        "separation = \"事業の目的\"\n",
        "#separation = \"事業概要\""
      ],
      "execution_count": 6,
      "outputs": []
    },
    {
      "cell_type": "code",
      "metadata": {
        "colab": {
          "base_uri": "https://localhost:8080/"
        },
        "id": "nc6D7JvG7D3P",
        "outputId": "86279531-7574-4085-b14a-aac29466db64"
      },
      "source": [
        "def get_key_phrase(spacy_model, text, n = 5):\n",
        "    \"\"\"キーフレーズ処理\n",
        "\n",
        "    Args:\n",
        "        text ([type]): キーフレーズ対象の文字列\n",
        "        n (int, optional): [description]. Defaults to 10.\n",
        "        gc_collect (bool, optional): [description]. Defaults to False.\n",
        "\n",
        "    Returns:\n",
        "        [type]: [description]\n",
        "    \"\"\"\n",
        "    #MultipartiteRankなどのキーフレーズの手法については以下のサイトが参考になります\n",
        "    #https://www.ogis-ri.co.jp/otc/hiroba/technical/similar-document-search/part5.html\n",
        "    extractor = pke.unsupervised.MultipartiteRank()\n",
        "    extractor.load_document(input=text, language='ja_ginza', normalization=None, spacy_model= spacy_model )\n",
        "    extractor.candidate_selection( pos={'NOUN', 'PROPN', 'ADJ', 'NUM'})\n",
        "    extractor.candidate_weighting(threshold=0.74, method='average', alpha=1.1)\n",
        "    key_phrase = extractor.get_n_best(n)\n",
        "    \n",
        "    return  key_phrase\n",
        "    \n",
        "    \n",
        "#spacyに設定されているstopwordを使う\n",
        "from  spacy.lang.ja import stop_words\n",
        "\n",
        "spacy_model = spacy.load(\"ja_ginza\")  # GiNZAモデルの読み込み\n",
        "print(spacy_model)\n",
        "stopwords = list(stop_words.STOP_WORDS)\n",
        "nltk.corpus.stopwords.words_org = nltk.corpus.stopwords.words\n",
        "nltk.corpus.stopwords.words = lambda lang : stopwords if lang == 'japanese' else nltk.corpus.stopwords.words_org(lang)"
      ],
      "execution_count": 7,
      "outputs": [
        {
          "output_type": "stream",
          "text": [
            "<spacy.lang.ja.Japanese object at 0x7f13cb5d3f90>\n"
          ],
          "name": "stdout"
        }
      ]
    },
    {
      "cell_type": "code",
      "metadata": {
        "id": "7LqVCLYrLhro"
      },
      "source": [
        "df_pke = {}\n",
        "df_enpty = []\n",
        "for i in range(len(df_2018)):\n",
        "  if get_key_phrase(spacy_model, df_2018.loc[i][separation]) == []:\n",
        "    print(i)\n",
        "    df_pke[df_2018.loc[i]['プロジェクトID']] = ''\n",
        "    df_enpty.append(df_2018.loc[i]['プロジェクトID'])\n",
        "  else:\n",
        "    pke_test = {}\n",
        "    for words in get_key_phrase(spacy_model, df_2018.loc[i][separation]):\n",
        "      for word in words[0].split():\n",
        "        if word in pke_test:\n",
        "          pke_test[word] += words[1]\n",
        "        else:\n",
        "          pke_test[word] = words[1]\n",
        "\n",
        "    df_pke[df_2018.loc[i]['プロジェクトID']] = pke_test"
      ],
      "execution_count": null,
      "outputs": []
    },
    {
      "cell_type": "code",
      "metadata": {
        "id": "1kkaB3yLWwcv"
      },
      "source": [
        "import json\n",
        "obj = []\n",
        "for i in range(len(df_2018)):\n",
        "  word_score = []\n",
        "  if df_pke[df_2018.loc[i]['プロジェクトID']] == '':\n",
        "    word_score.append({\"word\" : '',\n",
        "                       \"score\" : 0})\n",
        "  else:\n",
        "    tmp_list = sorted(df_pke[df_2018.loc[i]['プロジェクトID']].items(), key=lambda x: x[1], reverse=True)\n",
        "    for data in tmp_list:\n",
        "      word_score.append({\"word\" : data[0],\n",
        "                        \"score\" : data[1]})\n",
        "    obj.append({'プロジェクトID':int(df_2018.loc[i]['プロジェクトID']),\n",
        "                'MultipartiteRank':word_score})\n",
        "  \n",
        "with open('/content/drive/MyDrive/Colab Notebooks/pre-judgit/MultipartiteRank2018.json', 'w', encoding='utf8')as f:\n",
        "  json.dump(obj, f, indent = 2, ensure_ascii=False)"
      ],
      "execution_count": 16,
      "outputs": []
    },
    {
      "cell_type": "markdown",
      "metadata": {
        "id": "P34A3uPG-JSw"
      },
      "source": [
        "TextRank"
      ]
    },
    {
      "cell_type": "code",
      "metadata": {
        "id": "Ka4cYNuxPeL2",
        "colab": {
          "base_uri": "https://localhost:8080/"
        },
        "outputId": "f0661401-d0af-419d-da5e-728b726887a6"
      },
      "source": [
        "def get_key_phrase(spacy_model, text, n = 5):\n",
        "    \"\"\"キーフレーズ処理\n",
        "\n",
        "    Args:\n",
        "        text ([type]): キーフレーズ対象の文字列\n",
        "        n (int, optional): [description]. Defaults to 10.\n",
        "        gc_collect (bool, optional): [description]. Defaults to False.\n",
        "\n",
        "    Returns:\n",
        "        [type]: [description]\n",
        "    \"\"\"\n",
        "    #MultipartiteRankなどのキーフレーズの手法については以下のサイトが参考になります\n",
        "    #https://www.ogis-ri.co.jp/otc/hiroba/technical/similar-document-search/part5.html\n",
        "    extractor = pke.unsupervised.TextRank()\n",
        "    extractor.load_document(input=text, language='ja_ginza', normalization=None, spacy_model= spacy_model )\n",
        "    extractor.candidate_selection( pos={'NOUN', 'PROPN', 'ADJ', 'NUM'})\n",
        "    extractor.candidate_weighting( pos={'NOUN', 'PROPN', 'ADJ', 'NUM'})\n",
        "    key_phrase = extractor.get_n_best(n)\n",
        "    \n",
        "    return  key_phrase\n",
        "    \n",
        "    \n",
        "#spacyに設定されているstopwordを使う\n",
        "from  spacy.lang.ja import stop_words\n",
        "\n",
        "spacy_model = spacy.load(\"ja_ginza\")  # GiNZAモデルの読み込み\n",
        "print(spacy_model)\n",
        "stopwords = list(stop_words.STOP_WORDS)\n",
        "nltk.corpus.stopwords.words_org = nltk.corpus.stopwords.words\n",
        "nltk.corpus.stopwords.words = lambda lang : stopwords if lang == 'japanese' else nltk.corpus.stopwords.words_org(lang)"
      ],
      "execution_count": 11,
      "outputs": [
        {
          "output_type": "stream",
          "text": [
            "<spacy.lang.ja.Japanese object at 0x7f13c75521d0>\n"
          ],
          "name": "stdout"
        }
      ]
    },
    {
      "cell_type": "code",
      "metadata": {
        "id": "1WmWI8gH-SXf"
      },
      "source": [
        "df_pke = {}\n",
        "df_enpty = []\n",
        "for i in range(len(df_2018)):\n",
        "  if get_key_phrase(spacy_model, df_2018.loc[i][separation]) == []:\n",
        "    print(i)\n",
        "    df_pke[df_2018.loc[i]['プロジェクトID']] = ''\n",
        "    df_enpty.append(df_2018.loc[i]['プロジェクトID'])\n",
        "  else:\n",
        "    pke_test = {}\n",
        "    for words in get_key_phrase(spacy_model, df_2018.loc[i][separation]):\n",
        "      for word in words[0].split():\n",
        "        if word in pke_test:\n",
        "          pke_test[word] += words[1]\n",
        "        else:\n",
        "          pke_test[word] = words[1]\n",
        "\n",
        "    df_pke[df_2018.loc[i]['プロジェクトID']] = pke_test"
      ],
      "execution_count": 33,
      "outputs": []
    },
    {
      "cell_type": "code",
      "metadata": {
        "id": "abSEp-vtZFoD"
      },
      "source": [
        "import json\n",
        "obj = []\n",
        "for i in range(len(df_2018)):\n",
        "  word_score = []\n",
        "  if df_pke[df_2018.loc[i]['プロジェクトID']] == '':\n",
        "    word_score.append({\"word\" : '',\n",
        "                       \"score\" : 0})\n",
        "  else:\n",
        "    tmp_list = sorted(df_pke[df_2018.loc[i]['プロジェクトID']].items(), key=lambda x: x[1], reverse=True)\n",
        "    for data in tmp_list:\n",
        "      word_score.append({\"word\" : data[0],\n",
        "                        \"score\" : data[1]})\n",
        "    obj.append({'プロジェクトID':int(df_2018.loc[i]['プロジェクトID']),\n",
        "                'TextRank':word_score})\n",
        "  \n",
        "with open('/content/drive/MyDrive/Colab Notebooks/pre-judgit/TextRank2018.json', 'w', encoding='utf8')as f:\n",
        "  json.dump(obj, f, indent = 2, ensure_ascii=False)"
      ],
      "execution_count": 34,
      "outputs": []
    },
    {
      "cell_type": "markdown",
      "metadata": {
        "id": "PqYKeXGfBTJ8"
      },
      "source": [
        "SingleRank"
      ]
    },
    {
      "cell_type": "code",
      "metadata": {
        "id": "Zi7NlWkZZHeH",
        "colab": {
          "base_uri": "https://localhost:8080/"
        },
        "outputId": "fc749d21-bb96-45b1-d860-d8b30217f8b6"
      },
      "source": [
        "def get_key_phrase(spacy_model, text, n = 5):\n",
        "    \"\"\"キーフレーズ処理\n",
        "\n",
        "    Args:\n",
        "        text ([type]): キーフレーズ対象の文字列\n",
        "        n (int, optional): [description]. Defaults to 10.\n",
        "        gc_collect (bool, optional): [description]. Defaults to False.\n",
        "\n",
        "    Returns:\n",
        "        [type]: [description]\n",
        "    \"\"\"\n",
        "    #MultipartiteRankなどのキーフレーズの手法については以下のサイトが参考になります\n",
        "    #https://www.ogis-ri.co.jp/otc/hiroba/technical/similar-document-search/part5.html\n",
        "    extractor = pke.unsupervised.SingleRank()\n",
        "    extractor.load_document(input=text, language='ja_ginza', normalization=None, spacy_model= spacy_model )\n",
        "    extractor.candidate_selection( pos={'NOUN', 'PROPN', 'ADJ', 'NUM'})\n",
        "    extractor.candidate_weighting( window=10, pos={'NOUN', 'PROPN', 'ADJ', 'NUM'})\n",
        "    key_phrase = extractor.get_n_best(n)\n",
        "    \n",
        "    return  key_phrase\n",
        "    \n",
        "    \n",
        "#spacyに設定されているstopwordを使う\n",
        "from  spacy.lang.ja import stop_words\n",
        "\n",
        "spacy_model = spacy.load(\"ja_ginza\")  # GiNZAモデルの読み込み\n",
        "print(spacy_model)\n",
        "stopwords = list(stop_words.STOP_WORDS)\n",
        "nltk.corpus.stopwords.words_org = nltk.corpus.stopwords.words\n",
        "nltk.corpus.stopwords.words = lambda lang : stopwords if lang == 'japanese' else nltk.corpus.stopwords.words_org(lang)"
      ],
      "execution_count": 13,
      "outputs": [
        {
          "output_type": "stream",
          "text": [
            "<spacy.lang.ja.Japanese object at 0x7f13c724c790>\n"
          ],
          "name": "stdout"
        }
      ]
    },
    {
      "cell_type": "code",
      "metadata": {
        "id": "8JoKq1b4Bjxc"
      },
      "source": [
        "df_pke = {}\n",
        "df_enpty = []\n",
        "for i in range(len(df_2018)):\n",
        "  if get_key_phrase(spacy_model, df_2018.loc[i][separation]) == []:\n",
        "    print(i)\n",
        "    df_pke[df_2018.loc[i]['プロジェクトID']] = ''\n",
        "    df_enpty.append(df_2018.loc[i]['プロジェクトID'])\n",
        "  else:\n",
        "    pke_test = {}\n",
        "    for words in get_key_phrase(spacy_model, df_2018.loc[i][separation]):\n",
        "      for word in words[0].split():\n",
        "        if word in pke_test:\n",
        "          pke_test[word] += words[1]\n",
        "        else:\n",
        "          pke_test[word] = words[1]\n",
        "\n",
        "    df_pke[df_2018.loc[i]['プロジェクトID']] = pke_test"
      ],
      "execution_count": 36,
      "outputs": []
    },
    {
      "cell_type": "code",
      "metadata": {
        "id": "lsT0uATvBlws"
      },
      "source": [
        "import json\n",
        "obj = []\n",
        "for i in range(len(df_2018)):\n",
        "  word_score = []\n",
        "  if df_pke[df_2018.loc[i]['プロジェクトID']] == '':\n",
        "    word_score.append({\"word\" : '',\n",
        "                       \"score\" : 0})\n",
        "  else:\n",
        "    tmp_list = sorted(df_pke[df_2018.loc[i]['プロジェクトID']].items(), key=lambda x: x[1], reverse=True)\n",
        "    for data in tmp_list:\n",
        "      word_score.append({\"word\" : data[0],\n",
        "                        \"score\" : data[1]})\n",
        "    obj.append({'プロジェクトID':int(df_2018.loc[i]['プロジェクトID']),\n",
        "                'SingleRank':word_score})\n",
        "  \n",
        "with open('/content/drive/MyDrive/Colab Notebooks/pre-judgit/SingleRank2018.json', 'w', encoding='utf8')as f:\n",
        "  json.dump(obj, f, indent = 2, ensure_ascii=False)"
      ],
      "execution_count": 37,
      "outputs": []
    },
    {
      "cell_type": "markdown",
      "metadata": {
        "id": "23sc-6l2CyLC"
      },
      "source": [
        "PositionRank"
      ]
    },
    {
      "cell_type": "code",
      "metadata": {
        "colab": {
          "base_uri": "https://localhost:8080/"
        },
        "id": "rImeEQvdCtdg",
        "outputId": "715f6902-a92e-4a35-dc3f-4037573f6240"
      },
      "source": [
        "def get_key_phrase(spacy_model, text, n = 5):\n",
        "    \"\"\"キーフレーズ処理\n",
        "\n",
        "    Args:\n",
        "        text ([type]): キーフレーズ対象の文字列\n",
        "        n (int, optional): [description]. Defaults to 10.\n",
        "        gc_collect (bool, optional): [description]. Defaults to False.\n",
        "\n",
        "    Returns:\n",
        "        [type]: [description]\n",
        "    \"\"\"\n",
        "    #MultipartiteRankなどのキーフレーズの手法については以下のサイトが参考になります\n",
        "    #https://www.ogis-ri.co.jp/otc/hiroba/technical/similar-document-search/part5.html\n",
        "    extractor = pke.unsupervised.PositionRank()\n",
        "    extractor.load_document(input=text, language='ja_ginza', normalization=None, spacy_model= spacy_model )\n",
        "    extractor.candidate_selection( grammar=\"NP: {<ADJ>*<NOUN|PROPN|NUM>+}\") #ここわからん\n",
        "    extractor.candidate_weighting( window=10, pos={'NOUN', 'PROPN', 'ADJ', 'NUM'})\n",
        "    key_phrase = extractor.get_n_best(n)\n",
        "    \n",
        "    return  key_phrase\n",
        "    \n",
        "    \n",
        "#spacyに設定されているstopwordを使う\n",
        "from  spacy.lang.ja import stop_words\n",
        "\n",
        "spacy_model = spacy.load(\"ja_ginza\")  # GiNZAモデルの読み込み\n",
        "print(spacy_model)\n",
        "stopwords = list(stop_words.STOP_WORDS)\n",
        "nltk.corpus.stopwords.words_org = nltk.corpus.stopwords.words\n",
        "nltk.corpus.stopwords.words = lambda lang : stopwords if lang == 'japanese' else nltk.corpus.stopwords.words_org(lang)"
      ],
      "execution_count": 15,
      "outputs": [
        {
          "output_type": "stream",
          "text": [
            "<spacy.lang.ja.Japanese object at 0x7f13c7557fd0>\n"
          ],
          "name": "stdout"
        }
      ]
    },
    {
      "cell_type": "code",
      "metadata": {
        "id": "BQ-zvXp2D0G_"
      },
      "source": [
        "df_pke = {}\n",
        "df_enpty = []\n",
        "for i in range(len(df_2018)):\n",
        "  if get_key_phrase(spacy_model, df_2018.loc[i][separation]) == []:\n",
        "    print(i)\n",
        "    df_pke[df_2018.loc[i]['プロジェクトID']] = ''\n",
        "    df_enpty.append(df_2018.loc[i]['プロジェクトID'])\n",
        "  else:\n",
        "    pke_test = {}\n",
        "    for words in get_key_phrase(spacy_model, df_2018.loc[i][separation]):\n",
        "      for word in words[0].split():\n",
        "        if word in pke_test:\n",
        "          pke_test[word] += words[1]\n",
        "        else:\n",
        "          pke_test[word] = words[1]\n",
        "\n",
        "    df_pke[df_2018.loc[i]['プロジェクトID']] = pke_test"
      ],
      "execution_count": 39,
      "outputs": []
    },
    {
      "cell_type": "code",
      "metadata": {
        "id": "U85LQ9bID2SJ"
      },
      "source": [
        "import json\n",
        "obj = []\n",
        "for i in range(len(df_2018)):\n",
        "  word_score = []\n",
        "  if df_pke[df_2018.loc[i]['プロジェクトID']] == '':\n",
        "    word_score.append({\"word\" : '',\n",
        "                       \"score\" : 0})\n",
        "  else:\n",
        "    tmp_list = sorted(df_pke[df_2018.loc[i]['プロジェクトID']].items(), key=lambda x: x[1], reverse=True)\n",
        "    for data in tmp_list:\n",
        "      word_score.append({\"word\" : data[0],\n",
        "                        \"score\" : data[1]})\n",
        "    obj.append({'プロジェクトID':int(df_2018.loc[i]['プロジェクトID']),\n",
        "                'PositionRank':word_score})\n",
        "  \n",
        "with open('/content/drive/MyDrive/Colab Notebooks/pre-judgit/PositionRank2018.json', 'w', encoding='utf8')as f:\n",
        "  json.dump(obj, f, indent = 2, ensure_ascii=False)"
      ],
      "execution_count": 40,
      "outputs": []
    },
    {
      "cell_type": "markdown",
      "metadata": {
        "id": "JclQHeb-EBv3"
      },
      "source": [
        "TopicRank"
      ]
    },
    {
      "cell_type": "code",
      "metadata": {
        "colab": {
          "base_uri": "https://localhost:8080/"
        },
        "id": "NAO337tUEC8X",
        "outputId": "a5ea6674-6eb6-4415-a013-346d5242c9bd"
      },
      "source": [
        "def get_key_phrase(spacy_model, text, n = 5):\n",
        "    \"\"\"キーフレーズ処理\n",
        "\n",
        "    Args:\n",
        "        text ([type]): キーフレーズ対象の文字列\n",
        "        n (int, optional): [description]. Defaults to 10.\n",
        "        gc_collect (bool, optional): [description]. Defaults to False.\n",
        "\n",
        "    Returns:\n",
        "        [type]: [description]\n",
        "    \"\"\"\n",
        "    #MultipartiteRankなどのキーフレーズの手法については以下のサイトが参考になります\n",
        "    #https://www.ogis-ri.co.jp/otc/hiroba/technical/similar-document-search/part5.html\n",
        "    extractor = pke.unsupervised.TopicRank()\n",
        "    extractor.load_document(input=text, language='ja_ginza', normalization=None, spacy_model= spacy_model )\n",
        "    extractor.candidate_selection( pos={'NOUN', 'PROPN', 'ADJ', 'NUM'}) #ここわからん\n",
        "    extractor.candidate_weighting( threshold=0.74, method='average')\n",
        "    key_phrase = extractor.get_n_best(n)\n",
        "    \n",
        "    return  key_phrase\n",
        "    \n",
        "    \n",
        "#spacyに設定されているstopwordを使う\n",
        "from  spacy.lang.ja import stop_words\n",
        "\n",
        "spacy_model = spacy.load(\"ja_ginza\")  # GiNZAモデルの読み込み\n",
        "print(spacy_model)\n",
        "stopwords = list(stop_words.STOP_WORDS)\n",
        "nltk.corpus.stopwords.words_org = nltk.corpus.stopwords.words\n",
        "nltk.corpus.stopwords.words = lambda lang : stopwords if lang == 'japanese' else nltk.corpus.stopwords.words_org(lang)"
      ],
      "execution_count": 17,
      "outputs": [
        {
          "output_type": "stream",
          "text": [
            "<spacy.lang.ja.Japanese object at 0x7f13c69cfed0>\n"
          ],
          "name": "stdout"
        }
      ]
    },
    {
      "cell_type": "code",
      "metadata": {
        "colab": {
          "base_uri": "https://localhost:8080/"
        },
        "id": "UZHrXVT9EaSw",
        "outputId": "5e710546-88e7-4e00-f1e7-236bba2a837a"
      },
      "source": [
        "df_pke = {}\n",
        "df_enpty = []\n",
        "for i in range(len(df_2018)):\n",
        "  if get_key_phrase(spacy_model, df_2018.loc[i][separation]) == []:\n",
        "    print(i)\n",
        "    df_pke[df_2018.loc[i]['プロジェクトID']] = ''\n",
        "    df_enpty.append(df_2018.loc[i]['プロジェクトID'])\n",
        "  else:\n",
        "    pke_test = {}\n",
        "    for words in get_key_phrase(spacy_model, df_2018.loc[i][separation]):\n",
        "      for word in words[0].split():\n",
        "        if word in pke_test:\n",
        "          pke_test[word] += words[1]\n",
        "        else:\n",
        "          pke_test[word] = words[1]\n",
        "\n",
        "    df_pke[df_2018.loc[i]['プロジェクトID']] = pke_test"
      ],
      "execution_count": 42,
      "outputs": [
        {
          "output_type": "stream",
          "text": [
            "62\n",
            "63\n",
            "1142\n",
            "1534\n",
            "1619\n",
            "2238\n",
            "2316\n",
            "2951\n",
            "3038\n",
            "3202\n",
            "3735\n",
            "3904\n",
            "4098\n",
            "4247\n"
          ],
          "name": "stdout"
        }
      ]
    },
    {
      "cell_type": "code",
      "metadata": {
        "id": "H4DufBOyEdSL"
      },
      "source": [
        "import json\n",
        "obj = []\n",
        "for i in range(len(df_2018)):\n",
        "  word_score = []\n",
        "  if df_pke[df_2018.loc[i]['プロジェクトID']] == '':\n",
        "    word_score.append({\"word\" : '',\n",
        "                       \"score\" : 0})\n",
        "  else:\n",
        "    tmp_list = sorted(df_pke[df_2018.loc[i]['プロジェクトID']].items(), key=lambda x: x[1], reverse=True)\n",
        "    for data in tmp_list:\n",
        "      word_score.append({\"word\" : data[0],\n",
        "                        \"score\" : data[1]})\n",
        "    obj.append({'プロジェクトID':int(df_2018.loc[i]['プロジェクトID']),\n",
        "                'TipicRank':word_score})\n",
        "  \n",
        "with open('/content/drive/MyDrive/Colab Notebooks/pre-judgit/TopicRank2018.json', 'w', encoding='utf8')as f:\n",
        "  json.dump(obj, f, indent = 2, ensure_ascii=False)"
      ],
      "execution_count": 43,
      "outputs": []
    },
    {
      "cell_type": "code",
      "metadata": {
        "id": "dWVmkmjrGZd-"
      },
      "source": [
        ""
      ],
      "execution_count": null,
      "outputs": []
    }
  ]
}