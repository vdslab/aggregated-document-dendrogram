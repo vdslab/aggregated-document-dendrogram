{
  "nbformat": 4,
  "nbformat_minor": 0,
  "metadata": {
    "colab": {
      "name": "pke.ipynb",
      "provenance": [],
      "mount_file_id": "1XTUYiVY4i7brbgqvpiGuNmaqZy5cSPLL",
      "authorship_tag": "ABX9TyPkgLsstqIX9IJUIFCJ9U1e",
      "include_colab_link": true
    },
    "kernelspec": {
      "name": "python3",
      "display_name": "Python 3"
    },
    "language_info": {
      "name": "python"
    },
    "accelerator": "GPU"
  },
  "cells": [
    {
      "cell_type": "markdown",
      "metadata": {
        "id": "view-in-github",
        "colab_type": "text"
      },
      "source": [
        "<a href=\"https://colab.research.google.com/github/vdslab/t-taiki0620/blob/main/pke.ipynb\" target=\"_parent\"><img src=\"https://colab.research.google.com/assets/colab-badge.svg\" alt=\"Open In Colab\"/></a>"
      ]
    },
    {
      "cell_type": "code",
      "metadata": {
        "colab": {
          "base_uri": "https://localhost:8080/",
          "height": 1000
        },
        "id": "uBTGrhxmYaIT",
        "outputId": "1656d679-e9e2-4e45-ae4c-c6ae66bed05c"
      },
      "source": [
        "!pip install git+https://github.com/boudinfl/pke.git\n",
        "!pip install ginza\n",
        "!pip install nltk\n",
        "!pip install spacy==2.3\n",
        "!python -m nltk.downloader stopwords\n",
        "!pip install mojimoji"
      ],
      "execution_count": 28,
      "outputs": [
        {
          "output_type": "stream",
          "text": [
            "Collecting git+https://github.com/boudinfl/pke.git\n",
            "  Cloning https://github.com/boudinfl/pke.git to /tmp/pip-req-build-73kkvl5_\n",
            "  Running command git clone -q https://github.com/boudinfl/pke.git /tmp/pip-req-build-73kkvl5_\n",
            "Requirement already satisfied (use --upgrade to upgrade): pke==1.8.1 from git+https://github.com/boudinfl/pke.git in /usr/local/lib/python3.7/dist-packages\n",
            "Requirement already satisfied: nltk in /usr/local/lib/python3.7/dist-packages (from pke==1.8.1) (3.2.5)\n",
            "Requirement already satisfied: networkx in /usr/local/lib/python3.7/dist-packages (from pke==1.8.1) (2.5.1)\n",
            "Requirement already satisfied: numpy in /usr/local/lib/python3.7/dist-packages (from pke==1.8.1) (1.19.5)\n",
            "Requirement already satisfied: scipy in /usr/local/lib/python3.7/dist-packages (from pke==1.8.1) (1.4.1)\n",
            "Requirement already satisfied: spacy in /usr/local/lib/python3.7/dist-packages (from pke==1.8.1) (2.3.0)\n",
            "Requirement already satisfied: six in /usr/local/lib/python3.7/dist-packages (from pke==1.8.1) (1.15.0)\n",
            "Requirement already satisfied: sklearn in /usr/local/lib/python3.7/dist-packages (from pke==1.8.1) (0.0)\n",
            "Requirement already satisfied: unidecode in /usr/local/lib/python3.7/dist-packages (from pke==1.8.1) (1.2.0)\n",
            "Requirement already satisfied: future in /usr/local/lib/python3.7/dist-packages (from pke==1.8.1) (0.16.0)\n",
            "Requirement already satisfied: joblib in /usr/local/lib/python3.7/dist-packages (from pke==1.8.1) (1.0.1)\n",
            "Requirement already satisfied: decorator<5,>=4.3 in /usr/local/lib/python3.7/dist-packages (from networkx->pke==1.8.1) (4.4.2)\n",
            "Requirement already satisfied: wasabi<1.1.0,>=0.4.0 in /usr/local/lib/python3.7/dist-packages (from spacy->pke==1.8.1) (0.8.2)\n",
            "Requirement already satisfied: catalogue<1.1.0,>=0.0.7 in /usr/local/lib/python3.7/dist-packages (from spacy->pke==1.8.1) (1.0.0)\n",
            "Requirement already satisfied: setuptools in /usr/local/lib/python3.7/dist-packages (from spacy->pke==1.8.1) (57.0.0)\n",
            "Requirement already satisfied: requests<3.0.0,>=2.13.0 in /usr/local/lib/python3.7/dist-packages (from spacy->pke==1.8.1) (2.23.0)\n",
            "Requirement already satisfied: preshed<3.1.0,>=3.0.2 in /usr/local/lib/python3.7/dist-packages (from spacy->pke==1.8.1) (3.0.5)\n",
            "Requirement already satisfied: plac<1.2.0,>=0.9.6 in /usr/local/lib/python3.7/dist-packages (from spacy->pke==1.8.1) (1.1.3)\n",
            "Requirement already satisfied: thinc==7.4.1 in /usr/local/lib/python3.7/dist-packages (from spacy->pke==1.8.1) (7.4.1)\n",
            "Requirement already satisfied: tqdm<5.0.0,>=4.38.0 in /usr/local/lib/python3.7/dist-packages (from spacy->pke==1.8.1) (4.41.1)\n",
            "Requirement already satisfied: blis<0.5.0,>=0.4.0 in /usr/local/lib/python3.7/dist-packages (from spacy->pke==1.8.1) (0.4.1)\n",
            "Requirement already satisfied: srsly<1.1.0,>=1.0.2 in /usr/local/lib/python3.7/dist-packages (from spacy->pke==1.8.1) (1.0.5)\n",
            "Requirement already satisfied: murmurhash<1.1.0,>=0.28.0 in /usr/local/lib/python3.7/dist-packages (from spacy->pke==1.8.1) (1.0.5)\n",
            "Requirement already satisfied: cymem<2.1.0,>=2.0.2 in /usr/local/lib/python3.7/dist-packages (from spacy->pke==1.8.1) (2.0.5)\n",
            "Requirement already satisfied: scikit-learn in /usr/local/lib/python3.7/dist-packages (from sklearn->pke==1.8.1) (0.22.2.post1)\n",
            "Requirement already satisfied: importlib-metadata>=0.20; python_version < \"3.8\" in /usr/local/lib/python3.7/dist-packages (from catalogue<1.1.0,>=0.0.7->spacy->pke==1.8.1) (4.5.0)\n",
            "Requirement already satisfied: idna<3,>=2.5 in /usr/local/lib/python3.7/dist-packages (from requests<3.0.0,>=2.13.0->spacy->pke==1.8.1) (2.10)\n",
            "Requirement already satisfied: urllib3!=1.25.0,!=1.25.1,<1.26,>=1.21.1 in /usr/local/lib/python3.7/dist-packages (from requests<3.0.0,>=2.13.0->spacy->pke==1.8.1) (1.24.3)\n",
            "Requirement already satisfied: certifi>=2017.4.17 in /usr/local/lib/python3.7/dist-packages (from requests<3.0.0,>=2.13.0->spacy->pke==1.8.1) (2021.5.30)\n",
            "Requirement already satisfied: chardet<4,>=3.0.2 in /usr/local/lib/python3.7/dist-packages (from requests<3.0.0,>=2.13.0->spacy->pke==1.8.1) (3.0.4)\n",
            "Requirement already satisfied: typing-extensions>=3.6.4; python_version < \"3.8\" in /usr/local/lib/python3.7/dist-packages (from importlib-metadata>=0.20; python_version < \"3.8\"->catalogue<1.1.0,>=0.0.7->spacy->pke==1.8.1) (3.7.4.3)\n",
            "Requirement already satisfied: zipp>=0.5 in /usr/local/lib/python3.7/dist-packages (from importlib-metadata>=0.20; python_version < \"3.8\"->catalogue<1.1.0,>=0.0.7->spacy->pke==1.8.1) (3.4.1)\n",
            "Building wheels for collected packages: pke\n",
            "  Building wheel for pke (setup.py) ... \u001b[?25l\u001b[?25hdone\n",
            "  Created wheel for pke: filename=pke-1.8.1-cp37-none-any.whl size=8763774 sha256=e9bb16eb1a9477ce671ea5eccd919ed66e6417543d5ff494edeec3bcee569a6e\n",
            "  Stored in directory: /tmp/pip-ephem-wheel-cache-ztys11dd/wheels/8d/24/54/6582e854e9e32dd6c632af6762b3a5d2f6b181c2992e165462\n",
            "Successfully built pke\n",
            "Requirement already satisfied: ginza in /usr/local/lib/python3.7/dist-packages (4.0.6)\n",
            "Requirement already satisfied: SudachiPy>=0.4.9; python_version >= \"3.5\" in /usr/local/lib/python3.7/dist-packages (from ginza) (0.5.2)\n",
            "Requirement already satisfied: SudachiDict-core>=20200330; python_version >= \"3.5\" in /usr/local/lib/python3.7/dist-packages (from ginza) (20210608)\n",
            "Requirement already satisfied: ja-ginza<4.1.0,>=4.0.0 in /usr/local/lib/python3.7/dist-packages (from ginza) (4.0.0)\n",
            "Collecting spacy<3.0.0,>=2.3.2\n",
            "  Using cached https://files.pythonhosted.org/packages/44/87/c70718b897a9507cf66ec73bbf0b82e049e4e9d35eee5cc3a49bc32a7a90/spacy-2.3.7-cp37-cp37m-manylinux_2_17_x86_64.manylinux2014_x86_64.whl\n",
            "Requirement already satisfied: sortedcontainers~=2.1.0 in /usr/local/lib/python3.7/dist-packages (from SudachiPy>=0.4.9; python_version >= \"3.5\"->ginza) (2.1.0)\n",
            "Requirement already satisfied: dartsclone~=0.9.0 in /usr/local/lib/python3.7/dist-packages (from SudachiPy>=0.4.9; python_version >= \"3.5\"->ginza) (0.9.0)\n",
            "Requirement already satisfied: murmurhash<1.1.0,>=0.28.0 in /usr/local/lib/python3.7/dist-packages (from spacy<3.0.0,>=2.3.2->ginza) (1.0.5)\n",
            "Requirement already satisfied: thinc<7.5.0,>=7.4.1 in /usr/local/lib/python3.7/dist-packages (from spacy<3.0.0,>=2.3.2->ginza) (7.4.1)\n",
            "Requirement already satisfied: setuptools in /usr/local/lib/python3.7/dist-packages (from spacy<3.0.0,>=2.3.2->ginza) (57.0.0)\n",
            "Requirement already satisfied: tqdm<5.0.0,>=4.38.0 in /usr/local/lib/python3.7/dist-packages (from spacy<3.0.0,>=2.3.2->ginza) (4.41.1)\n",
            "Requirement already satisfied: requests<3.0.0,>=2.13.0 in /usr/local/lib/python3.7/dist-packages (from spacy<3.0.0,>=2.3.2->ginza) (2.23.0)\n",
            "Requirement already satisfied: plac<1.2.0,>=0.9.6 in /usr/local/lib/python3.7/dist-packages (from spacy<3.0.0,>=2.3.2->ginza) (1.1.3)\n",
            "Requirement already satisfied: cymem<2.1.0,>=2.0.2 in /usr/local/lib/python3.7/dist-packages (from spacy<3.0.0,>=2.3.2->ginza) (2.0.5)\n",
            "Requirement already satisfied: preshed<3.1.0,>=3.0.2 in /usr/local/lib/python3.7/dist-packages (from spacy<3.0.0,>=2.3.2->ginza) (3.0.5)\n",
            "Requirement already satisfied: numpy>=1.15.0 in /usr/local/lib/python3.7/dist-packages (from spacy<3.0.0,>=2.3.2->ginza) (1.19.5)\n",
            "Requirement already satisfied: catalogue<1.1.0,>=0.0.7 in /usr/local/lib/python3.7/dist-packages (from spacy<3.0.0,>=2.3.2->ginza) (1.0.0)\n",
            "Requirement already satisfied: blis<0.8.0,>=0.4.0 in /usr/local/lib/python3.7/dist-packages (from spacy<3.0.0,>=2.3.2->ginza) (0.4.1)\n",
            "Requirement already satisfied: srsly<1.1.0,>=1.0.2 in /usr/local/lib/python3.7/dist-packages (from spacy<3.0.0,>=2.3.2->ginza) (1.0.5)\n",
            "Requirement already satisfied: wasabi<1.1.0,>=0.4.0 in /usr/local/lib/python3.7/dist-packages (from spacy<3.0.0,>=2.3.2->ginza) (0.8.2)\n",
            "Requirement already satisfied: Cython in /usr/local/lib/python3.7/dist-packages (from dartsclone~=0.9.0->SudachiPy>=0.4.9; python_version >= \"3.5\"->ginza) (0.29.23)\n",
            "Requirement already satisfied: certifi>=2017.4.17 in /usr/local/lib/python3.7/dist-packages (from requests<3.0.0,>=2.13.0->spacy<3.0.0,>=2.3.2->ginza) (2021.5.30)\n",
            "Requirement already satisfied: idna<3,>=2.5 in /usr/local/lib/python3.7/dist-packages (from requests<3.0.0,>=2.13.0->spacy<3.0.0,>=2.3.2->ginza) (2.10)\n",
            "Requirement already satisfied: chardet<4,>=3.0.2 in /usr/local/lib/python3.7/dist-packages (from requests<3.0.0,>=2.13.0->spacy<3.0.0,>=2.3.2->ginza) (3.0.4)\n",
            "Requirement already satisfied: urllib3!=1.25.0,!=1.25.1,<1.26,>=1.21.1 in /usr/local/lib/python3.7/dist-packages (from requests<3.0.0,>=2.13.0->spacy<3.0.0,>=2.3.2->ginza) (1.24.3)\n",
            "Requirement already satisfied: importlib-metadata>=0.20; python_version < \"3.8\" in /usr/local/lib/python3.7/dist-packages (from catalogue<1.1.0,>=0.0.7->spacy<3.0.0,>=2.3.2->ginza) (4.5.0)\n",
            "Requirement already satisfied: typing-extensions>=3.6.4; python_version < \"3.8\" in /usr/local/lib/python3.7/dist-packages (from importlib-metadata>=0.20; python_version < \"3.8\"->catalogue<1.1.0,>=0.0.7->spacy<3.0.0,>=2.3.2->ginza) (3.7.4.3)\n",
            "Requirement already satisfied: zipp>=0.5 in /usr/local/lib/python3.7/dist-packages (from importlib-metadata>=0.20; python_version < \"3.8\"->catalogue<1.1.0,>=0.0.7->spacy<3.0.0,>=2.3.2->ginza) (3.4.1)\n",
            "Installing collected packages: spacy\n",
            "  Found existing installation: spacy 2.3.0\n",
            "    Uninstalling spacy-2.3.0:\n",
            "      Successfully uninstalled spacy-2.3.0\n",
            "Successfully installed spacy-2.3.7\n"
          ],
          "name": "stdout"
        },
        {
          "output_type": "display_data",
          "data": {
            "application/vnd.colab-display-data+json": {
              "pip_warning": {
                "packages": [
                  "spacy"
                ]
              }
            }
          },
          "metadata": {
            "tags": []
          }
        },
        {
          "output_type": "stream",
          "text": [
            "Requirement already satisfied: nltk in /usr/local/lib/python3.7/dist-packages (3.2.5)\n",
            "Requirement already satisfied: six in /usr/local/lib/python3.7/dist-packages (from nltk) (1.15.0)\n",
            "Collecting spacy==2.3\n",
            "  Using cached https://files.pythonhosted.org/packages/37/53/336f849003c88a868275959c1195c26f1bbbae777e8544b5e9fe3dd35b90/spacy-2.3.0-cp37-cp37m-manylinux1_x86_64.whl\n",
            "Requirement already satisfied: preshed<3.1.0,>=3.0.2 in /usr/local/lib/python3.7/dist-packages (from spacy==2.3) (3.0.5)\n",
            "Requirement already satisfied: requests<3.0.0,>=2.13.0 in /usr/local/lib/python3.7/dist-packages (from spacy==2.3) (2.23.0)\n",
            "Requirement already satisfied: setuptools in /usr/local/lib/python3.7/dist-packages (from spacy==2.3) (57.0.0)\n",
            "Requirement already satisfied: catalogue<1.1.0,>=0.0.7 in /usr/local/lib/python3.7/dist-packages (from spacy==2.3) (1.0.0)\n",
            "Requirement already satisfied: blis<0.5.0,>=0.4.0 in /usr/local/lib/python3.7/dist-packages (from spacy==2.3) (0.4.1)\n",
            "Requirement already satisfied: wasabi<1.1.0,>=0.4.0 in /usr/local/lib/python3.7/dist-packages (from spacy==2.3) (0.8.2)\n",
            "Requirement already satisfied: plac<1.2.0,>=0.9.6 in /usr/local/lib/python3.7/dist-packages (from spacy==2.3) (1.1.3)\n",
            "Requirement already satisfied: thinc==7.4.1 in /usr/local/lib/python3.7/dist-packages (from spacy==2.3) (7.4.1)\n",
            "Requirement already satisfied: numpy>=1.15.0 in /usr/local/lib/python3.7/dist-packages (from spacy==2.3) (1.19.5)\n",
            "Requirement already satisfied: cymem<2.1.0,>=2.0.2 in /usr/local/lib/python3.7/dist-packages (from spacy==2.3) (2.0.5)\n",
            "Requirement already satisfied: srsly<1.1.0,>=1.0.2 in /usr/local/lib/python3.7/dist-packages (from spacy==2.3) (1.0.5)\n",
            "Requirement already satisfied: tqdm<5.0.0,>=4.38.0 in /usr/local/lib/python3.7/dist-packages (from spacy==2.3) (4.41.1)\n",
            "Requirement already satisfied: murmurhash<1.1.0,>=0.28.0 in /usr/local/lib/python3.7/dist-packages (from spacy==2.3) (1.0.5)\n",
            "Requirement already satisfied: certifi>=2017.4.17 in /usr/local/lib/python3.7/dist-packages (from requests<3.0.0,>=2.13.0->spacy==2.3) (2021.5.30)\n",
            "Requirement already satisfied: idna<3,>=2.5 in /usr/local/lib/python3.7/dist-packages (from requests<3.0.0,>=2.13.0->spacy==2.3) (2.10)\n",
            "Requirement already satisfied: chardet<4,>=3.0.2 in /usr/local/lib/python3.7/dist-packages (from requests<3.0.0,>=2.13.0->spacy==2.3) (3.0.4)\n",
            "Requirement already satisfied: urllib3!=1.25.0,!=1.25.1,<1.26,>=1.21.1 in /usr/local/lib/python3.7/dist-packages (from requests<3.0.0,>=2.13.0->spacy==2.3) (1.24.3)\n",
            "Requirement already satisfied: importlib-metadata>=0.20; python_version < \"3.8\" in /usr/local/lib/python3.7/dist-packages (from catalogue<1.1.0,>=0.0.7->spacy==2.3) (4.5.0)\n",
            "Requirement already satisfied: typing-extensions>=3.6.4; python_version < \"3.8\" in /usr/local/lib/python3.7/dist-packages (from importlib-metadata>=0.20; python_version < \"3.8\"->catalogue<1.1.0,>=0.0.7->spacy==2.3) (3.7.4.3)\n",
            "Requirement already satisfied: zipp>=0.5 in /usr/local/lib/python3.7/dist-packages (from importlib-metadata>=0.20; python_version < \"3.8\"->catalogue<1.1.0,>=0.0.7->spacy==2.3) (3.4.1)\n",
            "\u001b[31mERROR: ja-ginza 4.0.0 has requirement spacy>=2.3.2, but you'll have spacy 2.3.0 which is incompatible.\u001b[0m\n",
            "\u001b[31mERROR: ginza 4.0.6 has requirement spacy<3.0.0,>=2.3.2, but you'll have spacy 2.3.0 which is incompatible.\u001b[0m\n",
            "Installing collected packages: spacy\n",
            "  Found existing installation: spacy 2.3.7\n",
            "    Uninstalling spacy-2.3.7:\n",
            "      Successfully uninstalled spacy-2.3.7\n",
            "Successfully installed spacy-2.3.0\n"
          ],
          "name": "stdout"
        },
        {
          "output_type": "display_data",
          "data": {
            "application/vnd.colab-display-data+json": {
              "pip_warning": {
                "packages": [
                  "spacy"
                ]
              }
            }
          },
          "metadata": {
            "tags": []
          }
        },
        {
          "output_type": "stream",
          "text": [
            "/usr/lib/python3.7/runpy.py:125: RuntimeWarning: 'nltk.downloader' found in sys.modules after import of package 'nltk', but prior to execution of 'nltk.downloader'; this may result in unpredictable behaviour\n",
            "  warn(RuntimeWarning(msg))\n",
            "[nltk_data] Downloading package stopwords to /root/nltk_data...\n",
            "[nltk_data]   Package stopwords is already up-to-date!\n",
            "Collecting mojimoji\n",
            "\u001b[?25l  Downloading https://files.pythonhosted.org/packages/2f/86/56ae8e75a50c8bbcbfb71efded22f5332a6d710b772b95fd1088bf97bc70/mojimoji-0.0.11-cp37-cp37m-manylinux1_x86_64.whl (127kB)\n",
            "\u001b[K     |████████████████████████████████| 133kB 8.3MB/s \n",
            "\u001b[?25hInstalling collected packages: mojimoji\n",
            "Successfully installed mojimoji-0.0.11\n"
          ],
          "name": "stdout"
        }
      ]
    },
    {
      "cell_type": "code",
      "metadata": {
        "id": "K208G5ABAwr5"
      },
      "source": [
        "import pke\n",
        "import ginza\n",
        "import nltk\n",
        "import spacy\n",
        "import pandas as pd\n",
        "pke.base.lang_stopwords['ja_ginza'] = 'japanese'"
      ],
      "execution_count": 1,
      "outputs": []
    },
    {
      "cell_type": "code",
      "metadata": {
        "colab": {
          "base_uri": "https://localhost:8080/"
        },
        "id": "nc6D7JvG7D3P",
        "outputId": "2f63c02e-f67d-4584-da7e-f404fa209919"
      },
      "source": [
        "def get_key_phrase(spacy_model, text, n = 1):\n",
        "    \"\"\"キーフレーズ処理\n",
        "\n",
        "    Args:\n",
        "        text ([type]): キーフレーズ対象の文字列\n",
        "        n (int, optional): [description]. Defaults to 10.\n",
        "        gc_collect (bool, optional): [description]. Defaults to False.\n",
        "\n",
        "    Returns:\n",
        "        [type]: [description]\n",
        "    \"\"\"\n",
        "    #MultipartiteRankなどのキーフレーズの手法については以下のサイトが参考になります\n",
        "    #https://www.ogis-ri.co.jp/otc/hiroba/technical/similar-document-search/part5.html\n",
        "    extractor = pke.unsupervised.MultipartiteRank()\n",
        "    extractor.load_document(input=text, language='ja_ginza', normalization=None, spacy_model= spacy_model )\n",
        "    extractor.candidate_selection( pos={'NOUN', 'PROPN', 'ADJ', 'NUM'})\n",
        "    extractor.candidate_weighting(threshold=0.74, method='average', alpha=1.1)\n",
        "    key_phrase = extractor.get_n_best(n)\n",
        "    \n",
        "    return  key_phrase\n",
        "    \n",
        "    \n",
        "#spacyに設定されているstopwordを使う\n",
        "from  spacy.lang.ja import stop_words\n",
        "\n",
        "spacy_model = spacy.load(\"ja_ginza\")  # GiNZAモデルの読み込み\n",
        "print(spacy_model)\n",
        "stopwords = list(stop_words.STOP_WORDS)\n",
        "nltk.corpus.stopwords.words_org = nltk.corpus.stopwords.words\n",
        "nltk.corpus.stopwords.words = lambda lang : stopwords if lang == 'japanese' else nltk.corpus.stopwords.words_org(lang)"
      ],
      "execution_count": 2,
      "outputs": [
        {
          "output_type": "stream",
          "text": [
            "<spacy.lang.ja.Japanese object at 0x7f2902608b10>\n"
          ],
          "name": "stdout"
        }
      ]
    },
    {
      "cell_type": "code",
      "metadata": {
        "colab": {
          "base_uri": "https://localhost:8080/"
        },
        "id": "dDIm5Vat7Kio",
        "outputId": "d05c4ce3-a54b-4a8a-894b-4454d8d18762"
      },
      "source": [
        "get_key_phrase(spacy_model,\"ドラゴンボールは鳥山明の作品です。だから、今でも人気があるジャンプ作品です\")"
      ],
      "execution_count": 3,
      "outputs": [
        {
          "output_type": "execute_result",
          "data": {
            "text/plain": [
              "[('ドラゴン ボール', 0.5)]"
            ]
          },
          "metadata": {
            "tags": []
          },
          "execution_count": 3
        }
      ]
    },
    {
      "cell_type": "code",
      "metadata": {
        "colab": {
          "base_uri": "https://localhost:8080/"
        },
        "id": "NfHJkDcr7QHJ",
        "outputId": "5cd8785b-1073-42f4-a31f-9f822352be2d"
      },
      "source": [
        "get_key_phrase(spacy_model,\"ドラゴンクエストは、誰の作品ですか？スクエニから発売されたゲームソフトです。\")"
      ],
      "execution_count": 21,
      "outputs": [
        {
          "output_type": "execute_result",
          "data": {
            "text/plain": [
              "[('スクエニ', 0.3962987032710885),\n",
              " ('ゲームソフト', 0.3370938981808533),\n",
              " ('ドラゴン クエスト', 0.2666073985480575)]"
            ]
          },
          "metadata": {
            "tags": []
          },
          "execution_count": 21
        }
      ]
    },
    {
      "cell_type": "code",
      "metadata": {
        "id": "C4u-xjV07jpd"
      },
      "source": [
        "# 引用元：「東京ディズニーランド」『フリー百科事典　ウィキペディア日本語版』。\n",
        "# 最終更新 2019年9月29日 (日) 04:02 UTC、URL: https://ja.wikipedia.org\n",
        "text = \"東京ディズニーランド、英称：Tokyo Disneyland、略称：TDL）は、\" +\\\n",
        "\"千葉県浦安市舞浜にあるディズニーリゾートを形成する日本のディズニーパーク。\" +\\\n",
        "\"年間来場者数は日本最大の約1,600万人で、世界のテーマパーク・アミューズメントパークの中でも、\" +\\\n",
        "\"フロリダ州のウォルト・ディズニー・ワールド・リゾートのマジック・キングダム、カリフォルニア州の\" +\\\n",
        "\"ディズニーランド・リゾートのディズニーランド・パークに次いで世界3位の規模を誇る[1]。オリエンタルランド\" +\\\n",
        "\"がザ・ウォルト・ディズニー・カンパニーとのライセンス契約のもと運営している[3]。\""
      ],
      "execution_count": 22,
      "outputs": []
    },
    {
      "cell_type": "code",
      "metadata": {
        "id": "82iBGGrwLDNW"
      },
      "source": [
        "import re\n",
        "import mojimoji\n",
        "def normalize_text(text):\n",
        "  # 全部全角に変換\n",
        "  result = mojimoji.han_to_zen(text)\n",
        "\n",
        "  # 全角から半角に変換（カナは除く）\n",
        "  result = mojimoji.zen_to_han(result, kana=False)\n",
        "\n",
        "  # 全ての文字を小文字に変換\n",
        "  result = result.lower()\n",
        "  \n",
        "  return re.sub(' ','', result)\n",
        "  # return re.sub(' ', '', mojimoji.zen_to_han(text)).upper().split()"
      ],
      "execution_count": 4,
      "outputs": []
    },
    {
      "cell_type": "code",
      "metadata": {
        "colab": {
          "base_uri": "https://localhost:8080/"
        },
        "id": "bZRWZqQR7zbJ",
        "outputId": "477e656c-f8be-43b9-8312-4ee046832fc8"
      },
      "source": [
        "path = '/content/drive/MyDrive/卒業演習/tsne_+_clusters_list.json'\n",
        "with open(path, encoding='utf8')as f:\n",
        "  df = pd.read_json(f)\n",
        "\n",
        "df.info()"
      ],
      "execution_count": 5,
      "outputs": [
        {
          "output_type": "stream",
          "text": [
            "<class 'pandas.core.frame.DataFrame'>\n",
            "RangeIndex: 22115 entries, 0 to 22114\n",
            "Data columns (total 40 columns):\n",
            " #   Column               Non-Null Count  Dtype  \n",
            "---  ------               --------------  -----  \n",
            " 0   ID                   22115 non-null  int64  \n",
            " 1   プロジェクトID             22115 non-null  int64  \n",
            " 2   公開年度                 22115 non-null  int64  \n",
            " 3   事業番号1                22115 non-null  object \n",
            " 4   事業番号2                22115 non-null  int64  \n",
            " 5   事業番号3                150 non-null    float64\n",
            " 6   主要政策・施策              22115 non-null  object \n",
            " 7   府省庁                  22115 non-null  object \n",
            " 8   事業名                  22115 non-null  object \n",
            " 9   事業の目的                22115 non-null  object \n",
            " 10  事業概要                 22115 non-null  object \n",
            " 11  執行額                  22115 non-null  float64\n",
            " 12  objective_x          22115 non-null  float64\n",
            " 13  objective_y          22115 non-null  float64\n",
            " 14  cluster_in_ministry  22115 non-null  int64  \n",
            " 15  ALL                  22115 non-null  int64  \n",
            " 16  高齢社会対策               22115 non-null  int64  \n",
            " 17  男女共同参画               22115 non-null  int64  \n",
            " 18  少子化社会対策              22115 non-null  int64  \n",
            " 19  子ども・若者育成支援           22115 non-null  int64  \n",
            " 20  国土強靱化施策              22115 non-null  int64  \n",
            " 21  障害者施策                22115 non-null  int64  \n",
            " 22  地方創生                 22115 non-null  int64  \n",
            " 23  科学技術・イノベーション         22115 non-null  int64  \n",
            " 24  ＩＴ戦略                 22115 non-null  int64  \n",
            " 25  一億総活躍推進              22115 non-null  int64  \n",
            " 26  海洋政策                 22115 non-null  int64  \n",
            " 27  観光立国                 22115 non-null  int64  \n",
            " 28  宇宙開発利用               22115 non-null  int64  \n",
            " 29  地球温暖化対策              22115 non-null  int64  \n",
            " 30  ＯＤＡ                  22115 non-null  int64  \n",
            " 31  自殺対策                 22115 non-null  int64  \n",
            " 32  医療分野の研究開発関連          22115 non-null  int64  \n",
            " 33  沖縄振興                 22115 non-null  int64  \n",
            " 34  知的財産                 22115 non-null  int64  \n",
            " 35  2020年東京オリパラ          22115 non-null  int64  \n",
            " 36  犯罪被害者等施策             22115 non-null  int64  \n",
            " 37  クールジャパン              22115 non-null  int64  \n",
            " 38  食育推進                 22115 non-null  int64  \n",
            " 39  その他                  22115 non-null  int64  \n",
            "dtypes: float64(4), int64(30), object(6)\n",
            "memory usage: 6.7+ MB\n"
          ],
          "name": "stdout"
        }
      ]
    },
    {
      "cell_type": "code",
      "metadata": {
        "colab": {
          "base_uri": "https://localhost:8080/"
        },
        "id": "ni632NsWCCA9",
        "outputId": "30cf2ad4-4855-4cac-d3b4-f7d35a7d1748"
      },
      "source": [
        "df = df.drop(columns=['cluster_in_ministry', \n",
        "                      'ALL', \n",
        "                      '高齢社会対策', \n",
        "                      '男女共同参画',\n",
        "                      '少子化社会対策',\n",
        "                      '子ども・若者育成支援',\n",
        "                      '国土強靱化施策',\n",
        "                      '障害者施策',\n",
        "                      '地方創生',\n",
        "                      '科学技術・イノベーション',\n",
        "                      'ＩＴ戦略',\n",
        "                      '一億総活躍推進',\n",
        "                      '海洋政策',\n",
        "                      '観光立国',\n",
        "                      '宇宙開発利用',\n",
        "                      '地球温暖化対策',\n",
        "                      'ＯＤＡ',\n",
        "                      '自殺対策',\n",
        "                      '医療分野の研究開発関連',\n",
        "                      '沖縄振興',\n",
        "                      '知的財産',\n",
        "                      '2020年東京オリパラ',\n",
        "                      '犯罪被害者等施策',\n",
        "                      'クールジャパン',\n",
        "                      '食育推進',\n",
        "                      'その他'])\n",
        "\n",
        "df.info()"
      ],
      "execution_count": 6,
      "outputs": [
        {
          "output_type": "stream",
          "text": [
            "<class 'pandas.core.frame.DataFrame'>\n",
            "RangeIndex: 22115 entries, 0 to 22114\n",
            "Data columns (total 14 columns):\n",
            " #   Column       Non-Null Count  Dtype  \n",
            "---  ------       --------------  -----  \n",
            " 0   ID           22115 non-null  int64  \n",
            " 1   プロジェクトID     22115 non-null  int64  \n",
            " 2   公開年度         22115 non-null  int64  \n",
            " 3   事業番号1        22115 non-null  object \n",
            " 4   事業番号2        22115 non-null  int64  \n",
            " 5   事業番号3        150 non-null    float64\n",
            " 6   主要政策・施策      22115 non-null  object \n",
            " 7   府省庁          22115 non-null  object \n",
            " 8   事業名          22115 non-null  object \n",
            " 9   事業の目的        22115 non-null  object \n",
            " 10  事業概要         22115 non-null  object \n",
            " 11  執行額          22115 non-null  float64\n",
            " 12  objective_x  22115 non-null  float64\n",
            " 13  objective_y  22115 non-null  float64\n",
            "dtypes: float64(4), int64(4), object(6)\n",
            "memory usage: 2.4+ MB\n"
          ],
          "name": "stdout"
        }
      ]
    },
    {
      "cell_type": "code",
      "metadata": {
        "colab": {
          "base_uri": "https://localhost:8080/"
        },
        "id": "-HDVBIFsDz8e",
        "outputId": "68c72b8d-1a3a-43f7-dcdc-d5e30b4b45fe"
      },
      "source": [
        "df_2018 = df.iloc[0:0]\n",
        "cnt = 0\n",
        "for i in range(len(df)):\n",
        "  if df.loc[i]['公開年度'] == 2018:\n",
        "    df_2018.loc[cnt] = df.loc[i]\n",
        "    cnt += 1"
      ],
      "execution_count": 7,
      "outputs": [
        {
          "output_type": "stream",
          "text": [
            "/usr/local/lib/python3.7/dist-packages/pandas/core/indexing.py:670: SettingWithCopyWarning: \n",
            "A value is trying to be set on a copy of a slice from a DataFrame\n",
            "\n",
            "See the caveats in the documentation: https://pandas.pydata.org/pandas-docs/stable/user_guide/indexing.html#returning-a-view-versus-a-copy\n",
            "  iloc._setitem_with_indexer(indexer, value)\n"
          ],
          "name": "stderr"
        }
      ]
    },
    {
      "cell_type": "code",
      "metadata": {
        "colab": {
          "base_uri": "https://localhost:8080/",
          "height": 946
        },
        "id": "C-6wjyHkKliQ",
        "outputId": "26aef679-eb81-45c4-9453-374096c8515b"
      },
      "source": [
        "df_2018"
      ],
      "execution_count": 23,
      "outputs": [
        {
          "output_type": "execute_result",
          "data": {
            "text/html": [
              "<div>\n",
              "<style scoped>\n",
              "    .dataframe tbody tr th:only-of-type {\n",
              "        vertical-align: middle;\n",
              "    }\n",
              "\n",
              "    .dataframe tbody tr th {\n",
              "        vertical-align: top;\n",
              "    }\n",
              "\n",
              "    .dataframe thead th {\n",
              "        text-align: right;\n",
              "    }\n",
              "</style>\n",
              "<table border=\"1\" class=\"dataframe\">\n",
              "  <thead>\n",
              "    <tr style=\"text-align: right;\">\n",
              "      <th></th>\n",
              "      <th>ID</th>\n",
              "      <th>プロジェクトID</th>\n",
              "      <th>公開年度</th>\n",
              "      <th>事業番号1</th>\n",
              "      <th>事業番号2</th>\n",
              "      <th>事業番号3</th>\n",
              "      <th>主要政策・施策</th>\n",
              "      <th>府省庁</th>\n",
              "      <th>事業名</th>\n",
              "      <th>事業の目的</th>\n",
              "      <th>事業概要</th>\n",
              "      <th>執行額</th>\n",
              "      <th>objective_x</th>\n",
              "      <th>objective_y</th>\n",
              "    </tr>\n",
              "  </thead>\n",
              "  <tbody>\n",
              "    <tr>\n",
              "      <th>0</th>\n",
              "      <td>15765</td>\n",
              "      <td>16</td>\n",
              "      <td>2018</td>\n",
              "      <td>nan</td>\n",
              "      <td>11</td>\n",
              "      <td>NaN</td>\n",
              "      <td>['その他']</td>\n",
              "      <td>内閣官房</td>\n",
              "      <td>内閣広報経費</td>\n",
              "      <td>内閣の重要施策に関する広報を首相官邸ホームページ等を通じ、国内外に対して迅速・正確に分かりや...</td>\n",
              "      <td>内閣総理大臣が国際会議等で外国を訪問した際の動向や発言を動画を用いて国民に分かりやすく伝える...</td>\n",
              "      <td>77.0</td>\n",
              "      <td>-3.439199</td>\n",
              "      <td>36.503059</td>\n",
              "    </tr>\n",
              "    <tr>\n",
              "      <th>1</th>\n",
              "      <td>15755</td>\n",
              "      <td>15</td>\n",
              "      <td>2018</td>\n",
              "      <td>nan</td>\n",
              "      <td>1</td>\n",
              "      <td>NaN</td>\n",
              "      <td>['その他']</td>\n",
              "      <td>内閣官房</td>\n",
              "      <td>内閣人事局経費</td>\n",
              "      <td>政府全体を通じた成果向上及び人材育成を狙いとして実施する。\\n各研修に応じ、①幹部候補育成課...</td>\n",
              "      <td>１．官民合同セミナー（幹部級）・(課長級)（幹部級：本府省の幹部職員並びに民間企業の取締役ク...</td>\n",
              "      <td>23.0</td>\n",
              "      <td>57.182091</td>\n",
              "      <td>-2.059250</td>\n",
              "    </tr>\n",
              "    <tr>\n",
              "      <th>2</th>\n",
              "      <td>15926</td>\n",
              "      <td>52</td>\n",
              "      <td>2018</td>\n",
              "      <td>nan</td>\n",
              "      <td>124</td>\n",
              "      <td>NaN</td>\n",
              "      <td>['その他']</td>\n",
              "      <td>内閣府</td>\n",
              "      <td>人道救援物資備蓄経費</td>\n",
              "      <td>国際連合平和維持活動等に対する協力に関する法律（平成４年法律第７９号。以下「国際平和協力法」...</td>\n",
              "      <td>国際連合等から人道的な国際救援活動への物資協力の要請をうけた場合、迅速に対応できるよう人道救...</td>\n",
              "      <td>59.0</td>\n",
              "      <td>46.140083</td>\n",
              "      <td>-57.230614</td>\n",
              "    </tr>\n",
              "    <tr>\n",
              "      <th>3</th>\n",
              "      <td>15964</td>\n",
              "      <td>35</td>\n",
              "      <td>2018</td>\n",
              "      <td>nan</td>\n",
              "      <td>162</td>\n",
              "      <td>NaN</td>\n",
              "      <td>['クールジャパン']</td>\n",
              "      <td>内閣府</td>\n",
              "      <td>クールジャパン戦略推進経費</td>\n",
              "      <td>ゲーム・マンガ・アニメといったコンテンツ、ファッション、産品、日本食、伝統文化、デザイン等、...</td>\n",
              "      <td>クールジャパン担当大臣等の海外出張を活用したクールジャパン発信イベント、クールジャパン戦略の...</td>\n",
              "      <td>49.0</td>\n",
              "      <td>2.651179</td>\n",
              "      <td>-55.060982</td>\n",
              "    </tr>\n",
              "    <tr>\n",
              "      <th>4</th>\n",
              "      <td>15924</td>\n",
              "      <td>84</td>\n",
              "      <td>2018</td>\n",
              "      <td>nan</td>\n",
              "      <td>122</td>\n",
              "      <td>NaN</td>\n",
              "      <td>['その他']</td>\n",
              "      <td>内閣府</td>\n",
              "      <td>国際平和協力隊の派遣等経費</td>\n",
              "      <td>国際連合平和維持活動等に対する協力に関する法律（平成４年法律第７９号。以下「国際平和協力法」...</td>\n",
              "      <td>国際連合の要請に基づき、引き続き南スーダンにおいて、国際平和協力業務を実施する。</td>\n",
              "      <td>78.0</td>\n",
              "      <td>46.272320</td>\n",
              "      <td>-57.395348</td>\n",
              "    </tr>\n",
              "    <tr>\n",
              "      <th>...</th>\n",
              "      <td>...</td>\n",
              "      <td>...</td>\n",
              "      <td>...</td>\n",
              "      <td>...</td>\n",
              "      <td>...</td>\n",
              "      <td>...</td>\n",
              "      <td>...</td>\n",
              "      <td>...</td>\n",
              "      <td>...</td>\n",
              "      <td>...</td>\n",
              "      <td>...</td>\n",
              "      <td>...</td>\n",
              "      <td>...</td>\n",
              "      <td>...</td>\n",
              "    </tr>\n",
              "    <tr>\n",
              "      <th>4368</th>\n",
              "      <td>20146</td>\n",
              "      <td>3574</td>\n",
              "      <td>2018</td>\n",
              "      <td>nan</td>\n",
              "      <td>32</td>\n",
              "      <td>NaN</td>\n",
              "      <td>['地球温暖化対策']</td>\n",
              "      <td>環境省</td>\n",
              "      <td>短期寿命気候汚染物質削減に関する国際パートナーシップ拠出金関連業務</td>\n",
              "      <td>国内におけるブラックカーボン等の短期寿命気候汚染物質（SLCP）の排出実態及び対策技術等に係...</td>\n",
              "      <td>１．短期寿命気候汚染物質削減に関する国際パートナーシップ拠出金\\n　CCACに対し、平成24...</td>\n",
              "      <td>327.0</td>\n",
              "      <td>-10.464338</td>\n",
              "      <td>-70.462219</td>\n",
              "    </tr>\n",
              "    <tr>\n",
              "      <th>4369</th>\n",
              "      <td>15941</td>\n",
              "      <td>44</td>\n",
              "      <td>2018</td>\n",
              "      <td>nan</td>\n",
              "      <td>139</td>\n",
              "      <td>NaN</td>\n",
              "      <td>['その他']</td>\n",
              "      <td>内閣府</td>\n",
              "      <td>中長期の経済運営に必要な経費</td>\n",
              "      <td>中長期の経済財政、社会基盤、社会保障等に係る重要政策の企画立案・検討に活用することを目的とし...</td>\n",
              "      <td>経済財政諮問会議等での中長期の経済財政政策の企画立案・検討に活用することを目的として、意見交...</td>\n",
              "      <td>21.6</td>\n",
              "      <td>28.345156</td>\n",
              "      <td>-26.662083</td>\n",
              "    </tr>\n",
              "    <tr>\n",
              "      <th>4370</th>\n",
              "      <td>18840</td>\n",
              "      <td>4895</td>\n",
              "      <td>2018</td>\n",
              "      <td>nan</td>\n",
              "      <td>204</td>\n",
              "      <td>NaN</td>\n",
              "      <td>['観光立国', '高齢社会対策', '子ども・若者育成支援', '障害者施策', '食育推...</td>\n",
              "      <td>農林水産省</td>\n",
              "      <td>農山漁村振興交付金</td>\n",
              "      <td>都市部において農山漁村の価値が再認識されるなかで、農山漁村の活性化、自立及び維持発展を図る...</td>\n",
              "      <td>１　地域活性化対策【補助率：定額】\\n　　農山漁村が持つ豊かな自然や「食」を活用した地域の活...</td>\n",
              "      <td>7886.0</td>\n",
              "      <td>-7.659595</td>\n",
              "      <td>-13.079552</td>\n",
              "    </tr>\n",
              "    <tr>\n",
              "      <th>4371</th>\n",
              "      <td>19154</td>\n",
              "      <td>3708</td>\n",
              "      <td>2018</td>\n",
              "      <td>nan</td>\n",
              "      <td>119</td>\n",
              "      <td>NaN</td>\n",
              "      <td>['その他']</td>\n",
              "      <td>経済産業省</td>\n",
              "      <td>中小企業・小規模事業者人材対策事業</td>\n",
              "      <td>（１）各地の中小企業・小規模事業者が必要とする人材を地域内外から発掘し、マッチング・定着など...</td>\n",
              "      <td>（１）①地域中小企業人材確保支援等事業（中核人材確保スキーム事業を除く）：各地域の中小企業・...</td>\n",
              "      <td>1454.0</td>\n",
              "      <td>-0.068404</td>\n",
              "      <td>-19.573669</td>\n",
              "    </tr>\n",
              "    <tr>\n",
              "      <th>4372</th>\n",
              "      <td>18677</td>\n",
              "      <td>4916</td>\n",
              "      <td>2018</td>\n",
              "      <td>nan</td>\n",
              "      <td>41</td>\n",
              "      <td>NaN</td>\n",
              "      <td>['地方創生']</td>\n",
              "      <td>農林水産省</td>\n",
              "      <td>農林水産物の品目別輸出促進緊急対策事業</td>\n",
              "      <td>平成28年５月に「農林水産業・地域の活力創造本部」において、「農林水産業の輸出力強化戦略」...</td>\n",
              "      <td>「農林水産業の輸出力強化戦略」及び「日本再興戦略改訂2016」に基づき、コメ、青果物、花き、...</td>\n",
              "      <td>2317.0</td>\n",
              "      <td>-43.197659</td>\n",
              "      <td>-32.510189</td>\n",
              "    </tr>\n",
              "  </tbody>\n",
              "</table>\n",
              "<p>4373 rows × 14 columns</p>\n",
              "</div>"
            ],
            "text/plain": [
              "         ID  プロジェクトID  公開年度  ...     執行額  objective_x  objective_y\n",
              "0     15765        16  2018  ...    77.0    -3.439199    36.503059\n",
              "1     15755        15  2018  ...    23.0    57.182091    -2.059250\n",
              "2     15926        52  2018  ...    59.0    46.140083   -57.230614\n",
              "3     15964        35  2018  ...    49.0     2.651179   -55.060982\n",
              "4     15924        84  2018  ...    78.0    46.272320   -57.395348\n",
              "...     ...       ...   ...  ...     ...          ...          ...\n",
              "4368  20146      3574  2018  ...   327.0   -10.464338   -70.462219\n",
              "4369  15941        44  2018  ...    21.6    28.345156   -26.662083\n",
              "4370  18840      4895  2018  ...  7886.0    -7.659595   -13.079552\n",
              "4371  19154      3708  2018  ...  1454.0    -0.068404   -19.573669\n",
              "4372  18677      4916  2018  ...  2317.0   -43.197659   -32.510189\n",
              "\n",
              "[4373 rows x 14 columns]"
            ]
          },
          "metadata": {
            "tags": []
          },
          "execution_count": 23
        }
      ]
    },
    {
      "cell_type": "code",
      "metadata": {
        "colab": {
          "base_uri": "https://localhost:8080/"
        },
        "id": "yOzqgx8gRyOc",
        "outputId": "c6a064bd-5ad3-4bcf-d265-cbc97e8fa29c"
      },
      "source": [
        "df_2018.loc[63]['プロジェクトID']"
      ],
      "execution_count": 13,
      "outputs": [
        {
          "output_type": "execute_result",
          "data": {
            "text/plain": [
              "8344"
            ]
          },
          "metadata": {
            "tags": []
          },
          "execution_count": 13
        }
      ]
    },
    {
      "cell_type": "code",
      "metadata": {
        "colab": {
          "base_uri": "https://localhost:8080/",
          "height": 35
        },
        "id": "eqiFc_AuSMdm",
        "outputId": "9e141984-3c11-4e79-82d2-b6d36e129e1a"
      },
      "source": [
        "df_2018.loc[63]['事業概要']"
      ],
      "execution_count": 19,
      "outputs": [
        {
          "output_type": "execute_result",
          "data": {
            "application/vnd.google.colaboratory.intrinsic+json": {
              "type": "string"
            },
            "text/plain": [
              "'国の職員が、その職務を行うときに、故意又は過失によって違法に他人に損害を加えた際に支払う賠償、又は過大に受領した納付金等の払戻を行う。'"
            ]
          },
          "metadata": {
            "tags": []
          },
          "execution_count": 19
        }
      ]
    },
    {
      "cell_type": "code",
      "metadata": {
        "colab": {
          "base_uri": "https://localhost:8080/"
        },
        "id": "c5gKt4lNSD-3",
        "outputId": "df729468-28f7-4bfc-d8fe-609ee95f6d38"
      },
      "source": [
        "get_key_phrase(spacy_model, df_2018.loc[63]['事業概要'])"
      ],
      "execution_count": 23,
      "outputs": [
        {
          "output_type": "execute_result",
          "data": {
            "text/plain": [
              "[]"
            ]
          },
          "metadata": {
            "tags": []
          },
          "execution_count": 23
        }
      ]
    },
    {
      "cell_type": "code",
      "metadata": {
        "colab": {
          "base_uri": "https://localhost:8080/"
        },
        "id": "7LqVCLYrLhro",
        "outputId": "314a1257-c664-4d9d-fc82-de2e114c6fbc"
      },
      "source": [
        "df_pke = {}\n",
        "df_enpty = []\n",
        "for i in range(len(df_2018)):\n",
        "  if get_key_phrase(spacy_model, df_2018.loc[i]['事業概要']) == []:\n",
        "    print(i)\n",
        "    df_pke[df_2018.loc[i]['プロジェクトID']] = ''\n",
        "    df_enpty.append(df_2018.loc[i]['プロジェクトID'])\n",
        "  else:\n",
        "    df_pke[df_2018.loc[i]['プロジェクトID']] = normalize_text(get_key_phrase(spacy_model, df_2018.loc[i]['事業概要'])[0][0])"
      ],
      "execution_count": 42,
      "outputs": [
        {
          "output_type": "stream",
          "text": [
            "63\n",
            "84\n",
            "140\n",
            "821\n",
            "1422\n",
            "1426\n",
            "1461\n",
            "1618\n",
            "2476\n",
            "2602\n",
            "2835\n",
            "3186\n",
            "3232\n",
            "3877\n",
            "3964\n"
          ],
          "name": "stdout"
        }
      ]
    },
    {
      "cell_type": "code",
      "metadata": {
        "colab": {
          "base_uri": "https://localhost:8080/"
        },
        "id": "zLFAgmNrWE38",
        "outputId": "3e2dbcdf-b977-48e0-8bd3-084b1982c4da"
      },
      "source": [
        "print(df_2018.loc[100]['事業名'])\n",
        "print(df_2018.loc[100]['事業概要'])\n",
        "print(df_pke[df_2018.loc[100]['プロジェクトID']])"
      ],
      "execution_count": 43,
      "outputs": [
        {
          "output_type": "stream",
          "text": [
            "たばこ規制枠組条約締約国会議事務局分担金\n",
            "世界保健機関（WHO）内の「たばこの規制に関する世界保健機関枠組条約」締約国会議事務局が実施する締約国会議開催の経費やたばこ規制関連ガイドラインの策定等技術的・専門的な措置等に対して拠出する。\n",
            "世界保健機関\n"
          ],
          "name": "stdout"
        }
      ]
    },
    {
      "cell_type": "code",
      "metadata": {
        "colab": {
          "base_uri": "https://localhost:8080/",
          "height": 35
        },
        "id": "nNu-9D5OYY6V",
        "outputId": "2bdd9a2d-195e-4a64-9a01-95aca16731cc"
      },
      "source": [
        "df_pke[8344]"
      ],
      "execution_count": 44,
      "outputs": [
        {
          "output_type": "execute_result",
          "data": {
            "application/vnd.google.colaboratory.intrinsic+json": {
              "type": "string"
            },
            "text/plain": [
              "''"
            ]
          },
          "metadata": {
            "tags": []
          },
          "execution_count": 44
        }
      ]
    },
    {
      "cell_type": "code",
      "metadata": {
        "id": "1kkaB3yLWwcv"
      },
      "source": [
        "import json\n",
        "obj = []\n",
        "for i in range(len(df_2018)):\n",
        "  obj.append({'プロジェクトID':int(df_2018.loc[i]['プロジェクトID']),\n",
        "             'pke':df_pke[df_2018.loc[i]['プロジェクトID']]})\n",
        "  \n",
        "with open('/content/drive/MyDrive/Colab Notebooks/pre-judgit/pke2018.json', 'w', encoding='utf8')as f:\n",
        "  json.dump(obj, f, indent = 2, ensure_ascii=False)"
      ],
      "execution_count": 46,
      "outputs": []
    },
    {
      "cell_type": "code",
      "metadata": {
        "id": "Ka4cYNuxPeL2"
      },
      "source": [
        "test = {}\n",
        "test['key'] = ''"
      ],
      "execution_count": 38,
      "outputs": []
    },
    {
      "cell_type": "code",
      "metadata": {
        "colab": {
          "base_uri": "https://localhost:8080/",
          "height": 35
        },
        "id": "abSEp-vtZFoD",
        "outputId": "82fcac28-b25d-419d-f8fd-04918a985d56"
      },
      "source": [
        "test['key']"
      ],
      "execution_count": 39,
      "outputs": [
        {
          "output_type": "execute_result",
          "data": {
            "application/vnd.google.colaboratory.intrinsic+json": {
              "type": "string"
            },
            "text/plain": [
              "''"
            ]
          },
          "metadata": {
            "tags": []
          },
          "execution_count": 39
        }
      ]
    },
    {
      "cell_type": "code",
      "metadata": {
        "id": "Zi7NlWkZZHeH"
      },
      "source": [
        ""
      ],
      "execution_count": null,
      "outputs": []
    }
  ]
}