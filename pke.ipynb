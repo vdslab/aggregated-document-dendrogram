{
  "nbformat": 4,
  "nbformat_minor": 0,
  "metadata": {
    "colab": {
      "name": "pke.ipynb",
      "provenance": [],
      "mount_file_id": "1XTUYiVY4i7brbgqvpiGuNmaqZy5cSPLL",
      "authorship_tag": "ABX9TyPVMdeCaXkiBikHf0ob6WTX",
      "include_colab_link": true
    },
    "kernelspec": {
      "name": "python3",
      "display_name": "Python 3"
    },
    "language_info": {
      "name": "python"
    },
    "accelerator": "GPU"
  },
  "cells": [
    {
      "cell_type": "markdown",
      "metadata": {
        "id": "view-in-github",
        "colab_type": "text"
      },
      "source": [
        "<a href=\"https://colab.research.google.com/github/vdslab/t-taiki0620/blob/main/pke.ipynb\" target=\"_parent\"><img src=\"https://colab.research.google.com/assets/colab-badge.svg\" alt=\"Open In Colab\"/></a>"
      ]
    },
    {
      "cell_type": "code",
      "metadata": {
        "colab": {
          "base_uri": "https://localhost:8080/"
        },
        "id": "uBTGrhxmYaIT",
        "outputId": "6a3d4d0d-c062-47e6-8a11-c529e1e1d716"
      },
      "source": [
        "!pip install git+https://github.com/boudinfl/pke.git\n",
        "!pip install ginza\n",
        "!pip install nltk\n",
        "!pip install spacy==2.3.6\n",
        "!python -m nltk.downloader stopwords\n",
        "!pip install mojimoji"
      ],
      "execution_count": 1,
      "outputs": [
        {
          "output_type": "stream",
          "text": [
            "Collecting git+https://github.com/boudinfl/pke.git\n",
            "  Cloning https://github.com/boudinfl/pke.git to /tmp/pip-req-build-unqhbp3b\n",
            "  Running command git clone -q https://github.com/boudinfl/pke.git /tmp/pip-req-build-unqhbp3b\n",
            "Requirement already satisfied: nltk in /usr/local/lib/python3.7/dist-packages (from pke==1.8.1) (3.2.5)\n",
            "Requirement already satisfied: networkx in /usr/local/lib/python3.7/dist-packages (from pke==1.8.1) (2.5.1)\n",
            "Requirement already satisfied: numpy in /usr/local/lib/python3.7/dist-packages (from pke==1.8.1) (1.19.5)\n",
            "Requirement already satisfied: scipy in /usr/local/lib/python3.7/dist-packages (from pke==1.8.1) (1.4.1)\n",
            "Requirement already satisfied: spacy in /usr/local/lib/python3.7/dist-packages (from pke==1.8.1) (2.2.4)\n",
            "Requirement already satisfied: six in /usr/local/lib/python3.7/dist-packages (from pke==1.8.1) (1.15.0)\n",
            "Requirement already satisfied: sklearn in /usr/local/lib/python3.7/dist-packages (from pke==1.8.1) (0.0)\n",
            "Collecting unidecode\n",
            "\u001b[?25l  Downloading https://files.pythonhosted.org/packages/9e/25/723487ca2a52ebcee88a34d7d1f5a4b80b793f179ee0f62d5371938dfa01/Unidecode-1.2.0-py2.py3-none-any.whl (241kB)\n",
            "\u001b[K     |████████████████████████████████| 245kB 27.1MB/s \n",
            "\u001b[?25hRequirement already satisfied: future in /usr/local/lib/python3.7/dist-packages (from pke==1.8.1) (0.16.0)\n",
            "Requirement already satisfied: joblib in /usr/local/lib/python3.7/dist-packages (from pke==1.8.1) (1.0.1)\n",
            "Requirement already satisfied: decorator<5,>=4.3 in /usr/local/lib/python3.7/dist-packages (from networkx->pke==1.8.1) (4.4.2)\n",
            "Requirement already satisfied: blis<0.5.0,>=0.4.0 in /usr/local/lib/python3.7/dist-packages (from spacy->pke==1.8.1) (0.4.1)\n",
            "Requirement already satisfied: tqdm<5.0.0,>=4.38.0 in /usr/local/lib/python3.7/dist-packages (from spacy->pke==1.8.1) (4.41.1)\n",
            "Requirement already satisfied: thinc==7.4.0 in /usr/local/lib/python3.7/dist-packages (from spacy->pke==1.8.1) (7.4.0)\n",
            "Requirement already satisfied: catalogue<1.1.0,>=0.0.7 in /usr/local/lib/python3.7/dist-packages (from spacy->pke==1.8.1) (1.0.0)\n",
            "Requirement already satisfied: srsly<1.1.0,>=1.0.2 in /usr/local/lib/python3.7/dist-packages (from spacy->pke==1.8.1) (1.0.5)\n",
            "Requirement already satisfied: setuptools in /usr/local/lib/python3.7/dist-packages (from spacy->pke==1.8.1) (57.0.0)\n",
            "Requirement already satisfied: plac<1.2.0,>=0.9.6 in /usr/local/lib/python3.7/dist-packages (from spacy->pke==1.8.1) (1.1.3)\n",
            "Requirement already satisfied: murmurhash<1.1.0,>=0.28.0 in /usr/local/lib/python3.7/dist-packages (from spacy->pke==1.8.1) (1.0.5)\n",
            "Requirement already satisfied: preshed<3.1.0,>=3.0.2 in /usr/local/lib/python3.7/dist-packages (from spacy->pke==1.8.1) (3.0.5)\n",
            "Requirement already satisfied: cymem<2.1.0,>=2.0.2 in /usr/local/lib/python3.7/dist-packages (from spacy->pke==1.8.1) (2.0.5)\n",
            "Requirement already satisfied: requests<3.0.0,>=2.13.0 in /usr/local/lib/python3.7/dist-packages (from spacy->pke==1.8.1) (2.23.0)\n",
            "Requirement already satisfied: wasabi<1.1.0,>=0.4.0 in /usr/local/lib/python3.7/dist-packages (from spacy->pke==1.8.1) (0.8.2)\n",
            "Requirement already satisfied: scikit-learn in /usr/local/lib/python3.7/dist-packages (from sklearn->pke==1.8.1) (0.22.2.post1)\n",
            "Requirement already satisfied: importlib-metadata>=0.20; python_version < \"3.8\" in /usr/local/lib/python3.7/dist-packages (from catalogue<1.1.0,>=0.0.7->spacy->pke==1.8.1) (4.6.1)\n",
            "Requirement already satisfied: urllib3!=1.25.0,!=1.25.1,<1.26,>=1.21.1 in /usr/local/lib/python3.7/dist-packages (from requests<3.0.0,>=2.13.0->spacy->pke==1.8.1) (1.24.3)\n",
            "Requirement already satisfied: certifi>=2017.4.17 in /usr/local/lib/python3.7/dist-packages (from requests<3.0.0,>=2.13.0->spacy->pke==1.8.1) (2021.5.30)\n",
            "Requirement already satisfied: idna<3,>=2.5 in /usr/local/lib/python3.7/dist-packages (from requests<3.0.0,>=2.13.0->spacy->pke==1.8.1) (2.10)\n",
            "Requirement already satisfied: chardet<4,>=3.0.2 in /usr/local/lib/python3.7/dist-packages (from requests<3.0.0,>=2.13.0->spacy->pke==1.8.1) (3.0.4)\n",
            "Requirement already satisfied: typing-extensions>=3.6.4; python_version < \"3.8\" in /usr/local/lib/python3.7/dist-packages (from importlib-metadata>=0.20; python_version < \"3.8\"->catalogue<1.1.0,>=0.0.7->spacy->pke==1.8.1) (3.7.4.3)\n",
            "Requirement already satisfied: zipp>=0.5 in /usr/local/lib/python3.7/dist-packages (from importlib-metadata>=0.20; python_version < \"3.8\"->catalogue<1.1.0,>=0.0.7->spacy->pke==1.8.1) (3.5.0)\n",
            "Building wheels for collected packages: pke\n",
            "  Building wheel for pke (setup.py) ... \u001b[?25l\u001b[?25hdone\n",
            "  Created wheel for pke: filename=pke-1.8.1-cp37-none-any.whl size=8763774 sha256=c1766dbebf99598890512e9ae89b38be546a3df8c22c36c35ca95a479e7e8d11\n",
            "  Stored in directory: /tmp/pip-ephem-wheel-cache-9sd77gbq/wheels/8d/24/54/6582e854e9e32dd6c632af6762b3a5d2f6b181c2992e165462\n",
            "Successfully built pke\n",
            "Installing collected packages: unidecode, pke\n",
            "Successfully installed pke-1.8.1 unidecode-1.2.0\n",
            "Collecting ginza\n",
            "  Downloading https://files.pythonhosted.org/packages/d1/1e/1dac9cc0fa57670b960e46aa4e726a4dd530c026db9d2316aa07aba526d6/ginza-4.0.6.tar.gz\n",
            "Collecting spacy<3.0.0,>=2.3.2\n",
            "\u001b[?25l  Downloading https://files.pythonhosted.org/packages/44/87/c70718b897a9507cf66ec73bbf0b82e049e4e9d35eee5cc3a49bc32a7a90/spacy-2.3.7-cp37-cp37m-manylinux_2_17_x86_64.manylinux2014_x86_64.whl (10.4MB)\n",
            "\u001b[K     |████████████████████████████████| 10.4MB 22.3MB/s \n",
            "\u001b[?25hCollecting ja_ginza<4.1.0,>=4.0.0\n",
            "\u001b[?25l  Downloading https://files.pythonhosted.org/packages/89/7d/c8778b5472082da8488b2686cbab3e34ab371fa038c1a712a8d55d8dba2b/ja_ginza-4.0.0.tar.gz (51.5MB)\n",
            "\u001b[K     |████████████████████████████████| 51.5MB 56kB/s \n",
            "\u001b[?25hCollecting SudachiPy>=0.4.9\n",
            "\u001b[?25l  Downloading https://files.pythonhosted.org/packages/86/c9/1ccdbb8cb70925b6a6b0b99c2574b453c1dfee08695dd1ebbe6f966bc42f/SudachiPy-0.5.2.tar.gz (70kB)\n",
            "\u001b[K     |████████████████████████████████| 71kB 11.3MB/s \n",
            "\u001b[?25hCollecting SudachiDict-core>=20200330\n",
            "  Downloading https://files.pythonhosted.org/packages/d3/cf/5bacbbf91ef71580ec1eb4296c43f08f09d6a4dbfd508f2ceb7b2d394616/SudachiDict-core-20210608.tar.gz\n",
            "Requirement already satisfied: catalogue<1.1.0,>=0.0.7 in /usr/local/lib/python3.7/dist-packages (from spacy<3.0.0,>=2.3.2->ginza) (1.0.0)\n",
            "Requirement already satisfied: setuptools in /usr/local/lib/python3.7/dist-packages (from spacy<3.0.0,>=2.3.2->ginza) (57.0.0)\n",
            "Requirement already satisfied: tqdm<5.0.0,>=4.38.0 in /usr/local/lib/python3.7/dist-packages (from spacy<3.0.0,>=2.3.2->ginza) (4.41.1)\n",
            "Requirement already satisfied: requests<3.0.0,>=2.13.0 in /usr/local/lib/python3.7/dist-packages (from spacy<3.0.0,>=2.3.2->ginza) (2.23.0)\n",
            "Collecting thinc<7.5.0,>=7.4.1\n",
            "\u001b[?25l  Downloading https://files.pythonhosted.org/packages/9a/92/71ab278f865f7565c37ed6917d0f23342e4f9a0633013113bd435cf0a691/thinc-7.4.5-cp37-cp37m-manylinux2014_x86_64.whl (1.0MB)\n",
            "\u001b[K     |████████████████████████████████| 1.1MB 43.9MB/s \n",
            "\u001b[?25hRequirement already satisfied: preshed<3.1.0,>=3.0.2 in /usr/local/lib/python3.7/dist-packages (from spacy<3.0.0,>=2.3.2->ginza) (3.0.5)\n",
            "Requirement already satisfied: wasabi<1.1.0,>=0.4.0 in /usr/local/lib/python3.7/dist-packages (from spacy<3.0.0,>=2.3.2->ginza) (0.8.2)\n",
            "Requirement already satisfied: murmurhash<1.1.0,>=0.28.0 in /usr/local/lib/python3.7/dist-packages (from spacy<3.0.0,>=2.3.2->ginza) (1.0.5)\n",
            "Requirement already satisfied: plac<1.2.0,>=0.9.6 in /usr/local/lib/python3.7/dist-packages (from spacy<3.0.0,>=2.3.2->ginza) (1.1.3)\n",
            "Requirement already satisfied: blis<0.8.0,>=0.4.0 in /usr/local/lib/python3.7/dist-packages (from spacy<3.0.0,>=2.3.2->ginza) (0.4.1)\n",
            "Requirement already satisfied: numpy>=1.15.0 in /usr/local/lib/python3.7/dist-packages (from spacy<3.0.0,>=2.3.2->ginza) (1.19.5)\n",
            "Requirement already satisfied: cymem<2.1.0,>=2.0.2 in /usr/local/lib/python3.7/dist-packages (from spacy<3.0.0,>=2.3.2->ginza) (2.0.5)\n",
            "Requirement already satisfied: srsly<1.1.0,>=1.0.2 in /usr/local/lib/python3.7/dist-packages (from spacy<3.0.0,>=2.3.2->ginza) (1.0.5)\n",
            "Collecting sortedcontainers~=2.1.0\n",
            "  Downloading https://files.pythonhosted.org/packages/13/f3/cf85f7c3a2dbd1a515d51e1f1676d971abe41bba6f4ab5443240d9a78e5b/sortedcontainers-2.1.0-py2.py3-none-any.whl\n",
            "Collecting dartsclone~=0.9.0\n",
            "\u001b[?25l  Downloading https://files.pythonhosted.org/packages/63/6e/3680ae2eb9fe32698f7489630186314106b8464ad37747268ff36fe2dec7/dartsclone-0.9.0-cp37-cp37m-manylinux1_x86_64.whl (473kB)\n",
            "\u001b[K     |████████████████████████████████| 481kB 46.9MB/s \n",
            "\u001b[?25hRequirement already satisfied: importlib-metadata>=0.20; python_version < \"3.8\" in /usr/local/lib/python3.7/dist-packages (from catalogue<1.1.0,>=0.0.7->spacy<3.0.0,>=2.3.2->ginza) (4.6.1)\n",
            "Requirement already satisfied: certifi>=2017.4.17 in /usr/local/lib/python3.7/dist-packages (from requests<3.0.0,>=2.13.0->spacy<3.0.0,>=2.3.2->ginza) (2021.5.30)\n",
            "Requirement already satisfied: chardet<4,>=3.0.2 in /usr/local/lib/python3.7/dist-packages (from requests<3.0.0,>=2.13.0->spacy<3.0.0,>=2.3.2->ginza) (3.0.4)\n",
            "Requirement already satisfied: urllib3!=1.25.0,!=1.25.1,<1.26,>=1.21.1 in /usr/local/lib/python3.7/dist-packages (from requests<3.0.0,>=2.13.0->spacy<3.0.0,>=2.3.2->ginza) (1.24.3)\n",
            "Requirement already satisfied: idna<3,>=2.5 in /usr/local/lib/python3.7/dist-packages (from requests<3.0.0,>=2.13.0->spacy<3.0.0,>=2.3.2->ginza) (2.10)\n",
            "Requirement already satisfied: Cython in /usr/local/lib/python3.7/dist-packages (from dartsclone~=0.9.0->SudachiPy>=0.4.9->ginza) (0.29.23)\n",
            "Requirement already satisfied: typing-extensions>=3.6.4; python_version < \"3.8\" in /usr/local/lib/python3.7/dist-packages (from importlib-metadata>=0.20; python_version < \"3.8\"->catalogue<1.1.0,>=0.0.7->spacy<3.0.0,>=2.3.2->ginza) (3.7.4.3)\n",
            "Requirement already satisfied: zipp>=0.5 in /usr/local/lib/python3.7/dist-packages (from importlib-metadata>=0.20; python_version < \"3.8\"->catalogue<1.1.0,>=0.0.7->spacy<3.0.0,>=2.3.2->ginza) (3.5.0)\n",
            "Building wheels for collected packages: ginza, ja-ginza, SudachiPy, SudachiDict-core\n",
            "  Building wheel for ginza (setup.py) ... \u001b[?25l\u001b[?25hdone\n",
            "  Created wheel for ginza: filename=ginza-4.0.6-cp37-none-any.whl size=15793 sha256=50d10c5fa750d871c1d5311f1e0f9557d8989df4ea1ce11285e9f6e78cf3bb98\n",
            "  Stored in directory: /root/.cache/pip/wheels/7e/37/14/80b8f727f6adb2b00377bca3ddf9d9a999aecff97ee0a3017c\n",
            "  Building wheel for ja-ginza (setup.py) ... \u001b[?25l\u001b[?25hdone\n",
            "  Created wheel for ja-ginza: filename=ja_ginza-4.0.0-cp37-none-any.whl size=51530814 sha256=9973365891548f6ae8ede00bec096aec7a9b418ed11b80e3b2c106f76a1218fc\n",
            "  Stored in directory: /root/.cache/pip/wheels/28/5a/c0/95ac590b39eff99c77d729f284341d15a6903e4011d70ff421\n",
            "  Building wheel for SudachiPy (setup.py) ... \u001b[?25l\u001b[?25hdone\n",
            "  Created wheel for SudachiPy: filename=SudachiPy-0.5.2-cp37-cp37m-linux_x86_64.whl size=870185 sha256=fc2776ea7340e79e7e5a22422e337878b93aecb62d9eb1614b19984dc335cf95\n",
            "  Stored in directory: /root/.cache/pip/wheels/f1/cc/90/8c68725c622127bb3e5dc46756a8c03bd548dc6d756e66c72d\n",
            "  Building wheel for SudachiDict-core (setup.py) ... \u001b[?25l\u001b[?25hdone\n",
            "  Created wheel for SudachiDict-core: filename=SudachiDict_core-20210608-cp37-none-any.whl size=71421463 sha256=a2046d2c2e12d8bf2100caeee02b81e89be3de142af2638658f549a7b82be72c\n",
            "  Stored in directory: /root/.cache/pip/wheels/ec/ec/7f/1730dc41264a705dfbe86f18e87f30e625f1a1a670370912f9\n",
            "Successfully built ginza ja-ginza SudachiPy SudachiDict-core\n",
            "Installing collected packages: thinc, spacy, ja-ginza, sortedcontainers, dartsclone, SudachiPy, SudachiDict-core, ginza\n",
            "  Found existing installation: thinc 7.4.0\n",
            "    Uninstalling thinc-7.4.0:\n",
            "      Successfully uninstalled thinc-7.4.0\n",
            "  Found existing installation: spacy 2.2.4\n",
            "    Uninstalling spacy-2.2.4:\n",
            "      Successfully uninstalled spacy-2.2.4\n",
            "  Found existing installation: sortedcontainers 2.4.0\n",
            "    Uninstalling sortedcontainers-2.4.0:\n",
            "      Successfully uninstalled sortedcontainers-2.4.0\n",
            "Successfully installed SudachiDict-core-20210608 SudachiPy-0.5.2 dartsclone-0.9.0 ginza-4.0.6 ja-ginza-4.0.0 sortedcontainers-2.1.0 spacy-2.3.7 thinc-7.4.5\n",
            "Requirement already satisfied: nltk in /usr/local/lib/python3.7/dist-packages (3.2.5)\n",
            "Requirement already satisfied: six in /usr/local/lib/python3.7/dist-packages (from nltk) (1.15.0)\n",
            "Collecting spacy==2.3.6\n",
            "\u001b[?25l  Downloading https://files.pythonhosted.org/packages/45/3b/ca730628aed6cbbd70b00ecb3f698c8bf03374842998f3b842070b593ee2/spacy-2.3.6-cp37-cp37m-manylinux_2_17_x86_64.manylinux2014_x86_64.whl (10.4MB)\n",
            "\u001b[K     |████████████████████████████████| 10.4MB 18.4MB/s \n",
            "\u001b[?25hRequirement already satisfied: srsly<1.1.0,>=1.0.2 in /usr/local/lib/python3.7/dist-packages (from spacy==2.3.6) (1.0.5)\n",
            "Requirement already satisfied: murmurhash<1.1.0,>=0.28.0 in /usr/local/lib/python3.7/dist-packages (from spacy==2.3.6) (1.0.5)\n",
            "Requirement already satisfied: setuptools in /usr/local/lib/python3.7/dist-packages (from spacy==2.3.6) (57.0.0)\n",
            "Requirement already satisfied: plac<1.2.0,>=0.9.6 in /usr/local/lib/python3.7/dist-packages (from spacy==2.3.6) (1.1.3)\n",
            "Requirement already satisfied: requests<3.0.0,>=2.13.0 in /usr/local/lib/python3.7/dist-packages (from spacy==2.3.6) (2.23.0)\n",
            "Requirement already satisfied: catalogue<1.1.0,>=0.0.7 in /usr/local/lib/python3.7/dist-packages (from spacy==2.3.6) (1.0.0)\n",
            "Requirement already satisfied: tqdm<5.0.0,>=4.38.0 in /usr/local/lib/python3.7/dist-packages (from spacy==2.3.6) (4.41.1)\n",
            "Requirement already satisfied: cymem<2.1.0,>=2.0.2 in /usr/local/lib/python3.7/dist-packages (from spacy==2.3.6) (2.0.5)\n",
            "Requirement already satisfied: numpy>=1.15.0 in /usr/local/lib/python3.7/dist-packages (from spacy==2.3.6) (1.19.5)\n",
            "Requirement already satisfied: preshed<3.1.0,>=3.0.2 in /usr/local/lib/python3.7/dist-packages (from spacy==2.3.6) (3.0.5)\n",
            "Requirement already satisfied: blis<0.8.0,>=0.4.0 in /usr/local/lib/python3.7/dist-packages (from spacy==2.3.6) (0.4.1)\n",
            "Requirement already satisfied: thinc<7.5.0,>=7.4.1 in /usr/local/lib/python3.7/dist-packages (from spacy==2.3.6) (7.4.5)\n",
            "Requirement already satisfied: wasabi<1.1.0,>=0.4.0 in /usr/local/lib/python3.7/dist-packages (from spacy==2.3.6) (0.8.2)\n",
            "Requirement already satisfied: chardet<4,>=3.0.2 in /usr/local/lib/python3.7/dist-packages (from requests<3.0.0,>=2.13.0->spacy==2.3.6) (3.0.4)\n",
            "Requirement already satisfied: certifi>=2017.4.17 in /usr/local/lib/python3.7/dist-packages (from requests<3.0.0,>=2.13.0->spacy==2.3.6) (2021.5.30)\n",
            "Requirement already satisfied: urllib3!=1.25.0,!=1.25.1,<1.26,>=1.21.1 in /usr/local/lib/python3.7/dist-packages (from requests<3.0.0,>=2.13.0->spacy==2.3.6) (1.24.3)\n",
            "Requirement already satisfied: idna<3,>=2.5 in /usr/local/lib/python3.7/dist-packages (from requests<3.0.0,>=2.13.0->spacy==2.3.6) (2.10)\n",
            "Requirement already satisfied: importlib-metadata>=0.20; python_version < \"3.8\" in /usr/local/lib/python3.7/dist-packages (from catalogue<1.1.0,>=0.0.7->spacy==2.3.6) (4.6.1)\n",
            "Requirement already satisfied: typing-extensions>=3.6.4; python_version < \"3.8\" in /usr/local/lib/python3.7/dist-packages (from importlib-metadata>=0.20; python_version < \"3.8\"->catalogue<1.1.0,>=0.0.7->spacy==2.3.6) (3.7.4.3)\n",
            "Requirement already satisfied: zipp>=0.5 in /usr/local/lib/python3.7/dist-packages (from importlib-metadata>=0.20; python_version < \"3.8\"->catalogue<1.1.0,>=0.0.7->spacy==2.3.6) (3.5.0)\n",
            "Installing collected packages: spacy\n",
            "  Found existing installation: spacy 2.3.7\n",
            "    Uninstalling spacy-2.3.7:\n",
            "      Successfully uninstalled spacy-2.3.7\n",
            "Successfully installed spacy-2.3.6\n",
            "/usr/lib/python3.7/runpy.py:125: RuntimeWarning: 'nltk.downloader' found in sys.modules after import of package 'nltk', but prior to execution of 'nltk.downloader'; this may result in unpredictable behaviour\n",
            "  warn(RuntimeWarning(msg))\n",
            "[nltk_data] Downloading package stopwords to /root/nltk_data...\n",
            "[nltk_data]   Unzipping corpora/stopwords.zip.\n",
            "Collecting mojimoji\n",
            "\u001b[?25l  Downloading https://files.pythonhosted.org/packages/2f/86/56ae8e75a50c8bbcbfb71efded22f5332a6d710b772b95fd1088bf97bc70/mojimoji-0.0.11-cp37-cp37m-manylinux1_x86_64.whl (127kB)\n",
            "\u001b[K     |████████████████████████████████| 133kB 30.5MB/s \n",
            "\u001b[?25hInstalling collected packages: mojimoji\n",
            "Successfully installed mojimoji-0.0.11\n"
          ],
          "name": "stdout"
        }
      ]
    },
    {
      "cell_type": "code",
      "metadata": {
        "id": "K208G5ABAwr5"
      },
      "source": [
        "import pke\n",
        "import ginza\n",
        "import nltk\n",
        "import spacy\n",
        "import pandas as pd\n",
        "pke.base.lang_stopwords['ja_ginza'] = 'japanese'"
      ],
      "execution_count": 1,
      "outputs": []
    },
    {
      "cell_type": "code",
      "metadata": {
        "colab": {
          "base_uri": "https://localhost:8080/"
        },
        "id": "nc6D7JvG7D3P",
        "outputId": "4ff24ff1-0ca2-41b8-d1c7-adb4f57e4cdc"
      },
      "source": [
        "def get_key_phrase(spacy_model, text, n = 5):\n",
        "    \"\"\"キーフレーズ処理\n",
        "\n",
        "    Args:\n",
        "        text ([type]): キーフレーズ対象の文字列\n",
        "        n (int, optional): [description]. Defaults to 10.\n",
        "        gc_collect (bool, optional): [description]. Defaults to False.\n",
        "\n",
        "    Returns:\n",
        "        [type]: [description]\n",
        "    \"\"\"\n",
        "    #MultipartiteRankなどのキーフレーズの手法については以下のサイトが参考になります\n",
        "    #https://www.ogis-ri.co.jp/otc/hiroba/technical/similar-document-search/part5.html\n",
        "    extractor = pke.unsupervised.MultipartiteRank()\n",
        "    extractor.load_document(input=text, language='ja_ginza', normalization=None, spacy_model= spacy_model )\n",
        "    extractor.candidate_selection( pos={'NOUN', 'PROPN', 'ADJ', 'NUM'})\n",
        "    extractor.candidate_weighting(threshold=0.74, method='average', alpha=1.1)\n",
        "    key_phrase = extractor.get_n_best(n)\n",
        "    \n",
        "    return  key_phrase\n",
        "    \n",
        "    \n",
        "#spacyに設定されているstopwordを使う\n",
        "from  spacy.lang.ja import stop_words\n",
        "\n",
        "spacy_model = spacy.load(\"ja_ginza\")  # GiNZAモデルの読み込み\n",
        "print(spacy_model)\n",
        "stopwords = list(stop_words.STOP_WORDS)\n",
        "nltk.corpus.stopwords.words_org = nltk.corpus.stopwords.words\n",
        "nltk.corpus.stopwords.words = lambda lang : stopwords if lang == 'japanese' else nltk.corpus.stopwords.words_org(lang)"
      ],
      "execution_count": 7,
      "outputs": [
        {
          "output_type": "stream",
          "text": [
            "<spacy.lang.ja.Japanese object at 0x7f7b06c9b790>\n"
          ],
          "name": "stdout"
        }
      ]
    },
    {
      "cell_type": "code",
      "metadata": {
        "id": "82iBGGrwLDNW"
      },
      "source": [
        "import re\n",
        "import mojimoji\n",
        "def normalize_text(text):\n",
        "  # 全部全角に変換\n",
        "  result = mojimoji.han_to_zen(text)\n",
        "\n",
        "  # 全角から半角に変換（カナは除く）\n",
        "  result = mojimoji.zen_to_han(result, kana=False)\n",
        "\n",
        "  # 全ての文字を小文字に変換\n",
        "  result = result.lower()\n",
        "  \n",
        "  return re.sub(' ','', result)\n",
        "  # return re.sub(' ', '', mojimoji.zen_to_han(text)).upper().split()"
      ],
      "execution_count": 3,
      "outputs": []
    },
    {
      "cell_type": "code",
      "metadata": {
        "colab": {
          "base_uri": "https://localhost:8080/"
        },
        "id": "bZRWZqQR7zbJ",
        "outputId": "176f5706-13e5-44e8-9377-135488e7ce42"
      },
      "source": [
        "path = '/content/drive/MyDrive/Colab Notebooks/pre-judgit/data.json'\n",
        "with open(path, encoding='utf8')as f:\n",
        "  df = pd.read_json(f)\n",
        "\n",
        "df.info()"
      ],
      "execution_count": 4,
      "outputs": [
        {
          "output_type": "stream",
          "text": [
            "<class 'pandas.core.frame.DataFrame'>\n",
            "RangeIndex: 22115 entries, 0 to 22114\n",
            "Data columns (total 11 columns):\n",
            " #   Column       Non-Null Count  Dtype  \n",
            "---  ------       --------------  -----  \n",
            " 0   ID           22115 non-null  int64  \n",
            " 1   プロジェクトID     22115 non-null  int64  \n",
            " 2   公開年度         22115 non-null  int64  \n",
            " 3   主要政策・施策      22115 non-null  object \n",
            " 4   府省庁          22115 non-null  object \n",
            " 5   事業名          22115 non-null  object \n",
            " 6   事業の目的        22115 non-null  object \n",
            " 7   事業概要         22115 non-null  object \n",
            " 8   執行額          22115 non-null  float64\n",
            " 9   objective_x  22115 non-null  float64\n",
            " 10  objective_y  22115 non-null  float64\n",
            "dtypes: float64(3), int64(3), object(5)\n",
            "memory usage: 1.9+ MB\n"
          ],
          "name": "stdout"
        }
      ]
    },
    {
      "cell_type": "code",
      "metadata": {
        "colab": {
          "base_uri": "https://localhost:8080/"
        },
        "id": "-HDVBIFsDz8e",
        "outputId": "bce581f5-d52a-4390-c43f-9e7f24a19230"
      },
      "source": [
        "df_2018 = df.iloc[0:0]\n",
        "cnt = 0\n",
        "for i in range(len(df)):\n",
        "  if df.loc[i]['公開年度'] == 2018:\n",
        "    df_2018.loc[cnt] = df.loc[i]\n",
        "    cnt += 1"
      ],
      "execution_count": 5,
      "outputs": [
        {
          "output_type": "stream",
          "text": [
            "/usr/local/lib/python3.7/dist-packages/pandas/core/indexing.py:670: SettingWithCopyWarning: \n",
            "A value is trying to be set on a copy of a slice from a DataFrame\n",
            "\n",
            "See the caveats in the documentation: https://pandas.pydata.org/pandas-docs/stable/user_guide/indexing.html#returning-a-view-versus-a-copy\n",
            "  iloc._setitem_with_indexer(indexer, value)\n"
          ],
          "name": "stderr"
        }
      ]
    },
    {
      "cell_type": "code",
      "metadata": {
        "colab": {
          "base_uri": "https://localhost:8080/",
          "height": 1000
        },
        "id": "C-6wjyHkKliQ",
        "outputId": "26aef679-eb81-45c4-9453-374096c8515b"
      },
      "source": [
        "df_2018"
      ],
      "execution_count": null,
      "outputs": [
        {
          "output_type": "execute_result",
          "data": {
            "text/html": [
              "<div>\n",
              "<style scoped>\n",
              "    .dataframe tbody tr th:only-of-type {\n",
              "        vertical-align: middle;\n",
              "    }\n",
              "\n",
              "    .dataframe tbody tr th {\n",
              "        vertical-align: top;\n",
              "    }\n",
              "\n",
              "    .dataframe thead th {\n",
              "        text-align: right;\n",
              "    }\n",
              "</style>\n",
              "<table border=\"1\" class=\"dataframe\">\n",
              "  <thead>\n",
              "    <tr style=\"text-align: right;\">\n",
              "      <th></th>\n",
              "      <th>ID</th>\n",
              "      <th>プロジェクトID</th>\n",
              "      <th>公開年度</th>\n",
              "      <th>事業番号1</th>\n",
              "      <th>事業番号2</th>\n",
              "      <th>事業番号3</th>\n",
              "      <th>主要政策・施策</th>\n",
              "      <th>府省庁</th>\n",
              "      <th>事業名</th>\n",
              "      <th>事業の目的</th>\n",
              "      <th>事業概要</th>\n",
              "      <th>執行額</th>\n",
              "      <th>objective_x</th>\n",
              "      <th>objective_y</th>\n",
              "    </tr>\n",
              "  </thead>\n",
              "  <tbody>\n",
              "    <tr>\n",
              "      <th>0</th>\n",
              "      <td>15765</td>\n",
              "      <td>16</td>\n",
              "      <td>2018</td>\n",
              "      <td>nan</td>\n",
              "      <td>11</td>\n",
              "      <td>NaN</td>\n",
              "      <td>['その他']</td>\n",
              "      <td>内閣官房</td>\n",
              "      <td>内閣広報経費</td>\n",
              "      <td>内閣の重要施策に関する広報を首相官邸ホームページ等を通じ、国内外に対して迅速・正確に分かりや...</td>\n",
              "      <td>内閣総理大臣が国際会議等で外国を訪問した際の動向や発言を動画を用いて国民に分かりやすく伝える...</td>\n",
              "      <td>77.0</td>\n",
              "      <td>-3.439199</td>\n",
              "      <td>36.503059</td>\n",
              "    </tr>\n",
              "    <tr>\n",
              "      <th>1</th>\n",
              "      <td>15755</td>\n",
              "      <td>15</td>\n",
              "      <td>2018</td>\n",
              "      <td>nan</td>\n",
              "      <td>1</td>\n",
              "      <td>NaN</td>\n",
              "      <td>['その他']</td>\n",
              "      <td>内閣官房</td>\n",
              "      <td>内閣人事局経費</td>\n",
              "      <td>政府全体を通じた成果向上及び人材育成を狙いとして実施する。\\n各研修に応じ、①幹部候補育成課...</td>\n",
              "      <td>１．官民合同セミナー（幹部級）・(課長級)（幹部級：本府省の幹部職員並びに民間企業の取締役ク...</td>\n",
              "      <td>23.0</td>\n",
              "      <td>57.182091</td>\n",
              "      <td>-2.059250</td>\n",
              "    </tr>\n",
              "    <tr>\n",
              "      <th>2</th>\n",
              "      <td>15926</td>\n",
              "      <td>52</td>\n",
              "      <td>2018</td>\n",
              "      <td>nan</td>\n",
              "      <td>124</td>\n",
              "      <td>NaN</td>\n",
              "      <td>['その他']</td>\n",
              "      <td>内閣府</td>\n",
              "      <td>人道救援物資備蓄経費</td>\n",
              "      <td>国際連合平和維持活動等に対する協力に関する法律（平成４年法律第７９号。以下「国際平和協力法」...</td>\n",
              "      <td>国際連合等から人道的な国際救援活動への物資協力の要請をうけた場合、迅速に対応できるよう人道救...</td>\n",
              "      <td>59.0</td>\n",
              "      <td>46.140083</td>\n",
              "      <td>-57.230614</td>\n",
              "    </tr>\n",
              "    <tr>\n",
              "      <th>3</th>\n",
              "      <td>15964</td>\n",
              "      <td>35</td>\n",
              "      <td>2018</td>\n",
              "      <td>nan</td>\n",
              "      <td>162</td>\n",
              "      <td>NaN</td>\n",
              "      <td>['クールジャパン']</td>\n",
              "      <td>内閣府</td>\n",
              "      <td>クールジャパン戦略推進経費</td>\n",
              "      <td>ゲーム・マンガ・アニメといったコンテンツ、ファッション、産品、日本食、伝統文化、デザイン等、...</td>\n",
              "      <td>クールジャパン担当大臣等の海外出張を活用したクールジャパン発信イベント、クールジャパン戦略の...</td>\n",
              "      <td>49.0</td>\n",
              "      <td>2.651179</td>\n",
              "      <td>-55.060982</td>\n",
              "    </tr>\n",
              "    <tr>\n",
              "      <th>4</th>\n",
              "      <td>15924</td>\n",
              "      <td>84</td>\n",
              "      <td>2018</td>\n",
              "      <td>nan</td>\n",
              "      <td>122</td>\n",
              "      <td>NaN</td>\n",
              "      <td>['その他']</td>\n",
              "      <td>内閣府</td>\n",
              "      <td>国際平和協力隊の派遣等経費</td>\n",
              "      <td>国際連合平和維持活動等に対する協力に関する法律（平成４年法律第７９号。以下「国際平和協力法」...</td>\n",
              "      <td>国際連合の要請に基づき、引き続き南スーダンにおいて、国際平和協力業務を実施する。</td>\n",
              "      <td>78.0</td>\n",
              "      <td>46.272320</td>\n",
              "      <td>-57.395348</td>\n",
              "    </tr>\n",
              "    <tr>\n",
              "      <th>...</th>\n",
              "      <td>...</td>\n",
              "      <td>...</td>\n",
              "      <td>...</td>\n",
              "      <td>...</td>\n",
              "      <td>...</td>\n",
              "      <td>...</td>\n",
              "      <td>...</td>\n",
              "      <td>...</td>\n",
              "      <td>...</td>\n",
              "      <td>...</td>\n",
              "      <td>...</td>\n",
              "      <td>...</td>\n",
              "      <td>...</td>\n",
              "      <td>...</td>\n",
              "    </tr>\n",
              "    <tr>\n",
              "      <th>4368</th>\n",
              "      <td>20146</td>\n",
              "      <td>3574</td>\n",
              "      <td>2018</td>\n",
              "      <td>nan</td>\n",
              "      <td>32</td>\n",
              "      <td>NaN</td>\n",
              "      <td>['地球温暖化対策']</td>\n",
              "      <td>環境省</td>\n",
              "      <td>短期寿命気候汚染物質削減に関する国際パートナーシップ拠出金関連業務</td>\n",
              "      <td>国内におけるブラックカーボン等の短期寿命気候汚染物質（SLCP）の排出実態及び対策技術等に係...</td>\n",
              "      <td>１．短期寿命気候汚染物質削減に関する国際パートナーシップ拠出金\\n　CCACに対し、平成24...</td>\n",
              "      <td>327.0</td>\n",
              "      <td>-10.464338</td>\n",
              "      <td>-70.462219</td>\n",
              "    </tr>\n",
              "    <tr>\n",
              "      <th>4369</th>\n",
              "      <td>15941</td>\n",
              "      <td>44</td>\n",
              "      <td>2018</td>\n",
              "      <td>nan</td>\n",
              "      <td>139</td>\n",
              "      <td>NaN</td>\n",
              "      <td>['その他']</td>\n",
              "      <td>内閣府</td>\n",
              "      <td>中長期の経済運営に必要な経費</td>\n",
              "      <td>中長期の経済財政、社会基盤、社会保障等に係る重要政策の企画立案・検討に活用することを目的とし...</td>\n",
              "      <td>経済財政諮問会議等での中長期の経済財政政策の企画立案・検討に活用することを目的として、意見交...</td>\n",
              "      <td>21.6</td>\n",
              "      <td>28.345156</td>\n",
              "      <td>-26.662083</td>\n",
              "    </tr>\n",
              "    <tr>\n",
              "      <th>4370</th>\n",
              "      <td>18840</td>\n",
              "      <td>4895</td>\n",
              "      <td>2018</td>\n",
              "      <td>nan</td>\n",
              "      <td>204</td>\n",
              "      <td>NaN</td>\n",
              "      <td>['観光立国', '高齢社会対策', '子ども・若者育成支援', '障害者施策', '食育推...</td>\n",
              "      <td>農林水産省</td>\n",
              "      <td>農山漁村振興交付金</td>\n",
              "      <td>都市部において農山漁村の価値が再認識されるなかで、農山漁村の活性化、自立及び維持発展を図る...</td>\n",
              "      <td>１　地域活性化対策【補助率：定額】\\n　　農山漁村が持つ豊かな自然や「食」を活用した地域の活...</td>\n",
              "      <td>7886.0</td>\n",
              "      <td>-7.659595</td>\n",
              "      <td>-13.079552</td>\n",
              "    </tr>\n",
              "    <tr>\n",
              "      <th>4371</th>\n",
              "      <td>19154</td>\n",
              "      <td>3708</td>\n",
              "      <td>2018</td>\n",
              "      <td>nan</td>\n",
              "      <td>119</td>\n",
              "      <td>NaN</td>\n",
              "      <td>['その他']</td>\n",
              "      <td>経済産業省</td>\n",
              "      <td>中小企業・小規模事業者人材対策事業</td>\n",
              "      <td>（１）各地の中小企業・小規模事業者が必要とする人材を地域内外から発掘し、マッチング・定着など...</td>\n",
              "      <td>（１）①地域中小企業人材確保支援等事業（中核人材確保スキーム事業を除く）：各地域の中小企業・...</td>\n",
              "      <td>1454.0</td>\n",
              "      <td>-0.068404</td>\n",
              "      <td>-19.573669</td>\n",
              "    </tr>\n",
              "    <tr>\n",
              "      <th>4372</th>\n",
              "      <td>18677</td>\n",
              "      <td>4916</td>\n",
              "      <td>2018</td>\n",
              "      <td>nan</td>\n",
              "      <td>41</td>\n",
              "      <td>NaN</td>\n",
              "      <td>['地方創生']</td>\n",
              "      <td>農林水産省</td>\n",
              "      <td>農林水産物の品目別輸出促進緊急対策事業</td>\n",
              "      <td>平成28年５月に「農林水産業・地域の活力創造本部」において、「農林水産業の輸出力強化戦略」...</td>\n",
              "      <td>「農林水産業の輸出力強化戦略」及び「日本再興戦略改訂2016」に基づき、コメ、青果物、花き、...</td>\n",
              "      <td>2317.0</td>\n",
              "      <td>-43.197659</td>\n",
              "      <td>-32.510189</td>\n",
              "    </tr>\n",
              "  </tbody>\n",
              "</table>\n",
              "<p>4373 rows × 14 columns</p>\n",
              "</div>"
            ],
            "text/plain": [
              "         ID  プロジェクトID  公開年度  ...     執行額  objective_x  objective_y\n",
              "0     15765        16  2018  ...    77.0    -3.439199    36.503059\n",
              "1     15755        15  2018  ...    23.0    57.182091    -2.059250\n",
              "2     15926        52  2018  ...    59.0    46.140083   -57.230614\n",
              "3     15964        35  2018  ...    49.0     2.651179   -55.060982\n",
              "4     15924        84  2018  ...    78.0    46.272320   -57.395348\n",
              "...     ...       ...   ...  ...     ...          ...          ...\n",
              "4368  20146      3574  2018  ...   327.0   -10.464338   -70.462219\n",
              "4369  15941        44  2018  ...    21.6    28.345156   -26.662083\n",
              "4370  18840      4895  2018  ...  7886.0    -7.659595   -13.079552\n",
              "4371  19154      3708  2018  ...  1454.0    -0.068404   -19.573669\n",
              "4372  18677      4916  2018  ...  2317.0   -43.197659   -32.510189\n",
              "\n",
              "[4373 rows x 14 columns]"
            ]
          },
          "metadata": {
            "tags": []
          },
          "execution_count": 23
        }
      ]
    },
    {
      "cell_type": "code",
      "metadata": {
        "id": "7V9L-Dc5-7Qn"
      },
      "source": [
        "#分かち書きする文\n",
        "separation = \"事業の目的\"\n",
        "#separation = \"事業概要\""
      ],
      "execution_count": 6,
      "outputs": []
    },
    {
      "cell_type": "code",
      "metadata": {
        "colab": {
          "base_uri": "https://localhost:8080/"
        },
        "id": "ANcc9eUgA05r",
        "outputId": "2872cf21-39f4-468a-ea57-1beafbdeaaaa"
      },
      "source": [
        "get_key_phrase(spacy_model, df_2018.loc[i][separation])"
      ],
      "execution_count": 19,
      "outputs": [
        {
          "output_type": "execute_result",
          "data": {
            "text/plain": [
              "[('農林 水産業', 0.17165510719049945),\n",
              " ('活力 創造 本部', 0.12146554091274411),\n",
              " ('速やか', 0.10998361660281411),\n",
              " ('各種 取組', 0.10858420805958327),\n",
              " ('ｔｐｐ 関連 政策 大綱', 0.10723432742436731)]"
            ]
          },
          "metadata": {
            "tags": []
          },
          "execution_count": 19
        }
      ]
    },
    {
      "cell_type": "code",
      "metadata": {
        "colab": {
          "base_uri": "https://localhost:8080/"
        },
        "id": "7LqVCLYrLhro",
        "outputId": "e5cb71aa-40de-4ad8-ab07-94aeb1dd7583"
      },
      "source": [
        "df_pke = {}\n",
        "df_enpty = []\n",
        "for i in range(len(df_2018)):\n",
        "  if get_key_phrase(spacy_model, df_2018.loc[i][separation]) == []:\n",
        "    print(i)\n",
        "    df_pke[df_2018.loc[i]['プロジェクトID']] = ''\n",
        "    df_enpty.append(df_2018.loc[i]['プロジェクトID'])\n",
        "  else:\n",
        "    df_pke[df_2018.loc[i]['プロジェクトID']] = normalize_text(get_key_phrase(spacy_model, df_2018.loc[i][separation])[0][0])"
      ],
      "execution_count": 8,
      "outputs": [
        {
          "output_type": "stream",
          "text": [
            "62\n",
            "63\n",
            "1142\n",
            "1534\n",
            "1619\n",
            "2238\n",
            "2316\n",
            "2951\n",
            "3038\n",
            "3202\n",
            "3735\n",
            "3904\n",
            "4098\n",
            "4247\n"
          ],
          "name": "stdout"
        }
      ]
    },
    {
      "cell_type": "code",
      "metadata": {
        "colab": {
          "base_uri": "https://localhost:8080/",
          "height": 35
        },
        "id": "cGFklWa2RW1s",
        "outputId": "427cb243-fa13-4528-f8f6-9dab69eb65a8"
      },
      "source": [
        "normalize_text(get_key_phrase(spacy_model, df_2018.loc[i][separation])[0][0])"
      ],
      "execution_count": 9,
      "outputs": [
        {
          "output_type": "execute_result",
          "data": {
            "application/vnd.google.colaboratory.intrinsic+json": {
              "type": "string"
            },
            "text/plain": [
              "'農林水産業'"
            ]
          },
          "metadata": {
            "tags": []
          },
          "execution_count": 9
        }
      ]
    },
    {
      "cell_type": "code",
      "metadata": {
        "colab": {
          "base_uri": "https://localhost:8080/"
        },
        "id": "iFNKSxr8MTNw",
        "outputId": "84bb7c05-a29f-43f5-dd6b-33a963f257a7"
      },
      "source": [
        "len(df_enpty)"
      ],
      "execution_count": 10,
      "outputs": [
        {
          "output_type": "execute_result",
          "data": {
            "text/plain": [
              "14"
            ]
          },
          "metadata": {
            "tags": []
          },
          "execution_count": 10
        }
      ]
    },
    {
      "cell_type": "code",
      "metadata": {
        "colab": {
          "base_uri": "https://localhost:8080/"
        },
        "id": "yOzqgx8gRyOc",
        "outputId": "6be28cf7-733a-4f35-8851-94ca4047cd3f"
      },
      "source": [
        "df_2018.loc[63]['プロジェクトID']"
      ],
      "execution_count": 11,
      "outputs": [
        {
          "output_type": "execute_result",
          "data": {
            "text/plain": [
              "8344"
            ]
          },
          "metadata": {
            "tags": []
          },
          "execution_count": 11
        }
      ]
    },
    {
      "cell_type": "code",
      "metadata": {
        "colab": {
          "base_uri": "https://localhost:8080/"
        },
        "id": "c5gKt4lNSD-3",
        "outputId": "d4c74bd2-cdca-4f09-a143-ed48b17fefde"
      },
      "source": [
        "get_key_phrase(spacy_model, df_2018.loc[63][separation])"
      ],
      "execution_count": 12,
      "outputs": [
        {
          "output_type": "execute_result",
          "data": {
            "text/plain": [
              "[]"
            ]
          },
          "metadata": {
            "tags": []
          },
          "execution_count": 12
        }
      ]
    },
    {
      "cell_type": "code",
      "metadata": {
        "colab": {
          "base_uri": "https://localhost:8080/"
        },
        "id": "zLFAgmNrWE38",
        "outputId": "913d05c4-70cf-4382-d240-c358c2044d0a"
      },
      "source": [
        "print(df_2018.loc[100]['事業名'])\n",
        "print(df_2018.loc[100][separation])\n",
        "print(df_pke[df_2018.loc[100]['プロジェクトID']])"
      ],
      "execution_count": 13,
      "outputs": [
        {
          "output_type": "stream",
          "text": [
            "たばこ規制枠組条約締約国会議事務局分担金\n",
            "たばこの消費等が健康に及ぼす悪影響から現在及び将来の世代を保護する。\n",
            "たばこ\n"
          ],
          "name": "stdout"
        }
      ]
    },
    {
      "cell_type": "code",
      "metadata": {
        "colab": {
          "base_uri": "https://localhost:8080/",
          "height": 35
        },
        "id": "nNu-9D5OYY6V",
        "outputId": "4cf7e52a-ff9b-49ec-bebd-1fa7382be0a7"
      },
      "source": [
        "df_pke[8344]"
      ],
      "execution_count": 14,
      "outputs": [
        {
          "output_type": "execute_result",
          "data": {
            "application/vnd.google.colaboratory.intrinsic+json": {
              "type": "string"
            },
            "text/plain": [
              "''"
            ]
          },
          "metadata": {
            "tags": []
          },
          "execution_count": 14
        }
      ]
    },
    {
      "cell_type": "code",
      "metadata": {
        "id": "1kkaB3yLWwcv"
      },
      "source": [
        "import json\n",
        "obj = []\n",
        "for i in range(len(df_2018)):\n",
        "  obj.append({'プロジェクトID':int(df_2018.loc[i]['プロジェクトID']),\n",
        "             'pke':df_pke[df_2018.loc[i]['プロジェクトID']]})\n",
        "  \n",
        "with open('/content/drive/MyDrive/Colab Notebooks/pre-judgit/pke2018.json', 'w', encoding='utf8')as f:\n",
        "  json.dump(obj, f, indent = 2, ensure_ascii=False)"
      ],
      "execution_count": 15,
      "outputs": []
    },
    {
      "cell_type": "code",
      "metadata": {
        "id": "Ka4cYNuxPeL2"
      },
      "source": [
        "test = {}\n",
        "test['key'] = ''"
      ],
      "execution_count": null,
      "outputs": []
    },
    {
      "cell_type": "code",
      "metadata": {
        "colab": {
          "base_uri": "https://localhost:8080/",
          "height": 35
        },
        "id": "abSEp-vtZFoD",
        "outputId": "82fcac28-b25d-419d-f8fd-04918a985d56"
      },
      "source": [
        "test['key']"
      ],
      "execution_count": null,
      "outputs": [
        {
          "output_type": "execute_result",
          "data": {
            "application/vnd.google.colaboratory.intrinsic+json": {
              "type": "string"
            },
            "text/plain": [
              "''"
            ]
          },
          "metadata": {
            "tags": []
          },
          "execution_count": 39
        }
      ]
    },
    {
      "cell_type": "code",
      "metadata": {
        "id": "Zi7NlWkZZHeH"
      },
      "source": [
        ""
      ],
      "execution_count": null,
      "outputs": []
    }
  ]
}